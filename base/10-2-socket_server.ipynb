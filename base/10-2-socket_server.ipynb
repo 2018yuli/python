{
 "cells": [
  {
   "cell_type": "markdown",
   "metadata": {},
   "source": [
    "## Python 的 socket 编程"
   ]
  },
  {
   "cell_type": "code",
   "execution_count": 1,
   "metadata": {},
   "outputs": [
    {
     "name": "stdout",
     "output_type": "stream",
     "text": [
      "服务器已启动，等待连接...\n",
      "客户端连接: ('127.0.0.1', 54584)\n",
      "发送给服务器: bobby\n",
      "接收到客户端数据: bobby\n",
      "接收到服务器响应: hello bobby\n",
      "客户端和服务器通信完成\n"
     ]
    }
   ],
   "source": [
    "import socket\n",
    "import threading\n",
    "\n",
    "# 服务器逻辑\n",
    "def server_thread():\n",
    "    server = socket.socket(socket.AF_INET, socket.SOCK_STREAM)\n",
    "    server.bind(('0.0.0.0', 8000))  # 绑定到0.0.0.0和端口8000\n",
    "    server.listen()\n",
    "    print(\"服务器已启动，等待连接...\")\n",
    "    \n",
    "    # 接受客户端连接\n",
    "    soc, addr = server.accept()\n",
    "    print(f\"客户端连接: {addr}\")\n",
    "    \n",
    "    # 获取客户端发送的数据（最大1KB）\n",
    "    data = soc.recv(1024)\n",
    "    print(f\"接收到客户端数据: {data.decode('utf8')}\")\n",
    "    \n",
    "    # 发送响应数据\n",
    "    soc.send(f\"hello {data.decode('utf8')}\".encode(\"utf8\"))\n",
    "    \n",
    "    # 关闭连接\n",
    "    soc.close()\n",
    "    server.close()\n",
    "\n",
    "# 客户端逻辑\n",
    "def client_thread():\n",
    "    # 客户端连接到服务器\n",
    "    client = socket.socket(socket.AF_INET, socket.SOCK_STREAM)\n",
    "    client.connect(('127.0.0.1', 8000))\n",
    "    \n",
    "    # 发送数据\n",
    "    message = \"bobby\"\n",
    "    print(f\"发送给服务器: {message}\")\n",
    "    client.send(message.encode(\"utf8\"))\n",
    "    \n",
    "    # 获取服务器响应数据\n",
    "    data = client.recv(1024)\n",
    "    print(f\"接收到服务器响应: {data.decode('utf8')}\")\n",
    "    \n",
    "    # 关闭连接\n",
    "    client.close()\n",
    "\n",
    "# 创建并启动线程\n",
    "server_t = threading.Thread(target=server_thread)\n",
    "client_t = threading.Thread(target=client_thread)\n",
    "\n",
    "# 启动线程\n",
    "server_t.start()\n",
    "client_t.start()\n",
    "\n",
    "# 等待线程完成\n",
    "client_t.join()\n",
    "server_t.join()\n",
    "\n",
    "print(\"客户端和服务器通信完成\")\n"
   ]
  }
 ],
 "metadata": {
  "kernelspec": {
   "display_name": "Python 3",
   "language": "python",
   "name": "python3"
  },
  "language_info": {
   "codemirror_mode": {
    "name": "ipython",
    "version": 3
   },
   "file_extension": ".py",
   "mimetype": "text/x-python",
   "name": "python",
   "nbconvert_exporter": "python",
   "pygments_lexer": "ipython3",
   "version": "3.8.10"
  }
 },
 "nbformat": 4,
 "nbformat_minor": 2
}
