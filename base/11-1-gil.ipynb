{
 "cells": [
  {
   "cell_type": "markdown",
   "metadata": {},
   "source": [
    "## Python 中的 GIL\n",
    "- gil = global interpreter lock (cpython)\n",
    "- python 中的一个线程对应于 c 语言中的一个线程\n",
    "- gil 同一时刻，只有一个线程，在某一个cpu 上执行字节码\n",
    "    - 无法将多个线程映射到多个 cpu 上执行"
   ]
  },
  {
   "cell_type": "markdown",
   "metadata": {},
   "source": [
    "- 并发问题\n",
    "    - 实际上，total += 1 操作并不是原子操作。它可以被分解为：\n",
    "        - 读取 total 的当前值\n",
    "        - 将当前值加 1\n",
    "        - 将结果写回 total\n",
    "\n",
    "    - 在多线程的环境中，如果 thread1 和 thread2 同时执行 total += 1 和 total -= 1，就会发生竞争条件。比如：\n",
    "        - thread1 读取到 total 的值（假设是 0），然后线程切换到 thread2\n",
    "        - thread2 读取到 total 的值（仍然是 0），然后 total 被减少 1，结果是 total 变为 -1\n",
    "        - 然后切换回 thread1，它将读取到的值加 1，结果写回 total，最终 total 变成 1，而不是 0。"
   ]
  },
  {
   "cell_type": "code",
   "execution_count": null,
   "metadata": {},
   "outputs": [
    {
     "name": "stdout",
     "output_type": "stream",
     "text": [
      "total =  -98809\n"
     ]
    }
   ],
   "source": [
    "import threading\n",
    "\n",
    "total = 0\n",
    "\n",
    "def add():\n",
    "    global total\n",
    "    for i in range(1000_000):\n",
    "        total += 1\n",
    "\n",
    "def desc():\n",
    "    global total\n",
    "    for i in range(1000_000):\n",
    "        total -= 1\n",
    "\n",
    "# scheduler 基于代码行数+时间片进行调度\n",
    "thread1 = threading.Thread(target=add)\n",
    "thread2 = threading.Thread(target=desc)\n",
    "thread1.start()\n",
    "thread2.start()\n",
    "\n",
    "thread1.join()\n",
    "thread2.join()\n",
    "print(\"total = \", total)"
   ]
  }
 ],
 "metadata": {
  "kernelspec": {
   "display_name": "Python 3",
   "language": "python",
   "name": "python3"
  },
  "language_info": {
   "codemirror_mode": {
    "name": "ipython",
    "version": 3
   },
   "file_extension": ".py",
   "mimetype": "text/x-python",
   "name": "python",
   "nbconvert_exporter": "python",
   "pygments_lexer": "ipython3",
   "version": "3.8.10"
  }
 },
 "nbformat": 4,
 "nbformat_minor": 2
}
