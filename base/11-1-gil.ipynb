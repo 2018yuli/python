{
 "cells": [
  {
   "cell_type": "markdown",
   "metadata": {},
   "source": [
    "## Python 中的 GIL\n",
    "- gil = global interpreter lock (cpython)\n",
    "- python 中的一个线程对应于 c 语言中的一个线程\n",
    "- gil 同一时刻，只有一个线程，在某一个cpu 上执行字节码\n",
    "    - 无法将多个线程映射到多个 cpu 上执行"
   ]
  },
  {
   "cell_type": "code",
   "execution_count": null,
   "metadata": {},
   "outputs": [
    {
     "name": "stdout",
     "output_type": "stream",
     "text": [
      "total =  -98809\n"
     ]
    }
   ],
   "source": [
    "import threading\n",
    "\n",
    "total = 0\n",
    "\n",
    "def add():\n",
    "    global total\n",
    "    for i in range(1000_000):\n",
    "        total += 1\n",
    "\n",
    "def desc():\n",
    "    global total\n",
    "    for i in range(1000_000):\n",
    "        total -= 1\n",
    "\n",
    "# scheduler 基于代码行数+时间片进行调度\n",
    "thread1 = threading.Thread(target=add)\n",
    "thread2 = threading.Thread(target=desc)\n",
    "thread1.start()\n",
    "thread2.start()\n",
    "\n",
    "thread1.join()\n",
    "thread2.join()\n",
    "print(\"total = \", total)"
   ]
  }
 ],
 "metadata": {
  "kernelspec": {
   "display_name": "Python 3",
   "language": "python",
   "name": "python3"
  },
  "language_info": {
   "codemirror_mode": {
    "name": "ipython",
    "version": 3
   },
   "file_extension": ".py",
   "mimetype": "text/x-python",
   "name": "python",
   "nbconvert_exporter": "python",
   "pygments_lexer": "ipython3",
   "version": "3.8.10"
  }
 },
 "nbformat": 4,
 "nbformat_minor": 2
}
