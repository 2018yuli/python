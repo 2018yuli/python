{
 "cells": [
  {
   "cell_type": "markdown",
   "metadata": {},
   "source": [
    "## Python 中的子进程测试"
   ]
  },
  {
   "cell_type": "code",
   "execution_count": 1,
   "metadata": {},
   "outputs": [
    {
     "name": "stdout",
     "output_type": "stream",
     "text": [
      "bobby\n",
      "子进程 1127703 ，父进程是:1126724.\n",
      "bobby\n",
      "我是父进程：1127703\n"
     ]
    }
   ],
   "source": [
    "import os\n",
    "import time\n",
    "\n",
    "# fork 只能用于 linux、unic\n",
    "pid = os.fork()\n",
    "print(\"bobby\")\n",
    "if pid == 0:\n",
    "    print('子进程 {} ，父进程是:{}.'.format(os.getpid(), os.getppid()))\n",
    "else:\n",
    "    print('我是父进程：{}'.format(pid))\n",
    "\n",
    "time.sleep(2)"
   ]
  },
  {
   "cell_type": "code",
   "execution_count": null,
   "metadata": {},
   "outputs": [
    {
     "name": "stdout",
     "output_type": "stream",
     "text": [
      "bobby\n",
      "我是父进程：1129600\n",
      "bobby\n",
      "子进程 1129600 ，父进程是:1126724.\n"
     ]
    }
   ],
   "source": [
    "import os\n",
    "\n",
    "# 父进程退出后，子进程继续运行\n",
    "pid = os.fork()\n",
    "print(\"bobby\")\n",
    "if pid == 0:\n",
    "    print('子进程 {} ，父进程是:{}.'.format(os.getpid(), os.getppid()))\n",
    "else:\n",
    "    print('我是父进程：{}'.format(pid))\n"
   ]
  },
  {
   "cell_type": "markdown",
   "metadata": {},
   "source": [
    "- 流程分析\n",
    "    - 子进程 1127703 启动后，子进程完全拷贝一份到子进程\n",
    "    - 子进程打印 bobby\n",
    "    - 打印??"
   ]
  },
  {
   "cell_type": "code",
   "execution_count": 5,
   "metadata": {},
   "outputs": [
    {
     "name": "stdout",
     "output_type": "stream",
     "text": [
      "progress.pid =  None\n",
      "after start progress.pid =  1132515\n",
      "sub progress success.\n",
      "main progress end.\n"
     ]
    }
   ],
   "source": [
    "from concurrent.futures import ProcessPoolExecutor\n",
    "import multiprocessing\n",
    "\n",
    "# 多进程编程\n",
    "import time\n",
    "def get_html(n):\n",
    "    time.sleep(n)\n",
    "    print(\"sub progress success.\")\n",
    "    return n\n",
    "\n",
    "if __name__ == \"__main__\":\n",
    "    progress = multiprocessing.Process(target=get_html, args=(2, ))\n",
    "    print(\"progress.pid = \", progress.pid)\n",
    "    progress.start()\n",
    "    print(\"after start progress.pid = \", progress.pid)\n",
    "    progress.join()\n",
    "    print(\"main progress end.\")"
   ]
  },
  {
   "cell_type": "markdown",
   "metadata": {},
   "source": [
    "- 使用进程池"
   ]
  },
  {
   "cell_type": "code",
   "execution_count": 1,
   "metadata": {},
   "outputs": [
    {
     "name": "stdout",
     "output_type": "stream",
     "text": [
      "sub progress success.\n",
      "result.get() =  3\n"
     ]
    }
   ],
   "source": [
    "import multiprocessing\n",
    "\n",
    "# 多进程编程\n",
    "import time\n",
    "def get_html(n):\n",
    "    time.sleep(n)\n",
    "    print(\"sub progress success.\")\n",
    "    return n\n",
    "\n",
    "if __name__ == \"__main__\":\n",
    "    pool = multiprocessing.Pool(3)\n",
    "    result = pool.apply_async(get_html, args=(3, ))\n",
    "    # 等待所有任务完成\n",
    "    pool.close()\n",
    "    pool.join()\n",
    "    print(\"result.get() = \", result.get())"
   ]
  },
  {
   "cell_type": "code",
   "execution_count": 2,
   "metadata": {},
   "outputs": [
    {
     "name": "stdout",
     "output_type": "stream",
     "text": [
      "sub progress success.\n",
      "1 sleep success\n",
      "sub progress success.\n",
      "sub progress success.\n",
      "5 sleep success\n",
      "3 sleep success\n"
     ]
    }
   ],
   "source": [
    "import multiprocessing\n",
    "\n",
    "# 多进程编程\n",
    "import time\n",
    "def get_html(n):\n",
    "    time.sleep(n)\n",
    "    print(\"sub progress success.\")\n",
    "    return n\n",
    "\n",
    "if __name__ == \"__main__\":\n",
    "    pool = multiprocessing.Pool(3)\n",
    "    for result in pool.imap(get_html, [1, 5, 3]):\n",
    "        print(\"{} sleep success\".format(result))\n",
    "   "
   ]
  },
  {
   "cell_type": "code",
   "execution_count": 3,
   "metadata": {},
   "outputs": [
    {
     "name": "stdout",
     "output_type": "stream",
     "text": [
      "sub progress success.\n",
      "1 sleep success\n",
      "sub progress success.\n",
      "3 sleep success\n",
      "sub progress success.\n",
      "5 sleep success\n"
     ]
    }
   ],
   "source": [
    "import multiprocessing\n",
    "\n",
    "# 多进程编程\n",
    "import time\n",
    "def get_html(n):\n",
    "    time.sleep(n)\n",
    "    print(\"sub progress success.\")\n",
    "    return n\n",
    "\n",
    "if __name__ == \"__main__\":\n",
    "    pool = multiprocessing.Pool(3)\n",
    "    for result in pool.imap_unordered(get_html, [1, 5, 3]):\n",
    "        print(\"{} sleep success\".format(result))\n",
    "   "
   ]
  }
 ],
 "metadata": {
  "kernelspec": {
   "display_name": "Python 3",
   "language": "python",
   "name": "python3"
  },
  "language_info": {
   "codemirror_mode": {
    "name": "ipython",
    "version": 3
   },
   "file_extension": ".py",
   "mimetype": "text/x-python",
   "name": "python",
   "nbconvert_exporter": "python",
   "pygments_lexer": "ipython3",
   "version": "3.8.10"
  }
 },
 "nbformat": 4,
 "nbformat_minor": 2
}
