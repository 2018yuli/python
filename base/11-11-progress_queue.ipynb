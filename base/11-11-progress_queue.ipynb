{
 "cells": [
  {
   "cell_type": "markdown",
   "metadata": {},
   "source": [
    "## 进程间通信"
   ]
  },
  {
   "cell_type": "markdown",
   "metadata": {},
   "source": [
    "- 多线程中的 Queue 不再能适用多进程"
   ]
  },
  {
   "cell_type": "code",
   "execution_count": null,
   "metadata": {},
   "outputs": [],
   "source": [
    "from multiprocessing import Process\n",
    "from queue import Queue\n",
    "import time\n",
    "\n",
    "def producer(queue):\n",
    "    queue.put(\"a\")\n",
    "\n",
    "def consumer(queue):\n",
    "    time.sleep(2)\n",
    "    data = queue.get()\n",
    "    print(\"data = \", data)\n",
    "\n",
    "if __name__ == \"__main__\":\n",
    "    queue = Queue(2)\n",
    "    my_producer = Process(target=producer, args=(queue, ))\n",
    "    my_consumer = Process(target=consumer, args=(queue, ))\n",
    "    my_producer.start()\n",
    "    my_consumer.start()\n",
    "    my_producer.join()\n",
    "    my_consumer.join()"
   ]
  },
  {
   "cell_type": "markdown",
   "metadata": {},
   "source": [
    "- 多进程中，可以使用多进程中的 multiprocessing::Queue"
   ]
  },
  {
   "cell_type": "code",
   "execution_count": 10,
   "metadata": {},
   "outputs": [
    {
     "name": "stdout",
     "output_type": "stream",
     "text": [
      "data =  a\n"
     ]
    }
   ],
   "source": [
    "from multiprocessing import Process, Queue\n",
    "import time\n",
    "\n",
    "def producer(queue):\n",
    "    queue.put(\"a\")\n",
    "\n",
    "def consumer(queue):\n",
    "    time.sleep(2)\n",
    "    data = queue.get()\n",
    "    print(\"data = \", data)\n",
    "\n",
    "if __name__ == \"__main__\":\n",
    "    queue = Queue(2)\n",
    "    my_producer = Process(target=producer, args=(queue, ))\n",
    "    my_consumer = Process(target=consumer, args=(queue, ))\n",
    "    my_producer.start()\n",
    "    my_consumer.start()\n",
    "    my_producer.join()\n",
    "    my_consumer.join()"
   ]
  },
  {
   "cell_type": "markdown",
   "metadata": {},
   "source": [
    "- 共享全局变量通信，不适用于多进程编程"
   ]
  },
  {
   "cell_type": "code",
   "execution_count": 11,
   "metadata": {},
   "outputs": [
    {
     "name": "stdout",
     "output_type": "stream",
     "text": [
      "a =  1\n"
     ]
    }
   ],
   "source": [
    "from multiprocessing import Process, Queue\n",
    "import time\n",
    "\n",
    "def producer(a):\n",
    "    a += 1\n",
    "    time.sleep(2)\n",
    "\n",
    "def consumer(a):\n",
    "    time.sleep(2)\n",
    "    print(\"a = \", a)\n",
    "\n",
    "if __name__ == \"__main__\":\n",
    "    a = 1\n",
    "    my_producer = Process(target=producer, args=(a, ))\n",
    "    my_consumer = Process(target=consumer, args=(a, ))\n",
    "    my_producer.start()\n",
    "    my_consumer.start()\n",
    "    my_producer.join()\n",
    "    my_consumer.join()"
   ]
  },
  {
   "cell_type": "markdown",
   "metadata": {},
   "source": [
    "- multiprocessing 中的 Queue 不能用于 pool 进程"
   ]
  },
  {
   "cell_type": "code",
   "execution_count": 12,
   "metadata": {},
   "outputs": [],
   "source": [
    "from multiprocessing import Process, Queue, Pool\n",
    "import time\n",
    "\n",
    "def producer(queue):\n",
    "    queue.put(\"a\")\n",
    "\n",
    "def consumer(queue):\n",
    "    time.sleep(2)\n",
    "    data = queue.get()\n",
    "    print(\"data = \", data)\n",
    "\n",
    "if __name__ == \"__main__\":\n",
    "    queue = Queue(2)\n",
    "    pool = Pool(2)\n",
    "\n",
    "    pool.apply_async(producer, args=(queue, ))\n",
    "    pool.apply_async(consumer, args=(queue, ))\n",
    "\n",
    "    pool.close()\n",
    "    pool.join()"
   ]
  },
  {
   "cell_type": "markdown",
   "metadata": {},
   "source": [
    "-  pool 进程间的通信，可以使用 multiprocessing 中的 Manager 中的 Queue"
   ]
  },
  {
   "cell_type": "code",
   "execution_count": 13,
   "metadata": {},
   "outputs": [
    {
     "name": "stdout",
     "output_type": "stream",
     "text": [
      "data =  a\n"
     ]
    }
   ],
   "source": [
    "from multiprocessing import Process, Pool, Manager\n",
    "import time\n",
    "\n",
    "def producer(queue):\n",
    "    queue.put(\"a\")\n",
    "\n",
    "def consumer(queue):\n",
    "    time.sleep(2)\n",
    "    data = queue.get()\n",
    "    print(\"data = \", data)\n",
    "\n",
    "if __name__ == \"__main__\":\n",
    "    queue = Manager().Queue(2)\n",
    "    pool = Pool(2)\n",
    "\n",
    "    pool.apply_async(producer, args=(queue, ))\n",
    "    pool.apply_async(consumer, args=(queue, ))\n",
    "\n",
    "    pool.close()\n",
    "    pool.join()"
   ]
  },
  {
   "cell_type": "markdown",
   "metadata": {},
   "source": [
    "- 通过 pipe（管道） 实现进程间的通信\n",
    "    - pipe 只能适用于两个进程\n",
    "    - 性能比 queue 高，锁相对于 queue 更少"
   ]
  },
  {
   "cell_type": "code",
   "execution_count": null,
   "metadata": {},
   "outputs": [],
   "source": [
    "from multiprocessing import Process, Pipe\n",
    "import time\n",
    "\n",
    "def producer(queue):\n",
    "    queue.send(\"a\")\n",
    "    time.sleep(1)\n",
    "\n",
    "def consumer(queue):\n",
    "    time.sleep(2)\n",
    "    data = queue.recv()\n",
    "    print(\"data = \", data)\n",
    "\n",
    "if __name__ == \"__main__\":\n",
    "    rec_pipe, send_pipe = Pipe()\n",
    "    my_producer = Process(target=producer, args=(send_pipe, ))\n",
    "    my_consumer = Process(target=consumer, args=(rec_pipe, ))\n",
    "    my_producer.start()\n",
    "    my_consumer.start()\n",
    "    my_producer.join()\n",
    "    my_consumer.join()"
   ]
  },
  {
   "cell_type": "markdown",
   "metadata": {},
   "source": [
    "- 进程间共享内存"
   ]
  },
  {
   "cell_type": "code",
   "execution_count": null,
   "metadata": {},
   "outputs": [],
   "source": [
    "from multiprocessing import Process, Manager\n",
    "import time\n",
    "\n",
    "def producer(p_dict):\n",
    "    p_dict[\"a\"] = \"b\"\n",
    "    time.sleep(1)\n",
    "\n",
    "def consumer(p_dict):\n",
    "    time.sleep(2)\n",
    "    data = p_dict[\"a\"]\n",
    "    print(\"data = \", data)\n",
    "\n",
    "if __name__ == \"__main__\":\n",
    "    progress_dict = Manager().dict()\n",
    "    my_producer = Process(target=producer, args=(progress_dict, ))\n",
    "    my_consumer = Process(target=consumer, args=(progress_dict, ))\n",
    "    my_producer.start()\n",
    "    my_consumer.start()\n",
    "    my_producer.join()\n",
    "    my_consumer.join()\n"
   ]
  }
 ],
 "metadata": {
  "kernelspec": {
   "display_name": "Python 3",
   "language": "python",
   "name": "python3"
  },
  "language_info": {
   "codemirror_mode": {
    "name": "ipython",
    "version": 3
   },
   "file_extension": ".py",
   "mimetype": "text/x-python",
   "name": "python",
   "nbconvert_exporter": "python",
   "pygments_lexer": "ipython3",
   "version": "3.8.10"
  }
 },
 "nbformat": 4,
 "nbformat_minor": 2
}
