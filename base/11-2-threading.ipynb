{
 "cells": [
  {
   "cell_type": "markdown",
   "metadata": {},
   "source": [
    "## Python 中的多线程编程\n",
    "- 对于 io 操作来说，多线程和多进程差别不大"
   ]
  },
  {
   "cell_type": "code",
   "execution_count": 4,
   "metadata": {},
   "outputs": [
    {
     "name": "stdout",
     "output_type": "stream",
     "text": [
      "enter detail url\n",
      "enter detail html\n",
      "get detail url\n",
      "get detail html\n",
      "last time: 2.012185573577881\n"
     ]
    }
   ],
   "source": [
    "import time\n",
    "import threading\n",
    "\n",
    "def get_detail_html(url):\n",
    "    print(\"enter detail html\")\n",
    "    time.sleep(2)\n",
    "    print(\"get detail html\")\n",
    "\n",
    "def get_detail_url(url):\n",
    "    print(\"enter detail url\")\n",
    "    time.sleep(2)\n",
    "    print(\"get detail url\")\n",
    "\n",
    "if __name__ == \"__main__\":\n",
    "    thread1 = threading.Thread(target=get_detail_url, args=(\"\",))\n",
    "    thread2 = threading.Thread(target=get_detail_html, args=(\"\",))\n",
    "    start_time = time.time()\n",
    "    thread1.start()\n",
    "    thread2.start()\n",
    "\n",
    "    thread1.join()\n",
    "    thread2.join()\n",
    "    print(\"last time: {}\".format(time.time() - start_time))"
   ]
  },
  {
   "cell_type": "code",
   "execution_count": 5,
   "metadata": {},
   "outputs": [
    {
     "name": "stdout",
     "output_type": "stream",
     "text": [
      "enter detail url\n",
      "enter detail html\n",
      "get detail html\n",
      "get detail url\n",
      "last time: 2.0035364627838135\n"
     ]
    }
   ],
   "source": [
    "import time\n",
    "import threading\n",
    "\n",
    "class GetDetailHtml(threading.Thread):\n",
    "    def __init__(self, name):\n",
    "        super().__init__(name = name)\n",
    "\n",
    "    def run(self):\n",
    "        print(\"enter detail html\")\n",
    "        time.sleep(2)\n",
    "        print(\"get detail html\")\n",
    "\n",
    "class GetDetailUrl(threading.Thread):\n",
    "    def __init__(self, name):\n",
    "        super().__init__(name = name)\n",
    "\n",
    "    def run(self):\n",
    "        print(\"enter detail url\")\n",
    "        time.sleep(2)\n",
    "        print(\"get detail url\")\n",
    "    \n",
    "if __name__ == \"__main__\":\n",
    "    thread1 = GetDetailUrl(\"get_detail_url\")\n",
    "    thread2 = GetDetailHtml(\"get_detail_html\")\n",
    "    start_time = time.time()\n",
    "    thread1.start()\n",
    "    thread2.start()\n",
    "\n",
    "    thread1.join()\n",
    "    thread2.join()\n",
    "    print(\"last time: {}\".format(time.time() - start_time))"
   ]
  }
 ],
 "metadata": {
  "kernelspec": {
   "display_name": "Python 3",
   "language": "python",
   "name": "python3"
  },
  "language_info": {
   "codemirror_mode": {
    "name": "ipython",
    "version": 3
   },
   "file_extension": ".py",
   "mimetype": "text/x-python",
   "name": "python",
   "nbconvert_exporter": "python",
   "pygments_lexer": "ipython3",
   "version": "3.8.10"
  }
 },
 "nbformat": 4,
 "nbformat_minor": 2
}
