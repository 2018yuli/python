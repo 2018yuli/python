{
 "cells": [
  {
   "cell_type": "markdown",
   "metadata": {},
   "source": [
    "## Python 中的线程同步"
   ]
  },
  {
   "cell_type": "code",
   "execution_count": 1,
   "metadata": {},
   "outputs": [
    {
     "name": "stdout",
     "output_type": "stream",
     "text": [
      "total =  0\n"
     ]
    }
   ],
   "source": [
    "import threading\n",
    "from threading import Lock\n",
    "\n",
    "total = 0\n",
    "lock = Lock()\n",
    "\n",
    "def add():\n",
    "    global total\n",
    "    global lock\n",
    "    for i in range(1000_000):\n",
    "        lock.acquire()\n",
    "        total += 1\n",
    "        lock.release()\n",
    "\n",
    "def desc():\n",
    "    global total\n",
    "    global lock\n",
    "    for i in range(1000_000):\n",
    "        lock.acquire()\n",
    "        total -= 1\n",
    "        lock.release()\n",
    "\n",
    "# scheduler 基于代码行数+时间片进行调度\n",
    "thread1 = threading.Thread(target=add)\n",
    "thread2 = threading.Thread(target=desc)\n",
    "thread1.start()\n",
    "thread2.start()\n",
    "\n",
    "thread1.join()\n",
    "thread2.join()\n",
    "print(\"total = \", total)"
   ]
  },
  {
   "cell_type": "markdown",
   "metadata": {},
   "source": [
    "- 可重入锁"
   ]
  },
  {
   "cell_type": "code",
   "execution_count": 2,
   "metadata": {},
   "outputs": [
    {
     "name": "stdout",
     "output_type": "stream",
     "text": [
      "total =  0\n"
     ]
    }
   ],
   "source": [
    "import threading\n",
    "from threading import RLock\n",
    "\n",
    "total = 0\n",
    "lock = RLock()\n",
    "\n",
    "def add():\n",
    "    global total\n",
    "    global lock\n",
    "    for i in range(1000_000):\n",
    "        lock.acquire()\n",
    "        lock.acquire()\n",
    "        total += 1\n",
    "        lock.release()\n",
    "        lock.release()\n",
    "\n",
    "def desc():\n",
    "    global total\n",
    "    global lock\n",
    "    for i in range(1000_000):\n",
    "        lock.acquire()\n",
    "        total -= 1\n",
    "        lock.release()\n",
    "\n",
    "# scheduler 基于代码行数+时间片进行调度\n",
    "thread1 = threading.Thread(target=add)\n",
    "thread2 = threading.Thread(target=desc)\n",
    "thread1.start()\n",
    "thread2.start()\n",
    "\n",
    "thread1.join()\n",
    "thread2.join()\n",
    "print(\"total = \", total)"
   ]
  }
 ],
 "metadata": {
  "kernelspec": {
   "display_name": "Python 3",
   "language": "python",
   "name": "python3"
  },
  "language_info": {
   "codemirror_mode": {
    "name": "ipython",
    "version": 3
   },
   "file_extension": ".py",
   "mimetype": "text/x-python",
   "name": "python",
   "nbconvert_exporter": "python",
   "pygments_lexer": "ipython3",
   "version": "3.8.10"
  }
 },
 "nbformat": 4,
 "nbformat_minor": 2
}
