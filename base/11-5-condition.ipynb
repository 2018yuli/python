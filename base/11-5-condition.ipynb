{
 "cells": [
  {
   "cell_type": "markdown",
   "metadata": {},
   "source": [
    "## Python 中的条件变量"
   ]
  },
  {
   "cell_type": "code",
   "execution_count": 2,
   "metadata": {},
   "outputs": [
    {
     "name": "stdout",
     "output_type": "stream",
     "text": [
      "天猫精灵 : 小爱同学 \n",
      "天猫精灵 : 我们来对古诗吧 \n",
      "小爱 : 在 \n",
      "小爱 : 好啊 \n"
     ]
    }
   ],
   "source": [
    "import threading\n",
    "from threading import Condition\n",
    "\n",
    "class X(threading.Thread):\n",
    "    def __init__(self, lock):\n",
    "        super().__init__(name = \"小爱\")\n",
    "        self.lock = lock\n",
    "\n",
    "    def run(self):\n",
    "        self.lock.acquire()\n",
    "        print(\"{} : 在 \".format(self.name))\n",
    "        self.lock.release()\n",
    "\n",
    "        self.lock.acquire()\n",
    "        print(\"{} : 好啊 \".format(self.name))\n",
    "        self.lock.release()\n",
    "\n",
    "\n",
    "class T(threading.Thread):\n",
    "    def __init__(self, lock):\n",
    "        super().__init__(name = \"天猫精灵\")\n",
    "        self.lock = lock\n",
    "\n",
    "    def run(self):\n",
    "        self.lock.acquire()\n",
    "        print(\"{} : 小爱同学 \".format(self.name))\n",
    "        self.lock.release()\n",
    "\n",
    "        self.lock.acquire()\n",
    "        print(\"{} : 我们来对古诗吧 \".format(self.name))\n",
    "        self.lock.release()\n",
    "\n",
    "\n",
    "if __name__ == \"__main__\":\n",
    "    lock = threading.Lock()\n",
    "    x = X(lock)\n",
    "    t = T(lock)\n",
    "\n",
    "    t.start()\n",
    "    x.start()\n"
   ]
  },
  {
   "cell_type": "code",
   "execution_count": 7,
   "metadata": {},
   "outputs": [
    {
     "name": "stdout",
     "output_type": "stream",
     "text": [
      "天猫精灵 : 小爱同学 \n",
      "小爱 : 在 \n",
      "天猫精灵 : 我们来对古诗吧 \n",
      "小爱 : 好啊 \n"
     ]
    }
   ],
   "source": [
    "import threading\n",
    "\n",
    "class X(threading.Thread):\n",
    "    def __init__(self, condition):\n",
    "        super().__init__(name = \"小爱\")\n",
    "        self.condition = condition\n",
    "\n",
    "    def run(self):\n",
    "        with self.condition:\n",
    "            self.condition.wait()\n",
    "            print(\"{} : 在 \".format(self.name))\n",
    "            self.condition.notify_all()\n",
    "\n",
    "            self.condition.wait()\n",
    "            print(\"{} : 好啊 \".format(self.name))\n",
    "            self.condition.notify_all()\n",
    "\n",
    "\n",
    "class T(threading.Thread):\n",
    "    def __init__(self, condition):\n",
    "        super().__init__(name = \"天猫精灵\")\n",
    "        self.condition = condition\n",
    "\n",
    "    def run(self):\n",
    "        with self.condition:\n",
    "            print(\"{} : 小爱同学 \".format(self.name))\n",
    "            self.condition.notify_all()\n",
    "\n",
    "            self.condition.wait()\n",
    "            print(\"{} : 我们来对古诗吧 \".format(self.name))\n",
    "            self.condition.notify_all()\n",
    "\n",
    "\n",
    "if __name__ == \"__main__\":\n",
    "    condition = threading.Condition()\n",
    "    x = X(condition)\n",
    "    t = T(condition)\n",
    "\n",
    "    x.start()\n",
    "    t.start()\n",
    "    \n"
   ]
  }
 ],
 "metadata": {
  "kernelspec": {
   "display_name": "Python 3",
   "language": "python",
   "name": "python3"
  },
  "language_info": {
   "codemirror_mode": {
    "name": "ipython",
    "version": 3
   },
   "file_extension": ".py",
   "mimetype": "text/x-python",
   "name": "python",
   "nbconvert_exporter": "python",
   "pygments_lexer": "ipython3",
   "version": "3.8.10"
  }
 },
 "nbformat": 4,
 "nbformat_minor": 2
}
