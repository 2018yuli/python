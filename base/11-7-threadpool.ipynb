{
 "cells": [
  {
   "cell_type": "markdown",
   "metadata": {},
   "source": [
    "## Python 中的线程池"
   ]
  },
  {
   "cell_type": "code",
   "execution_count": 2,
   "metadata": {},
   "outputs": [
    {
     "name": "stdout",
     "output_type": "stream",
     "text": [
      "False\n"
     ]
    },
    {
     "name": "stdout",
     "output_type": "stream",
     "text": [
      "get page 2 success\n",
      "get page 3 success\n"
     ]
    }
   ],
   "source": [
    "from concurrent.futures import ThreadPoolExecutor\n",
    "import time\n",
    "\n",
    "def get_html(times):\n",
    "    time.sleep(times)\n",
    "    print(\"get page {} success\".format(times))\n",
    "\n",
    "executor = ThreadPoolExecutor(max_workers=2)\n",
    "task1 = executor.submit(get_html, (3))\n",
    "task2 = executor.submit(get_html, (2))\n",
    "\n",
    "print(task1.done())"
   ]
  },
  {
   "cell_type": "code",
   "execution_count": 4,
   "metadata": {},
   "outputs": [
    {
     "name": "stdout",
     "output_type": "stream",
     "text": [
      "False\n",
      "get page 2 success\n",
      "get page 3 success\n",
      "True\n"
     ]
    }
   ],
   "source": [
    "from concurrent.futures import ThreadPoolExecutor\n",
    "import time\n",
    "\n",
    "def get_html(times):\n",
    "    time.sleep(times)\n",
    "    print(\"get page {} success\".format(times))\n",
    "\n",
    "executor = ThreadPoolExecutor(max_workers=2)\n",
    "task1 = executor.submit(get_html, (3))\n",
    "task2 = executor.submit(get_html, (2))\n",
    "\n",
    "print(task1.done())\n",
    "time.sleep(3)\n",
    "print(task1.done())"
   ]
  },
  {
   "cell_type": "code",
   "execution_count": null,
   "metadata": {},
   "outputs": [
    {
     "name": "stdout",
     "output_type": "stream",
     "text": [
      "False\n",
      "False\n"
     ]
    },
    {
     "name": "stdout",
     "output_type": "stream",
     "text": [
      "get page 2 success\n",
      "get page 3 success\n"
     ]
    }
   ],
   "source": [
    "from concurrent.futures import ThreadPoolExecutor\n",
    "import time\n",
    "\n",
    "def get_html(times):\n",
    "    time.sleep(times)\n",
    "    print(\"get page {} success\".format(times))\n",
    "    return times\n",
    "\n",
    "executor = ThreadPoolExecutor(max_workers=2)\n",
    "task1 = executor.submit(get_html, (3))\n",
    "task2 = executor.submit(get_html, (2))\n",
    "\n",
    "print(task1.result())"
   ]
  },
  {
   "cell_type": "code",
   "execution_count": 7,
   "metadata": {},
   "outputs": [
    {
     "name": "stdout",
     "output_type": "stream",
     "text": [
      "False\n",
      "False\n"
     ]
    },
    {
     "name": "stdout",
     "output_type": "stream",
     "text": [
      "get page 2 success\n",
      "get page 3 success\n"
     ]
    }
   ],
   "source": [
    "from concurrent.futures import ThreadPoolExecutor\n",
    "import time\n",
    "\n",
    "def get_html(times):\n",
    "    time.sleep(times)\n",
    "    print(\"get page {} success\".format(times))\n",
    "    return times\n",
    "\n",
    "executor = ThreadPoolExecutor(max_workers=2)\n",
    "task1 = executor.submit(get_html, (3))\n",
    "task2 = executor.submit(get_html, (2))\n",
    "\n",
    "print(task1.done())\n",
    "# 执行中，无法取消\n",
    "print(task2.cancel())"
   ]
  },
  {
   "cell_type": "code",
   "execution_count": null,
   "metadata": {},
   "outputs": [
    {
     "name": "stdout",
     "output_type": "stream",
     "text": [
      "False\n",
      "True\n"
     ]
    },
    {
     "name": "stdout",
     "output_type": "stream",
     "text": [
      "get page 3 success\n"
     ]
    }
   ],
   "source": [
    "from concurrent.futures import ThreadPoolExecutor\n",
    "import time\n",
    "\n",
    "def get_html(times):\n",
    "    time.sleep(times)\n",
    "    print(\"get page {} success\".format(times))\n",
    "    return times\n",
    "\n",
    "executor = ThreadPoolExecutor(max_workers=1)\n",
    "task1 = executor.submit(get_html, (3))\n",
    "task2 = executor.submit(get_html, (2))\n",
    "\n",
    "print(task1.done())\n",
    "# 执行中，无法取消\n",
    "print(task2.cancel())"
   ]
  },
  {
   "cell_type": "code",
   "execution_count": 10,
   "metadata": {},
   "outputs": [
    {
     "name": "stdout",
     "output_type": "stream",
     "text": [
      "get 2 page success\n",
      "get 3 page success\n",
      "get 4 page success\n"
     ]
    }
   ],
   "source": [
    "from concurrent.futures import ThreadPoolExecutor, as_completed\n",
    "import time\n",
    "\n",
    "def get_html(times):\n",
    "    time.sleep(times)\n",
    "    # print(\"get page {} success\".format(times))\n",
    "    return times\n",
    "\n",
    "executor = ThreadPoolExecutor(max_workers=2)\n",
    "\n",
    "urls = [3, 2, 4]\n",
    "all_task = [executor.submit(get_html, (url)) for url in urls]\n",
    "# 获取已经成功的 task 的返回\n",
    "for future in as_completed(all_task):\n",
    "    data = future.result()\n",
    "    print(\"get {} page success\".format(data))"
   ]
  },
  {
   "cell_type": "code",
   "execution_count": null,
   "metadata": {},
   "outputs": [
    {
     "name": "stdout",
     "output_type": "stream",
     "text": [
      "get 3 page success\n",
      "get 2 page success\n",
      "get 4 page success\n"
     ]
    }
   ],
   "source": [
    "from concurrent.futures import ThreadPoolExecutor\n",
    "import time\n",
    "\n",
    "def get_html(times):\n",
    "    time.sleep(times)\n",
    "    # print(\"get page {} success\".format(times))\n",
    "    return times\n",
    "\n",
    "executor = ThreadPoolExecutor(max_workers=2)\n",
    "\n",
    "urls = [3, 2, 4]\n",
    "# 打印顺序和输入 urls 中的顺序一致，而不是谁先完成使用哪一个\n",
    "for data in executor.map(get_html, urls):\n",
    "    print(\"get {} page success\".format(data))"
   ]
  },
  {
   "cell_type": "markdown",
   "metadata": {},
   "source": [
    "- wait 的使用"
   ]
  },
  {
   "cell_type": "code",
   "execution_count": 13,
   "metadata": {},
   "outputs": [
    {
     "name": "stdout",
     "output_type": "stream",
     "text": [
      "get page 2 success\n",
      "main thread\n",
      "get 2 page success\n",
      "get page 3 success\n",
      "get 3 page success\n",
      "get page 4 success\n",
      "get 4 page success\n"
     ]
    }
   ],
   "source": [
    "from concurrent.futures import ThreadPoolExecutor, as_completed, wait, FIRST_COMPLETED\n",
    "import time\n",
    "\n",
    "def get_html(times):\n",
    "    time.sleep(times)\n",
    "    print(\"get page {} success\".format(times))\n",
    "    return times\n",
    "\n",
    "executor = ThreadPoolExecutor(max_workers=2)\n",
    "\n",
    "urls = [3, 2, 4]\n",
    "all_task = [executor.submit(get_html, (url)) for url in urls]\n",
    "wait(all_task, return_when=FIRST_COMPLETED)\n",
    "print(\"main thread\")\n",
    "# 获取已经成功的 task 的返回\n",
    "for future in as_completed(all_task):\n",
    "    data = future.result()\n",
    "    print(\"get {} page success\".format(data))"
   ]
  }
 ],
 "metadata": {
  "kernelspec": {
   "display_name": "Python 3",
   "language": "python",
   "name": "python3"
  },
  "language_info": {
   "codemirror_mode": {
    "name": "ipython",
    "version": 3
   },
   "file_extension": ".py",
   "mimetype": "text/x-python",
   "name": "python",
   "nbconvert_exporter": "python",
   "pygments_lexer": "ipython3",
   "version": "3.8.10"
  }
 },
 "nbformat": 4,
 "nbformat_minor": 2
}
