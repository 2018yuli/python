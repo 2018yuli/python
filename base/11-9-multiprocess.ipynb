{
 "cells": [
  {
   "cell_type": "markdown",
   "metadata": {},
   "source": [
    "## Python 中的多进程编程\n",
    "- 因为有 GIL 锁，所以 Python 中有多进程编程\n",
    "- 对于耗费 cpu 的任务，使用多进程编程\n",
    "- 对于 IO 密集型任务，使用多线程编程"
   ]
  },
  {
   "cell_type": "code",
   "execution_count": 1,
   "metadata": {},
   "outputs": [
    {
     "name": "stdout",
     "output_type": "stream",
     "text": [
      "execute result 75025\n",
      "execute result 121393\n",
      "execute result 196418\n",
      "execute result 317811\n",
      "execute result 514229\n",
      "execute result 832040\n",
      "execute result 1346269\n",
      "execute result 2178309\n",
      "execute result 3524578\n",
      "execute result 5702887\n",
      "last time is 2.852806329727173\n"
     ]
    }
   ],
   "source": [
    "import time\n",
    "from concurrent.futures import ThreadPoolExecutor, as_completed\n",
    "\n",
    "def fib(n):\n",
    "    if n <= 2:\n",
    "        return 1\n",
    "    return fib(n-1) + fib(n-2)\n",
    "\n",
    "with ThreadPoolExecutor(3) as executor:\n",
    "    all_task = [executor.submit(fib, (num)) for num in range(25, 35)]\n",
    "    start_time = time.time()\n",
    "    for future in as_completed(all_task):\n",
    "        data = future.result()\n",
    "        print(\"execute result {}\".format(data))\n",
    "\n",
    "    print(\"last time is {}\".format(time.time() - start_time))"
   ]
  },
  {
   "cell_type": "code",
   "execution_count": 4,
   "metadata": {},
   "outputs": [
    {
     "name": "stdout",
     "output_type": "stream",
     "text": [
      "execute result 75025\n",
      "execute result 121393\n",
      "execute result 196418\n",
      "execute result 317811\n",
      "execute result 514229\n",
      "execute result 832040\n",
      "execute result 1346269\n",
      "execute result 2178309\n",
      "execute result 3524578\n",
      "execute result 5702887\n",
      "last time is 1.5068135261535645\n"
     ]
    }
   ],
   "source": [
    "import time\n",
    "from concurrent.futures import ProcessPoolExecutor, as_completed\n",
    "\n",
    "def fib(n):\n",
    "    if n <= 2:\n",
    "        return 1\n",
    "    return fib(n-1) + fib(n-2)\n",
    "\n",
    "# 当使用 ProcessPoolExecutor 时，在windows 上，一定要放在 if __name__ == \"__main__\": 内\n",
    "if __name__ == \"__main__\":\n",
    "    with ProcessPoolExecutor(3) as executor:\n",
    "        all_task = [executor.submit(fib, (num)) for num in range(25, 35)]\n",
    "        start_time = time.time()\n",
    "        for future in as_completed(all_task):\n",
    "            data = future.result()\n",
    "            print(\"execute result {}\".format(data))\n",
    "\n",
    "        print(\"last time is {}\".format(time.time() - start_time))"
   ]
  },
  {
   "cell_type": "code",
   "execution_count": 1,
   "metadata": {},
   "outputs": [
    {
     "name": "stdout",
     "output_type": "stream",
     "text": [
      "execute result 2\n",
      "execute result 2\n",
      "execute result 2\n",
      "execute result 2\n",
      "execute result 2\n",
      "execute result 2\n",
      "execute result 2\n",
      "execute result 2\n",
      "execute result 2\n",
      "execute result 2\n",
      "execute result 2\n",
      "execute result 2\n",
      "execute result 2\n",
      "execute result 2\n",
      "execute result 2\n",
      "execute result 2\n",
      "execute result 2\n",
      "execute result 2\n",
      "execute result 2\n",
      "execute result 2\n",
      "execute result 2\n",
      "execute result 2\n",
      "execute result 2\n",
      "execute result 2\n",
      "execute result 2\n",
      "execute result 2\n",
      "execute result 2\n",
      "execute result 2\n",
      "execute result 2\n",
      "execute result 2\n",
      "last time is 20.09833335876465\n"
     ]
    }
   ],
   "source": [
    "import time\n",
    "from concurrent.futures import ThreadPoolExecutor, as_completed\n",
    "\n",
    "def random_sleep(n):\n",
    "    time.sleep(n)\n",
    "    return n\n",
    "\n",
    "with ThreadPoolExecutor(3) as executor:\n",
    "    all_task = [executor.submit(random_sleep, (num)) for num in [2]*30]\n",
    "    start_time = time.time()\n",
    "    for future in as_completed(all_task):\n",
    "        data = future.result()\n",
    "        print(\"execute result {}\".format(data))\n",
    "\n",
    "    print(\"last time is {}\".format(time.time() - start_time))"
   ]
  },
  {
   "cell_type": "code",
   "execution_count": 2,
   "metadata": {},
   "outputs": [
    {
     "name": "stdout",
     "output_type": "stream",
     "text": [
      "execute result 2\n",
      "execute result 2\n",
      "execute result 2\n",
      "execute result 2\n",
      "execute result 2\n",
      "execute result 2\n",
      "execute result 2\n",
      "execute result 2\n",
      "execute result 2\n",
      "execute result 2\n",
      "execute result 2\n",
      "execute result 2\n",
      "execute result 2\n",
      "execute result 2\n",
      "execute result 2\n",
      "execute result 2\n",
      "execute result 2\n",
      "execute result 2\n",
      "execute result 2\n",
      "execute result 2\n",
      "execute result 2\n",
      "execute result 2\n",
      "execute result 2\n",
      "execute result 2\n",
      "execute result 2\n",
      "execute result 2\n",
      "execute result 2\n",
      "execute result 2\n",
      "execute result 2\n",
      "execute result 2\n",
      "last time is 20.114549160003662\n"
     ]
    }
   ],
   "source": [
    "import time\n",
    "from concurrent.futures import ProcessPoolExecutor, as_completed\n",
    "\n",
    "def random_sleep(n):\n",
    "    time.sleep(n)\n",
    "    return n\n",
    "\n",
    "if __name__ == \"__main__\":\n",
    "    with ProcessPoolExecutor(3) as executor:\n",
    "        all_task = [executor.submit(random_sleep, (num)) for num in [2]*30]\n",
    "        start_time = time.time()\n",
    "        for future in as_completed(all_task):\n",
    "            data = future.result()\n",
    "            print(\"execute result {}\".format(data))\n",
    "\n",
    "        print(\"last time is {}\".format(time.time() - start_time))"
   ]
  }
 ],
 "metadata": {
  "kernelspec": {
   "display_name": "Python 3",
   "language": "python",
   "name": "python3"
  },
  "language_info": {
   "codemirror_mode": {
    "name": "ipython",
    "version": 3
   },
   "file_extension": ".py",
   "mimetype": "text/x-python",
   "name": "python",
   "nbconvert_exporter": "python",
   "pygments_lexer": "ipython3",
   "version": "3.8.10"
  }
 },
 "nbformat": 4,
 "nbformat_minor": 2
}
