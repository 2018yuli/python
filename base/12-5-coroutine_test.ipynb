{
 "cells": [
  {
   "cell_type": "markdown",
   "id": "e75191ee",
   "metadata": {},
   "source": [
    "## Python 携程"
   ]
  },
  {
   "cell_type": "markdown",
   "id": "2b79fd5f",
   "metadata": {},
   "source": [
    "- 携程：有多个入口的函数"
   ]
  },
  {
   "cell_type": "code",
   "execution_count": 1,
   "id": "f6231af4",
   "metadata": {},
   "outputs": [
    {
     "name": "stdout",
     "output_type": "stream",
     "text": [
      "1\n",
      "2\n",
      "3\n"
     ]
    },
    {
     "ename": "StopIteration",
     "evalue": "bobby",
     "output_type": "error",
     "traceback": [
      "\u001b[0;31m---------------------------------------------------------------------------\u001b[0m",
      "\u001b[0;31mStopIteration\u001b[0m                             Traceback (most recent call last)",
      "Cell \u001b[0;32mIn[1], line 12\u001b[0m\n\u001b[1;32m     10\u001b[0m \u001b[38;5;28mprint\u001b[39m(\u001b[38;5;28mnext\u001b[39m(gen))\n\u001b[1;32m     11\u001b[0m \u001b[38;5;28mprint\u001b[39m(\u001b[38;5;28mnext\u001b[39m(gen))\n\u001b[0;32m---> 12\u001b[0m \u001b[38;5;28mprint\u001b[39m(\u001b[38;5;28;43mnext\u001b[39;49m\u001b[43m(\u001b[49m\u001b[43mgen\u001b[49m\u001b[43m)\u001b[49m)\n",
      "\u001b[0;31mStopIteration\u001b[0m: bobby"
     ]
    }
   ],
   "source": [
    "def gen_func():\n",
    "    yield 1\n",
    "    yield 2\n",
    "    yield 3\n",
    "    return \"bobby\"\n",
    "\n",
    "if __name__ == \"__main__\":\n",
    "    gen = gen_func()\n",
    "    print(next(gen))\n",
    "    print(next(gen))\n",
    "    print(next(gen))\n",
    "    print(next(gen))"
   ]
  },
  {
   "cell_type": "markdown",
   "id": "24afcc1f",
   "metadata": {},
   "source": [
    "- 生成器不止可以产生值，还可以接收值"
   ]
  },
  {
   "cell_type": "code",
   "execution_count": 5,
   "id": "306bab44",
   "metadata": {},
   "outputs": [
    {
     "name": "stdout",
     "output_type": "stream",
     "text": [
      "html content. http://projectsedu.com\n",
      "my_val =  2\n",
      "3\n"
     ]
    }
   ],
   "source": [
    "def gen_func():\n",
    "    # 1. 可以产出值，2. 可以接收值\n",
    "    html = yield \"http://projectsedu.com\"\n",
    "    print(html)\n",
    "    yield 2\n",
    "    yield 3\n",
    "    return \"bobby\"\n",
    "\n",
    "if __name__ == \"__main__\":\n",
    "    gen = gen_func()\n",
    "    # 1. 启动生成器方式有两种，next(), send\n",
    "    url = next(gen)\n",
    "    # 2. 传入，并重启生成器到，next\n",
    "    my_val = gen.send(\"html content. {}\".format(url))\n",
    "    print(\"my_val = \", my_val)    \n",
    "    print(next(gen))"
   ]
  },
  {
   "cell_type": "code",
   "execution_count": 6,
   "id": "327b5374",
   "metadata": {},
   "outputs": [
    {
     "ename": "TypeError",
     "evalue": "can't send non-None value to a just-started generator",
     "output_type": "error",
     "traceback": [
      "\u001b[0;31m---------------------------------------------------------------------------\u001b[0m",
      "\u001b[0;31mTypeError\u001b[0m                                 Traceback (most recent call last)",
      "Cell \u001b[0;32mIn[6], line 12\u001b[0m\n\u001b[1;32m     10\u001b[0m gen \u001b[38;5;241m=\u001b[39m gen_func()\n\u001b[1;32m     11\u001b[0m \u001b[38;5;66;03m# 1. 启动生成器方式有两种，next(), send\u001b[39;00m\n\u001b[0;32m---> 12\u001b[0m url \u001b[38;5;241m=\u001b[39m \u001b[43mgen\u001b[49m\u001b[38;5;241;43m.\u001b[39;49m\u001b[43msend\u001b[49m\u001b[43m(\u001b[49m\u001b[38;5;124;43m\"\u001b[39;49m\u001b[38;5;124;43m1\u001b[39;49m\u001b[38;5;124;43m\"\u001b[39;49m\u001b[43m)\u001b[49m\n\u001b[1;32m     13\u001b[0m \u001b[38;5;66;03m# 2. 传入，并重启生成器到，next\u001b[39;00m\n\u001b[1;32m     14\u001b[0m my_val \u001b[38;5;241m=\u001b[39m gen\u001b[38;5;241m.\u001b[39msend(\u001b[38;5;124m\"\u001b[39m\u001b[38;5;124mhtml content. \u001b[39m\u001b[38;5;132;01m{}\u001b[39;00m\u001b[38;5;124m\"\u001b[39m\u001b[38;5;241m.\u001b[39mformat(url))\n",
      "\u001b[0;31mTypeError\u001b[0m: can't send non-None value to a just-started generator"
     ]
    }
   ],
   "source": [
    "def gen_func():\n",
    "    # 1. 可以产出值，2. 可以接收值\n",
    "    html = yield \"http://projectsedu.com\"\n",
    "    print(html)\n",
    "    yield 2\n",
    "    yield 3\n",
    "    return \"bobby\"\n",
    "\n",
    "if __name__ == \"__main__\":\n",
    "    gen = gen_func()\n",
    "    # 1. 启动生成器方式有两种，next(), send\n",
    "    url = gen.send(\"1\")\n",
    "    # 2. 传入，并重启生成器到，next\n",
    "    my_val = gen.send(\"html content. {}\".format(url))\n",
    "    print(\"my_val = \", my_val)    \n",
    "    print(next(gen))"
   ]
  },
  {
   "cell_type": "code",
   "execution_count": null,
   "id": "47c38765",
   "metadata": {},
   "outputs": [
    {
     "name": "stdout",
     "output_type": "stream",
     "text": [
      "html content. http://projectsedu.com\n",
      "my_val =  2\n",
      "3\n"
     ]
    }
   ],
   "source": [
    "def gen_func():\n",
    "    # 1. 可以产出值，2. 可以接收值\n",
    "    html = yield \"http://projectsedu.com\"\n",
    "    print(html)\n",
    "    yield 2\n",
    "    yield 3\n",
    "    return \"bobby\"\n",
    "\n",
    "if __name__ == \"__main__\":\n",
    "    gen = gen_func()\n",
    "    # 1. 在调用 send 发送非 None 值之前，我们必须启动一次生成器\n",
    "    #   1. gen.send(None)\n",
    "    #   2. next(gen())\n",
    "    url = gen.send(None)\n",
    "    # 2. 传入，并重启生成器到，next\n",
    "    my_val = gen.send(\"html content. {}\".format(url))\n",
    "    print(\"my_val = \", my_val)    \n",
    "    print(next(gen))"
   ]
  }
 ],
 "metadata": {
  "kernelspec": {
   "display_name": "Python 3",
   "language": "python",
   "name": "python3"
  },
  "language_info": {
   "codemirror_mode": {
    "name": "ipython",
    "version": 3
   },
   "file_extension": ".py",
   "mimetype": "text/x-python",
   "name": "python",
   "nbconvert_exporter": "python",
   "pygments_lexer": "ipython3",
   "version": "3.8.10"
  }
 },
 "nbformat": 4,
 "nbformat_minor": 5
}
