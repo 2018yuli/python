{
 "cells": [
  {
   "cell_type": "markdown",
   "id": "807fffff",
   "metadata": {},
   "source": [
    "## 生成器关闭"
   ]
  },
  {
   "cell_type": "code",
   "execution_count": 3,
   "id": "b4975f1c",
   "metadata": {},
   "outputs": [
    {
     "name": "stdout",
     "output_type": "stream",
     "text": [
      "http://projectsedu.com\n"
     ]
    },
    {
     "ename": "StopIteration",
     "evalue": "",
     "output_type": "error",
     "traceback": [
      "\u001b[0;31m---------------------------------------------------------------------------\u001b[0m",
      "\u001b[0;31mStopIteration\u001b[0m                             Traceback (most recent call last)",
      "Cell \u001b[0;32mIn[3], line 12\u001b[0m\n\u001b[1;32m     10\u001b[0m \u001b[38;5;28mprint\u001b[39m(\u001b[38;5;28mnext\u001b[39m(gen))\n\u001b[1;32m     11\u001b[0m gen\u001b[38;5;241m.\u001b[39mclose()\n\u001b[0;32m---> 12\u001b[0m \u001b[38;5;28mprint\u001b[39m(\u001b[38;5;28;43mnext\u001b[39;49m\u001b[43m(\u001b[49m\u001b[43mgen\u001b[49m\u001b[43m)\u001b[49m)\n",
      "\u001b[0;31mStopIteration\u001b[0m: "
     ]
    }
   ],
   "source": [
    "def gen_func():\n",
    "    # 1. 可以产出值，2. 可以接收值\n",
    "    yield \"http://projectsedu.com\"\n",
    "    yield 2\n",
    "    yield 3\n",
    "    return \"bobby\"\n",
    "\n",
    "if __name__ == \"__main__\":\n",
    "    gen = gen_func()\n",
    "    print(next(gen))\n",
    "    gen.close()\n",
    "    print(next(gen))"
   ]
  },
  {
   "cell_type": "markdown",
   "id": "a8875b32",
   "metadata": {},
   "source": [
    "- class Exception(BaseException):\n",
    "- class GeneratorExit(BaseException):"
   ]
  },
  {
   "cell_type": "code",
   "execution_count": null,
   "id": "478b8536",
   "metadata": {},
   "outputs": [
    {
     "name": "stdout",
     "output_type": "stream",
     "text": [
      "http://projectsedu.com\n"
     ]
    },
    {
     "ename": "RuntimeError",
     "evalue": "generator ignored GeneratorExit",
     "output_type": "error",
     "traceback": [
      "\u001b[0;31m---------------------------------------------------------------------------\u001b[0m",
      "\u001b[0;31mRuntimeError\u001b[0m                              Traceback (most recent call last)",
      "Cell \u001b[0;32mIn[4], line 14\u001b[0m\n\u001b[1;32m     12\u001b[0m gen \u001b[38;5;241m=\u001b[39m gen_func()\n\u001b[1;32m     13\u001b[0m \u001b[38;5;28mprint\u001b[39m(\u001b[38;5;28mnext\u001b[39m(gen))\n\u001b[0;32m---> 14\u001b[0m \u001b[43mgen\u001b[49m\u001b[38;5;241;43m.\u001b[39;49m\u001b[43mclose\u001b[49m\u001b[43m(\u001b[49m\u001b[43m)\u001b[49m\n\u001b[1;32m     15\u001b[0m \u001b[38;5;28mprint\u001b[39m(\u001b[38;5;28mnext\u001b[39m(gen))\n",
      "\u001b[0;31mRuntimeError\u001b[0m: generator ignored GeneratorExit"
     ]
    }
   ],
   "source": [
    "def gen_func():\n",
    "    # 1. 可以产出值，2. 可以接收值\n",
    "    try:\n",
    "        yield \"http://projectsedu.com\"\n",
    "    except GeneratorExit:\n",
    "        pass\n",
    "    yield 2\n",
    "    yield 3\n",
    "    return \"bobby\"\n",
    "\n",
    "if __name__ == \"__main__\":\n",
    "    gen = gen_func()\n",
    "    print(next(gen))\n",
    "    gen.close()\n",
    "    print(next(gen))"
   ]
  },
  {
   "cell_type": "markdown",
   "id": "920a9823",
   "metadata": {},
   "source": [
    "- throw"
   ]
  },
  {
   "cell_type": "code",
   "execution_count": 9,
   "id": "1100824d",
   "metadata": {},
   "outputs": [
    {
     "name": "stdout",
     "output_type": "stream",
     "text": [
      "http://projectsedu.com\n",
      "Error: download error\n",
      "3\n"
     ]
    }
   ],
   "source": [
    "def gen_func():\n",
    "    # 1. 可以产出值，2. 可以接收值\n",
    "    try:\n",
    "        yield \"http://projectsedu.com\"\n",
    "    except Exception as e:\n",
    "        print(\"Error: {}\".format(e))\n",
    "    yield 2\n",
    "    yield 3\n",
    "    return \"bobby\"\n",
    "\n",
    "if __name__ == \"__main__\":\n",
    "    gen = gen_func()\n",
    "    print(next(gen))\n",
    "    # 还没有调用 next，是 yield \"http://projectsedu.com\" 的异常\n",
    "    gen.throw(Exception, \"download error\")\n",
    "    print(next(gen))"
   ]
  }
 ],
 "metadata": {
  "kernelspec": {
   "display_name": "Python 3",
   "language": "python",
   "name": "python3"
  },
  "language_info": {
   "codemirror_mode": {
    "name": "ipython",
    "version": 3
   },
   "file_extension": ".py",
   "mimetype": "text/x-python",
   "name": "python",
   "nbconvert_exporter": "python",
   "pygments_lexer": "ipython3",
   "version": "3.8.10"
  }
 },
 "nbformat": 4,
 "nbformat_minor": 5
}
