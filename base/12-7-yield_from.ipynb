{
 "cells": [
  {
   "cell_type": "markdown",
   "id": "043d2a9d",
   "metadata": {},
   "source": [
    "## Python3.3 yield from 语法"
   ]
  },
  {
   "cell_type": "markdown",
   "id": "3fa51c61",
   "metadata": {},
   "source": [
    "- chain 可以将迭代的类型连接起来"
   ]
  },
  {
   "cell_type": "code",
   "execution_count": 2,
   "id": "b45d48c4",
   "metadata": {},
   "outputs": [
    {
     "name": "stdout",
     "output_type": "stream",
     "text": [
      "1\n",
      "2\n",
      "3\n",
      "bobby1\n",
      "bobby2\n",
      "5\n",
      "6\n",
      "7\n",
      "8\n",
      "9\n"
     ]
    }
   ],
   "source": [
    "from itertools import chain\n",
    "\n",
    "my_list = [1, 2 ,3]\n",
    "my_dict = {\n",
    "    \"bobby1\": \"http://projectsedu.com\",\n",
    "    \"bobby2\": \"http://www.imooc.com\"\n",
    "}\n",
    "\n",
    "for value in chain(my_list, my_dict, range(5, 10)):\n",
    "    print(value)"
   ]
  },
  {
   "cell_type": "markdown",
   "id": "3889308d",
   "metadata": {},
   "source": [
    "- 实现自己的 chain"
   ]
  },
  {
   "cell_type": "code",
   "execution_count": 3,
   "id": "1c592dd7",
   "metadata": {},
   "outputs": [
    {
     "name": "stdout",
     "output_type": "stream",
     "text": [
      "1\n",
      "2\n",
      "3\n",
      "bobby1\n",
      "bobby2\n",
      "5\n",
      "6\n",
      "7\n",
      "8\n",
      "9\n"
     ]
    }
   ],
   "source": [
    "my_list = [1, 2 ,3]\n",
    "my_dict = {\n",
    "    \"bobby1\": \"http://projectsedu.com\",\n",
    "    \"bobby2\": \"http://www.imooc.com\"\n",
    "}\n",
    "\n",
    "def my_chain(*args, **kwargs):\n",
    "    for my_iterable in args:\n",
    "        for value in my_iterable:\n",
    "            yield value\n",
    "\n",
    "for value in my_chain(my_list, my_dict, range(5, 10)):\n",
    "    print(value)"
   ]
  },
  {
   "cell_type": "markdown",
   "id": "b80d227f",
   "metadata": {},
   "source": [
    "- yield from 的用法"
   ]
  },
  {
   "cell_type": "code",
   "execution_count": 4,
   "id": "30c4833a",
   "metadata": {},
   "outputs": [
    {
     "name": "stdout",
     "output_type": "stream",
     "text": [
      "1\n",
      "2\n",
      "3\n",
      "bobby1\n",
      "bobby2\n",
      "5\n",
      "6\n",
      "7\n",
      "8\n",
      "9\n"
     ]
    }
   ],
   "source": [
    "my_list = [1, 2 ,3]\n",
    "my_dict = {\n",
    "    \"bobby1\": \"http://projectsedu.com\",\n",
    "    \"bobby2\": \"http://www.imooc.com\"\n",
    "}\n",
    "\n",
    "# yield from iterable\n",
    "def my_chain(*args, **kwargs):\n",
    "    for my_iterable in args:\n",
    "        yield from my_iterable\n",
    "\n",
    "for value in my_chain(my_list, my_dict, range(5, 10)):\n",
    "    print(value)"
   ]
  },
  {
   "cell_type": "markdown",
   "id": "9696cde5",
   "metadata": {},
   "source": [
    "- yield from 功能演示2"
   ]
  },
  {
   "cell_type": "code",
   "execution_count": 5,
   "id": "75c9c592",
   "metadata": {},
   "outputs": [
    {
     "name": "stdout",
     "output_type": "stream",
     "text": [
      "range(0, 10)\n",
      "---------------------------\n",
      "0\n",
      "1\n",
      "2\n",
      "3\n",
      "4\n",
      "5\n",
      "6\n",
      "7\n",
      "8\n",
      "9\n"
     ]
    }
   ],
   "source": [
    "def g1(iterable):\n",
    "    yield iterable\n",
    "    \n",
    "def g2(iterable):\n",
    "    yield from iterable\n",
    "\n",
    "for value in g1(range(10)):\n",
    "    print(value)\n",
    "\n",
    "print(\"---------------------------\")\n",
    "    \n",
    "for value in g2(range(10)):\n",
    "    print(value)"
   ]
  },
  {
   "cell_type": "markdown",
   "id": "e0c28dc3",
   "metadata": {},
   "source": [
    "- yield from 功能演示3\n",
    "    - 会直接建立 子生成器 与 调用方的 双向 chan"
   ]
  },
  {
   "cell_type": "code",
   "execution_count": 9,
   "id": "a6c9d5f7",
   "metadata": {},
   "outputs": [
    {
     "name": "stdout",
     "output_type": "stream",
     "text": [
      "1\n",
      "2\n",
      "3\n"
     ]
    }
   ],
   "source": [
    "# 子生成器\n",
    "def gen(n):\n",
    "    yield from range(n)\n",
    "\n",
    "# 委托生成器\n",
    "def g1(gen):\n",
    "    yield from gen\n",
    "\n",
    "# 调用方\n",
    "def main():\n",
    "    g = g1(gen(4))\n",
    "    g.send(None)\n",
    "    for value in g:\n",
    "        print(value)\n",
    "\n",
    "main()"
   ]
  },
  {
   "cell_type": "markdown",
   "id": "b6aaa497",
   "metadata": {},
   "source": [
    "- yield_from 综合例子"
   ]
  },
  {
   "cell_type": "code",
   "execution_count": 10,
   "id": "3f556246",
   "metadata": {},
   "outputs": [
    {
     "name": "stdout",
     "output_type": "stream",
     "text": [
      "start key: 面膜\n",
      "面膜 销量： 1200\n",
      "面膜 销量： 1500\n",
      "面膜 销量： 2100\n",
      "面膜 销量： None\n",
      "面膜销量统计完成！！！\n",
      "start key: 手机\n",
      "手机 销量： 28\n",
      "手机 销量： 55\n",
      "手机 销量： 98\n",
      "手机 销量： 108\n",
      "手机 销量： None\n",
      "手机销量统计完成！！！\n",
      "start key: 大衣\n",
      "大衣 销量： 280\n",
      "大衣 销量： 560\n",
      "大衣 销量： 78\n",
      "大衣 销量： 90\n",
      "大衣 销量： None\n",
      "大衣销量统计完成！！！\n",
      "final_result: {'面膜': (4800, [1200, 1500, 2100]), '手机': (289, [28, 55, 98, 108]), '大衣': (1008, [280, 560, 78, 90])}\n"
     ]
    }
   ],
   "source": [
    "final_result = {}\n",
    "\n",
    "def sales_sum(pro_name):\n",
    "    total = 0\n",
    "    nums = []\n",
    "    while True:\n",
    "        x = yield\n",
    "        print(pro_name+\" 销量：\", x)\n",
    "        if not x:\n",
    "            break\n",
    "        total += x\n",
    "        nums.append(x)\n",
    "    return total, nums\n",
    "\n",
    "def delegationGen(key):\n",
    "    while True:\n",
    "        final_result[key] = yield from sales_sum(key)\n",
    "        print(key+\"销量统计完成！！！\")\n",
    "        \n",
    "def main():\n",
    "    data_sets = {\n",
    "        \"面膜\": [1200, 1500, 2100],\n",
    "        \"手机\": [28, 55, 98, 108],\n",
    "        \"大衣\": [280, 560, 78, 90]\n",
    "    }\n",
    "    for key, data_set in data_sets.items():\n",
    "        print(\"start key:\", key)\n",
    "        delegate = delegationGen(key)\n",
    "        delegate.send(None)\n",
    "        for value in data_set:\n",
    "            delegate.send(value)\n",
    "        delegate.send(None)\n",
    "    print(\"final_result:\", final_result)\n",
    "    \n",
    "if __name__ == \"__main__\":\n",
    "    main()"
   ]
  },
  {
   "cell_type": "markdown",
   "id": "4fb5380d",
   "metadata": {
    "vscode": {
     "languageId": "raw"
    }
   },
   "source": [
    "package main\n",
    "\n",
    "import (\n",
    "\t\"fmt\"\n",
    ")\n",
    "\n",
    "func salesSum(proName string, ch chan int) (int, []int) {\n",
    "\ttotal := 0\n",
    "\tnums := []int{}\n",
    "\tfor x := range ch {\n",
    "\t\tfmt.Printf(\"%s 销量： %d\\n\", proName, x)\n",
    "\t\ttotal += x\n",
    "\t\tnums = append(nums, x)\n",
    "\t}\n",
    "\treturn total, nums\n",
    "}\n",
    "\n",
    "func delegationGen(key string, data []int, resultCh chan map[string][2]int) {\n",
    "\tfinalResult := make(map[string][2]int)\n",
    "\tch := make(chan int)\n",
    "\n",
    "\t// Goroutine to process salesSum\n",
    "\tgo func() {\n",
    "\t\ttotal, nums := salesSum(key, ch)\n",
    "\t\tfinalResult[key] = [2]int{total, len(nums)} // Store total sales and count of sales\n",
    "\t\tfmt.Println(key + \"销量统计完成！！！\")\n",
    "\t\t// Send the final result back to the main function via resultCh\n",
    "\t\tresultCh <- finalResult\n",
    "\t}()\n",
    "\n",
    "\t// Sending data to the salesSum goroutine through the channel\n",
    "\tfor _, value := range data {\n",
    "\t\tch <- value\n",
    "\t}\n",
    "\n",
    "\t// Close the channel when done sending data\n",
    "\tclose(ch)\n",
    "}\n",
    "\n",
    "func main() {\n",
    "\tdataSets := map[string][]int{\n",
    "\t\t\"面膜\": {1200, 1500, 2100},\n",
    "\t\t\"手机\": {28, 55, 98, 108},\n",
    "\t\t\"大衣\": {280, 560, 78, 90},\n",
    "\t}\n",
    "\n",
    "\tfinalResult := make(map[string][2]int)\n",
    "\tresultCh := make(chan map[string][2]int)\n",
    "\n",
    "\t// Start processing each product data in a goroutine\n",
    "\tfor key, dataSet := range dataSets {\n",
    "\t\tfmt.Println(\"start key:\", key)\n",
    "\t\tgo delegationGen(key, dataSet, resultCh)\n",
    "\t}\n",
    "\n",
    "\t// Collect results from the channels\n",
    "\tfor range dataSets {\n",
    "\t\tpartialResult := <-resultCh\n",
    "\t\tfor k, v := range partialResult {\n",
    "\t\t\tfinalResult[k] = v\n",
    "\t\t}\n",
    "\t}\n",
    "\n",
    "\t// Print final result after all goroutines have completed\n",
    "\tfmt.Printf(\"final_result: %v \\r\\n\", finalResult)\n",
    "}"
   ]
  },
  {
   "cell_type": "markdown",
   "id": "a4cc7d89",
   "metadata": {},
   "source": [
    "start key: 面膜\n",
    "start key: 手机       \n",
    "面膜 销量： 1200      \n",
    "面膜 销量： 1500      \n",
    "面膜 销量： 2100      \n",
    "面膜销量统计完成！！！\n",
    "手机 销量： 28        \n",
    "start key: 大衣       \n",
    "手机 销量： 55\n",
    "手机 销量： 98\n",
    "手机 销量： 108\n",
    "手机销量统计完成！！！\n",
    "大衣 销量： 280\n",
    "大衣 销量： 560\n",
    "大衣 销量： 78\n",
    "大衣 销量： 90\n",
    "大衣销量统计完成！！！\n",
    "final_result: map[大衣:[1008 4] 手机:[289 4] 面膜:[4800 3]]"
   ]
  }
 ],
 "metadata": {
  "kernelspec": {
   "display_name": "Python 3",
   "language": "python",
   "name": "python3"
  },
  "language_info": {
   "codemirror_mode": {
    "name": "ipython",
    "version": 3
   },
   "file_extension": ".py",
   "mimetype": "text/x-python",
   "name": "python",
   "nbconvert_exporter": "python",
   "pygments_lexer": "ipython3",
   "version": "3.8.10"
  }
 },
 "nbformat": 4,
 "nbformat_minor": 5
}
