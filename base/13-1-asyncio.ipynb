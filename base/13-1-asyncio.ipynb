{
 "cells": [
  {
   "cell_type": "markdown",
   "id": "9eb7c3e2",
   "metadata": {},
   "source": [
    "## Python Asyncio"
   ]
  },
  {
   "cell_type": "code",
   "execution_count": 14,
   "id": "ae0022bb",
   "metadata": {},
   "outputs": [
    {
     "name": "stdout",
     "output_type": "stream",
     "text": [
      "start get url\n",
      "start get url\n",
      "start get url\n",
      "start get url\n",
      "start get url\n",
      "end get url\n",
      "end get url\n",
      "end get url\n",
      "end get url\n",
      "end get url\n",
      "lasts  2.008498430252075\n",
      "lasts  2.008527994155884\n",
      "lasts  2.00854229927063\n",
      "lasts  2.008554697036743\n",
      "lasts  2.0085670948028564\n"
     ]
    }
   ],
   "source": [
    "import asyncio\n",
    "import time\n",
    "\n",
    "# 注意：不要阻塞 EventLoop\n",
    "async def get_html(url):\n",
    "    print(\"start get url\")\n",
    "    await asyncio.sleep(2)\n",
    "    print(\"end get url\")\n",
    "\n",
    "def callback(task, start_time):\n",
    "    print(\"lasts \", time.time() - start_time)\n",
    "\n",
    "# 携程必须搭配时间循环才能使用\n",
    "if __name__ == \"__main__\":\n",
    "    start_time = time.time()\n",
    "    loop = asyncio.get_event_loop()\n",
    "    \n",
    "    # If the event loop is already running, use create_task to schedule the coroutine\n",
    "    if loop.is_running():\n",
    "        tasks = [loop.create_task(get_html(\"http://www.imooc.com\")) for _ in range(5)]\n",
    "        for task in tasks:\n",
    "            task.add_done_callback(lambda t: callback(t, start_time))\n",
    "    else:\n",
    "        loop.run_until_complete(get_html(\"http://www.imooc.com\"))\n",
    "        print(\"lasts \", time.time() - start_time)"
   ]
  },
  {
   "cell_type": "code",
   "execution_count": null,
   "id": "4c24e1bd",
   "metadata": {},
   "outputs": [
    {
     "name": "stdout",
     "output_type": "stream",
     "text": [
      "start get url\n",
      "end get url\n",
      "start get url\n",
      "end get url\n",
      "start get url\n",
      "end get url\n",
      "start get url\n",
      "end get url\n",
      "start get url\n",
      "end get url\n",
      "lasts  10.01781702041626\n",
      "lasts  10.017862558364868\n",
      "lasts  10.017876386642456\n",
      "lasts  10.017888307571411\n",
      "lasts  10.017900705337524\n"
     ]
    }
   ],
   "source": [
    "import asyncio\n",
    "import time\n",
    "\n",
    "# 注意：不要阻塞 EventLoop\n",
    "async def get_html(url):\n",
    "    print(\"start get url\")\n",
    "    time.sleep(2)\n",
    "    print(\"end get url\")\n",
    "\n",
    "def callback(task, start_time):\n",
    "    print(\"lasts \", time.time() - start_time)\n",
    "\n",
    "# 携程必须搭配时间循环才能使用\n",
    "if __name__ == \"__main__\":\n",
    "    start_time = time.time()\n",
    "    loop = asyncio.get_event_loop()\n",
    "    \n",
    "    # If the event loop is already running, use create_task to schedule the coroutine\n",
    "    if loop.is_running():\n",
    "        tasks = [loop.create_task(get_html(\"http://www.imooc.com\")) for _ in range(5)]\n",
    "        for task in tasks:\n",
    "            # 这个 done_callback 会等到所有任务都执行完成后再 callback?\n",
    "            task.add_done_callback(lambda t: callback(t, start_time))\n",
    "    else:\n",
    "        loop.run_until_complete(get_html(\"http://www.imooc.com\"))\n",
    "        print(\"lasts \", time.time() - start_time)"
   ]
  },
  {
   "cell_type": "code",
   "execution_count": 17,
   "id": "9dbf1bf0",
   "metadata": {},
   "outputs": [
    {
     "name": "stdout",
     "output_type": "stream",
     "text": [
      "start get url\n",
      "start get url\n",
      "start get url\n",
      "start get url\n",
      "start get url\n",
      "end get url\n",
      "end get url\n",
      "end get url\n",
      "end get url\n",
      "end get url\n",
      "lasts  2.0073020458221436\n",
      "lasts  2.0072989463806152\n",
      "lasts  2.0073044300079346\n",
      "lasts  2.007295608520508\n",
      "lasts  2.0073037147521973\n"
     ]
    }
   ],
   "source": [
    "import asyncio\n",
    "import time\n",
    "\n",
    "# 注意：不要阻塞 EventLoop\n",
    "async def get_html(url):\n",
    "    print(\"start get url\")\n",
    "    await asyncio.sleep(2)\n",
    "    print(\"end get url\")\n",
    "\n",
    "def callback(task, start_time):\n",
    "    print(\"lasts \", time.time() - start_time)\n",
    "\n",
    "# 携程必须搭配时间循环才能使用\n",
    "if __name__ == \"__main__\":\n",
    "    loop = asyncio.get_event_loop()\n",
    "    \n",
    "    # If the event loop is already running, use create_task to schedule the coroutine\n",
    "    if loop.is_running():\n",
    "        tasks = []\n",
    "        for _ in range(5):\n",
    "            start_time = time.time()  # Capture the start time for each task\n",
    "            task = loop.create_task(get_html(\"http://www.imooc.com\"))\n",
    "            task.add_done_callback(lambda t, st=start_time: callback(t, st))  # Pass start_time to the callback\n",
    "            tasks.append(task)\n",
    "    else:\n",
    "        start_time = time.time()\n",
    "        loop.run_until_complete(get_html(\"http://www.imooc.com\"))\n",
    "        print(\"lasts \", time.time() - start_time)"
   ]
  }
 ],
 "metadata": {
  "kernelspec": {
   "display_name": "Python 3",
   "language": "python",
   "name": "python3"
  },
  "language_info": {
   "codemirror_mode": {
    "name": "ipython",
    "version": 3
   },
   "file_extension": ".py",
   "mimetype": "text/x-python",
   "name": "python",
   "nbconvert_exporter": "python",
   "pygments_lexer": "ipython3",
   "version": "3.8.10"
  }
 },
 "nbformat": 4,
 "nbformat_minor": 5
}
