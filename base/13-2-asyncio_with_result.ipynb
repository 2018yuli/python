{
 "cells": [
  {
   "cell_type": "markdown",
   "id": "4205e895",
   "metadata": {},
   "source": [
    "## Python 获取协程的返回值"
   ]
  },
  {
   "cell_type": "code",
   "execution_count": 4,
   "id": "32d5a582",
   "metadata": {},
   "outputs": [
    {
     "name": "stdout",
     "output_type": "stream",
     "text": [
      "start get url\n",
      "start get url\n",
      "start get url\n",
      "start get url\n",
      "start get url\n",
      "end get url\n",
      "end get url\n",
      "end get url\n",
      "end get url\n",
      "end get url\n",
      "bobby lasts  2.0086655616760254\n",
      "bobby lasts  2.0086677074432373\n",
      "bobby lasts  2.008676052093506\n",
      "bobby lasts  2.008683919906616\n",
      "bobby lasts  2.008692502975464\n"
     ]
    }
   ],
   "source": [
    "import asyncio\n",
    "import time\n",
    "\n",
    "# 注意：不要阻塞 EventLoop\n",
    "async def get_html(url):\n",
    "    print(\"start get url\")\n",
    "    await asyncio.sleep(2)\n",
    "    print(\"end get url\")\n",
    "    return \"bobby\"\n",
    "\n",
    "def callback(future, start_time):\n",
    "    print(future.result() + \" lasts \", time.time() - start_time)\n",
    "\n",
    "# 携程必须搭配时间循环才能使用\n",
    "if __name__ == \"__main__\":\n",
    "    loop = asyncio.get_event_loop()\n",
    "    \n",
    "    # If the event loop is already running, use create_task to schedule the coroutine\n",
    "    if loop.is_running():\n",
    "        tasks = []\n",
    "        for _ in range(5):\n",
    "            start_time = time.time()  # Capture the start time for each task\n",
    "            task = loop.create_task(get_html(\"http://www.imooc.com\"))\n",
    "            task.add_done_callback(lambda t, st=start_time: callback(t, st))  # Pass start_time to the callback\n",
    "    else:\n",
    "        start_time = time.time()\n",
    "        loop.run_until_complete(get_html(\"http://www.imooc.com\"))\n",
    "        print(\"lasts \", time.time() - start_time)"
   ]
  },
  {
   "cell_type": "markdown",
   "id": "e6bae1c5",
   "metadata": {},
   "source": [
    "- wait 和 gather"
   ]
  },
  {
   "cell_type": "code",
   "execution_count": 10,
   "id": "f4f04860",
   "metadata": {},
   "outputs": [
    {
     "name": "stdout",
     "output_type": "stream",
     "text": [
      "start get url\n",
      "start get url\n",
      "start get url\n",
      "start get url\n",
      "start get url\n",
      "end get url\n",
      "end get url\n",
      "end get url\n",
      "end get url\n",
      "end get url\n",
      "bobby lasts  2.0039734840393066\n",
      "bobby lasts  2.0040130615234375\n",
      "bobby lasts  2.004023790359497\n",
      "bobby lasts  2.004033327102661\n",
      "bobby lasts  2.004042625427246\n"
     ]
    }
   ],
   "source": [
    "import asyncio\n",
    "import time\n",
    "\n",
    "# 注意：不要阻塞 EventLoop\n",
    "async def get_html(url):\n",
    "    print(\"start get url\")\n",
    "    await asyncio.sleep(2)\n",
    "    print(\"end get url\")\n",
    "    return \"bobby\"\n",
    "\n",
    "# 回调函数，处理每个任务完成后的结果\n",
    "async def callback(results, start_time):\n",
    "    for result in results:\n",
    "        print(result + \" lasts \", time.time() - start_time)\n",
    "\n",
    "# 携程必须搭配时间循环才能使用\n",
    "async def main():\n",
    "    start_time = time.time()\n",
    "\n",
    "    # 创建多个任务\n",
    "    tasks = [asyncio.create_task(get_html(\"http://www.imooc.com\")) for _ in range(5)]\n",
    "\n",
    "    # 使用 gather 等待所有任务完成并返回结果\n",
    "    results = await asyncio.gather(*tasks)\n",
    "    await callback(results, start_time)  # 等待并传递结果给回调\n",
    "\n",
    "# 直接使用 await 来运行 main() 在 Jupyter 中\n",
    "await main()  # Since the event loop is already running in Jupyter, use await directly\n"
   ]
  },
  {
   "cell_type": "code",
   "execution_count": 5,
   "id": "a70f04fe",
   "metadata": {},
   "outputs": [
    {
     "name": "stdout",
     "output_type": "stream",
     "text": [
      "10\n",
      "20\n"
     ]
    }
   ],
   "source": [
    "import functools\n",
    "\n",
    "# 定义一个乘法函数\n",
    "def multiply(a, b):\n",
    "    return a * b\n",
    "\n",
    "# 使用 partial 创建一个偏函数，每次固定 a=2\n",
    "multiply_by_2 = functools.partial(multiply, 2)\n",
    "\n",
    "# 调用偏函数\n",
    "print(multiply_by_2(5))  # 结果是 2 * 5 = 10\n",
    "print(multiply_by_2(10)) # 结果是 2 * 10 = 20\n"
   ]
  },
  {
   "cell_type": "code",
   "execution_count": 6,
   "id": "8d3f343c",
   "metadata": {},
   "outputs": [
    {
     "name": "stdout",
     "output_type": "stream",
     "text": [
      "18\n",
      "22\n"
     ]
    }
   ],
   "source": [
    "import functools\n",
    "\n",
    "# 一个计算三者之和的函数\n",
    "def add(a, b, c):\n",
    "    return a + b + c\n",
    "\n",
    "# 使用 partial 创建一个偏函数，固定 a=5 和 b=10\n",
    "add_5_and_10 = functools.partial(add, 5, 10)\n",
    "\n",
    "# 调用偏函数，只需传入 c 参数\n",
    "print(add_5_and_10(3))  # 结果是 5 + 10 + 3 = 18\n",
    "print(add_5_and_10(7))  # 结果是 5 + 10 + 7 = 22\n"
   ]
  }
 ],
 "metadata": {
  "kernelspec": {
   "display_name": "Python 3",
   "language": "python",
   "name": "python3"
  },
  "language_info": {
   "codemirror_mode": {
    "name": "ipython",
    "version": 3
   },
   "file_extension": ".py",
   "mimetype": "text/x-python",
   "name": "python",
   "nbconvert_exporter": "python",
   "pygments_lexer": "ipython3",
   "version": "3.8.10"
  }
 },
 "nbformat": 4,
 "nbformat_minor": 5
}
