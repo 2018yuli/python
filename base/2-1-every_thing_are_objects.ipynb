{
 "cells": [
  {
   "cell_type": "markdown",
   "metadata": {},
   "source": [
    "## Python 中一切皆对象\n",
    "- Python 是更彻底的一切皆对象\n",
    "- 让 Python 语言更具动态性"
   ]
  },
  {
   "cell_type": "markdown",
   "metadata": {},
   "source": [
    "### 方法是对象"
   ]
  },
  {
   "cell_type": "code",
   "execution_count": 4,
   "metadata": {},
   "outputs": [
    {
     "name": "stdout",
     "output_type": "stream",
     "text": [
      "bobby1\n"
     ]
    }
   ],
   "source": [
    "def ask(name=\"bobby\"):\n",
    "    print(name)\n",
    "\n",
    "my_func = ask\n",
    "my_func(\"bobby1\")"
   ]
  },
  {
   "cell_type": "markdown",
   "metadata": {},
   "source": [
    "### 类也是对象"
   ]
  },
  {
   "cell_type": "code",
   "execution_count": 5,
   "metadata": {},
   "outputs": [
    {
     "name": "stdout",
     "output_type": "stream",
     "text": [
      "bobby2\n"
     ]
    },
    {
     "data": {
      "text/plain": [
       "<__main__.Person at 0x7f569432af70>"
      ]
     },
     "execution_count": 5,
     "metadata": {},
     "output_type": "execute_result"
    }
   ],
   "source": [
    "def ask(name=\"bobby\"):\n",
    "    print(name)\n",
    "\n",
    "class Person:\n",
    "    def __init__(self):\n",
    "        print(\"bobby2\")\n",
    "my_class = Person\n",
    "my_class()"
   ]
  },
  {
   "cell_type": "markdown",
   "metadata": {},
   "source": [
    "### 对象可以添加到集合中"
   ]
  },
  {
   "cell_type": "code",
   "execution_count": 7,
   "metadata": {},
   "outputs": [
    {
     "name": "stdout",
     "output_type": "stream",
     "text": [
      "bobby\n",
      "None\n",
      "bobby2\n",
      "<__main__.Person object at 0x7f569842aca0>\n"
     ]
    }
   ],
   "source": [
    "# 如果一个函数没有返回值，默认会返回 None，这里 None 会被打印出来\n",
    "def ask(name=\"bobby\"):\n",
    "    print(name)\n",
    "\n",
    "class Person:\n",
    "    def __init__(self):\n",
    "        print(\"bobby2\")\n",
    "\n",
    "\n",
    "obj_list = []\n",
    "obj_list.append(ask)\n",
    "obj_list.append(Person)\n",
    "for item in obj_list:\n",
    "    print(item())"
   ]
  },
  {
   "cell_type": "markdown",
   "metadata": {},
   "source": [
    "### 函数可以返回一个函数"
   ]
  },
  {
   "cell_type": "code",
   "execution_count": 2,
   "metadata": {},
   "outputs": [
    {
     "name": "stdout",
     "output_type": "stream",
     "text": [
      "dec start\n",
      "tom\n"
     ]
    }
   ],
   "source": [
    "def decorator_func():\n",
    "    print (\"dec start\")\n",
    "    return ask\n",
    "\n",
    "def ask(name=\"bobby\"):\n",
    "    print(name)\n",
    "\n",
    "my_ask = decorator_func()\n",
    "my_ask(\"tom\")"
   ]
  }
 ],
 "metadata": {
  "kernelspec": {
   "display_name": "Python 3",
   "language": "python",
   "name": "python3"
  },
  "language_info": {
   "codemirror_mode": {
    "name": "ipython",
    "version": 3
   },
   "file_extension": ".py",
   "mimetype": "text/x-python",
   "name": "python",
   "nbconvert_exporter": "python",
   "pygments_lexer": "ipython3",
   "version": "3.8.10"
  }
 },
 "nbformat": 4,
 "nbformat_minor": 2
}
