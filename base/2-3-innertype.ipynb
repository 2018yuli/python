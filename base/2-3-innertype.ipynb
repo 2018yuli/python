{
 "cells": [
  {
   "cell_type": "markdown",
   "metadata": {},
   "source": [
    "## Python 中常见的内置类型\n",
    "### 每个对象都包含\n",
    "- 身份（相当于 hash）\n",
    "- 类型\n",
    "- 值"
   ]
  },
  {
   "cell_type": "code",
   "execution_count": 4,
   "metadata": {},
   "outputs": [
    {
     "name": "stdout",
     "output_type": "stream",
     "text": [
      "id(a) =  9764384\n",
      "身份 id(a) =  140291556169792\n",
      "类型 type(a) =  <class 'dict'>\n",
      "值 a =  {}\n"
     ]
    }
   ],
   "source": [
    "a = 1\n",
    "print(\"id(a) = \", id(a))\n",
    "a = {}\n",
    "print(\"身份 id(a) = \", id(a))\n",
    "print(\"类型 type(a) = \", type(a))\n",
    "print(\"值 a = \", a)"
   ]
  },
  {
   "cell_type": "markdown",
   "metadata": {},
   "source": [
    "### Python 中内置类型\n",
    "- None(全局只有一个)\n",
    "- 数值\n",
    "    - int\n",
    "    - float\n",
    "    - complex(复数)\n",
    "    - bool\n",
    "- 迭代类型\n",
    "- 序列类型\n",
    "    - list\n",
    "    - bytes, bytearray, memoryview(二进制序列)\n",
    "    - range\n",
    "    - tuple\n",
    "    - str\n",
    "    - array\n",
    "- 映射(dic)\n",
    "- 集合\n",
    "    - set\n",
    "    - frozenset(不可修改set)\n",
    "- 上下文管理类型 with\n",
    "- 其他\n",
    "    - 模块类型\n",
    "    - class和实例\n",
    "    - 函数类型\n",
    "    - 方法类型\n",
    "    - 代码类型\n",
    "    - object对象\n",
    "    - type 类型\n",
    "    - ellipsis 类型（省略号）\n",
    "    - notimplemented 类对象（未实现）"
   ]
  },
  {
   "cell_type": "code",
   "execution_count": 5,
   "metadata": {},
   "outputs": [
    {
     "name": "stdout",
     "output_type": "stream",
     "text": [
      "id(a) == id(b) : True\n"
     ]
    }
   ],
   "source": [
    "# None 类型，python 在解释器启动的时候，会生成一个 None 的对象\n",
    "a = None\n",
    "b = None\n",
    "print(\"id(a) == id(b) :\", id(a) == id(b))"
   ]
  },
  {
   "cell_type": "code",
   "execution_count": null,
   "metadata": {},
   "outputs": [],
   "source": [
    "# "
   ]
  }
 ],
 "metadata": {
  "kernelspec": {
   "display_name": "Python 3",
   "language": "python",
   "name": "python3"
  },
  "language_info": {
   "codemirror_mode": {
    "name": "ipython",
    "version": 3
   },
   "file_extension": ".py",
   "mimetype": "text/x-python",
   "name": "python",
   "nbconvert_exporter": "python",
   "pygments_lexer": "ipython3",
   "version": "3.8.10"
  }
 },
 "nbformat": 4,
 "nbformat_minor": 2
}
