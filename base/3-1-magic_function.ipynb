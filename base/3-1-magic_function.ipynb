{
 "cells": [
  {
   "cell_type": "markdown",
   "metadata": {},
   "source": [
    "## Python 中的魔法函数\n",
    "- python 中的魔法函数就是 以 __ 开头和结尾，内定的一些固定命名的函数"
   ]
  },
  {
   "cell_type": "code",
   "execution_count": 1,
   "metadata": {},
   "outputs": [
    {
     "name": "stdout",
     "output_type": "stream",
     "text": [
      "tom\n",
      "bob\n",
      "jane\n"
     ]
    }
   ],
   "source": [
    "class Company(object):\n",
    "    def __init__(self, employee_list):\n",
    "        self.employee = employee_list\n",
    "\n",
    "company = Company([\"tom\", \"bob\", \"jane\"])\n",
    "\n",
    "employee = company.employee\n",
    "for em in employee:\n",
    "    print(em)"
   ]
  },
  {
   "cell_type": "code",
   "execution_count": 2,
   "metadata": {},
   "outputs": [
    {
     "name": "stdout",
     "output_type": "stream",
     "text": [
      "tom\n",
      "bob\n",
      "jane\n"
     ]
    }
   ],
   "source": [
    "# 使用魔法函数\n",
    "class Company(object):\n",
    "    def __init__(self, employee_list):\n",
    "        self.employee = employee_list\n",
    "\n",
    "    # 使用魔法函数实现 iterable\n",
    "    def __getitem__(self, item):\n",
    "        return self.employee[item]\n",
    "\n",
    "company = Company([\"tom\", \"bob\", \"jane\"])\n",
    "for em in company:\n",
    "    print(em)\n"
   ]
  }
 ],
 "metadata": {
  "kernelspec": {
   "display_name": "Python 3",
   "language": "python",
   "name": "python3"
  },
  "language_info": {
   "codemirror_mode": {
    "name": "ipython",
    "version": 3
   },
   "file_extension": ".py",
   "mimetype": "text/x-python",
   "name": "python",
   "nbconvert_exporter": "python",
   "pygments_lexer": "ipython3",
   "version": "3.8.10"
  }
 },
 "nbformat": 4,
 "nbformat_minor": 2
}
