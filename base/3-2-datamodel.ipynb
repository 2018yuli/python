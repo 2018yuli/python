{
 "cells": [
  {
   "cell_type": "markdown",
   "metadata": {},
   "source": [
    "## Python 的数据模型"
   ]
  },
  {
   "cell_type": "code",
   "execution_count": 3,
   "metadata": {},
   "outputs": [
    {
     "name": "stdout",
     "output_type": "stream",
     "text": [
      "tom\n",
      "bob\n",
      "len(company1) =  2\n"
     ]
    }
   ],
   "source": [
    "# 使用魔法函数\n",
    "class Company(object):\n",
    "    def __init__(self, employee_list):\n",
    "        self.employee = employee_list\n",
    "\n",
    "    # 使用魔法函数实现 iterable\n",
    "    def __getitem__(self, item):\n",
    "        return self.employee[item]\n",
    "\n",
    "company = Company([\"tom\", \"bob\", \"jane\"])\n",
    "\n",
    "company1 = company[:2]\n",
    "for em in company1:\n",
    "    print(em)\n",
    "\n",
    "print(\"len(company1) = \", len(company1))"
   ]
  }
 ],
 "metadata": {
  "kernelspec": {
   "display_name": "Python 3",
   "language": "python",
   "name": "python3"
  },
  "language_info": {
   "codemirror_mode": {
    "name": "ipython",
    "version": 3
   },
   "file_extension": ".py",
   "mimetype": "text/x-python",
   "name": "python",
   "nbconvert_exporter": "python",
   "pygments_lexer": "ipython3",
   "version": "3.8.10"
  }
 },
 "nbformat": 4,
 "nbformat_minor": 2
}
