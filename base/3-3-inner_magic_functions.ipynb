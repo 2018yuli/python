{
 "cells": [
  {
   "cell_type": "markdown",
   "metadata": {},
   "source": [
    "## Python 内置魔法函数\n",
    "### 非数学运算\n",
    "- 字符串函数\n",
    "    - xxxx\n",
    "### 数学运算"
   ]
  },
  {
   "cell_type": "code",
   "execution_count": 6,
   "metadata": {},
   "outputs": [
    {
     "data": {
      "text/plain": [
       "<__main__.Company at 0x7efeb6964e20>"
      ]
     },
     "execution_count": 6,
     "metadata": {},
     "output_type": "execute_result"
    }
   ],
   "source": [
    "# 不使用魔法函数\n",
    "class Company(object):\n",
    "    def __init__(self, employee_list):\n",
    "        self.employee = employee_list\n",
    "\n",
    "    # 使用魔法函数实现 iterable\n",
    "    def __getitem__(self, item):\n",
    "        return self.employee[item]\n",
    "\n",
    "company = Company([\"tom\", \"bob\", \"jane\"])\n",
    "company"
   ]
  },
  {
   "cell_type": "code",
   "execution_count": 4,
   "metadata": {},
   "outputs": [
    {
     "name": "stdout",
     "output_type": "stream",
     "text": [
      "tom,bob,jane\n"
     ]
    }
   ],
   "source": [
    "# 使用魔法函数\n",
    "class Company(object):\n",
    "    def __init__(self, employee_list):\n",
    "        self.employee = employee_list\n",
    "\n",
    "    # 使用魔法函数实现 iterable\n",
    "    def __getitem__(self, item):\n",
    "        return self.employee[item]\n",
    "    # 使用 __str__ 魔法函数，定义序列化\n",
    "    def __str__(self):\n",
    "        return \",\".join(self.employee)\n",
    "\n",
    "company = Company([\"tom\", \"bob\", \"jane\"])\n",
    "print(company)"
   ]
  },
  {
   "cell_type": "code",
   "execution_count": 12,
   "metadata": {},
   "outputs": [
    {
     "data": {
      "text/plain": [
       "'tom,bob,jane'"
      ]
     },
     "execution_count": 12,
     "metadata": {},
     "output_type": "execute_result"
    }
   ],
   "source": [
    "# 使用魔法函数\n",
    "class Company(object):\n",
    "    def __init__(self, employee_list):\n",
    "        self.employee = employee_list\n",
    "\n",
    "    # 使用魔法函数实现 iterable\n",
    "    def __getitem__(self, item):\n",
    "        return self.employee[item]\n",
    "    # 使用 __str__ 魔法函数，定义序列化\n",
    "    # def __str__(self):\n",
    "    #     return \",\".join(self.employee)\n",
    "    def __repr__(self):\n",
    "        return \",\".join(self.employee)\n",
    "\n",
    "company = Company([\"tom\", \"bob\", \"jane\"])\n",
    "# company 默认等价于 repr(company)\n",
    "company\n",
    "repr(company)"
   ]
  },
  {
   "cell_type": "code",
   "execution_count": 13,
   "metadata": {},
   "outputs": [
    {
     "data": {
      "text/plain": [
       "1"
      ]
     },
     "execution_count": 13,
     "metadata": {},
     "output_type": "execute_result"
    }
   ],
   "source": [
    "# 数学魔法函数\n",
    "class Nums(object):\n",
    "    def __init__(self, num):\n",
    "        self.num = num\n",
    "    def __abs__(self):\n",
    "        return abs(self.num)\n",
    "\n",
    "my_num = Nums(1)\n",
    "abs(my_num)"
   ]
  },
  {
   "cell_type": "code",
   "execution_count": 14,
   "metadata": {},
   "outputs": [
    {
     "name": "stdout",
     "output_type": "stream",
     "text": [
      "x:3, y:5\n"
     ]
    }
   ],
   "source": [
    "class MyVector(object):\n",
    "    def __init__(self, x, y):\n",
    "        self.x = x\n",
    "        self.y = y\n",
    "    def __add__ (self, other_instance):\n",
    "        re_vector = MyVector(self.x + other_instance.x, self.y + other_instance.y)\n",
    "        return re_vector\n",
    "    def __str__(self):\n",
    "        return \"x:{x}, y:{y}\".format(x = self.x, y = self.y)\n",
    "\n",
    "first_vec = MyVector(1, 2)\n",
    "second_vec = MyVector(2, 3)\n",
    "print(first_vec + second_vec)"
   ]
  }
 ],
 "metadata": {
  "kernelspec": {
   "display_name": "Python 3",
   "language": "python",
   "name": "python3"
  },
  "language_info": {
   "codemirror_mode": {
    "name": "ipython",
    "version": 3
   },
   "file_extension": ".py",
   "mimetype": "text/x-python",
   "name": "python",
   "nbconvert_exporter": "python",
   "pygments_lexer": "ipython3",
   "version": "3.8.10"
  }
 },
 "nbformat": 4,
 "nbformat_minor": 2
}
