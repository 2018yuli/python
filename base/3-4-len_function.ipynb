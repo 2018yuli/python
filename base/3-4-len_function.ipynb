{
 "cells": [
  {
   "cell_type": "markdown",
   "metadata": {},
   "source": [
    "## Len 函数的特殊性"
   ]
  },
  {
   "cell_type": "code",
   "execution_count": 2,
   "metadata": {},
   "outputs": [
    {
     "data": {
      "text/plain": [
       "3"
      ]
     },
     "execution_count": 2,
     "metadata": {},
     "output_type": "execute_result"
    }
   ],
   "source": [
    "# 不使用魔法函数\n",
    "class Company(object):\n",
    "    def __init__(self, employee_list):\n",
    "        self.employee = employee_list\n",
    "\n",
    "    # 使用魔法函数实现 iterable\n",
    "    def __len__(self):\n",
    "        return len(self.employee)\n",
    "\n",
    "company = Company([\"tom\", \"bob\", \"jane\"])\n",
    "# 对于 len(list()) 类型，会直接调用 c语言结构体中的 length 属性，不会发生遍历\n",
    "# 所以，应该尽量使用 python 提供的原生类型\n",
    "len(company)"
   ]
  }
 ],
 "metadata": {
  "kernelspec": {
   "display_name": "Python 3",
   "language": "python",
   "name": "python3"
  },
  "language_info": {
   "codemirror_mode": {
    "name": "ipython",
    "version": 3
   },
   "file_extension": ".py",
   "mimetype": "text/x-python",
   "name": "python",
   "nbconvert_exporter": "python",
   "pygments_lexer": "ipython3",
   "version": "3.8.10"
  }
 },
 "nbformat": 4,
 "nbformat_minor": 2
}
