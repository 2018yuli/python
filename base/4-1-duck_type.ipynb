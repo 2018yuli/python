{
 "cells": [
  {
   "cell_type": "markdown",
   "metadata": {},
   "source": [
    "## 鸭子类型\n",
    "- 定义：我们的多个类，都实现了同样的方法，就可以归为一种类型，不需要集成父类\n",
    "- 对比 Java 的多态\n",
    "- 定义一个父类，然后使用子类，实现多态\n"
   ]
  },
  {
   "cell_type": "code",
   "execution_count": 3,
   "metadata": {},
   "outputs": [
    {
     "name": "stdout",
     "output_type": "stream",
     "text": [
      "I am a cat\n",
      "\n",
      "I am a cat\n",
      "I am a dog\n",
      "I am a duck\n"
     ]
    }
   ],
   "source": [
    "class Cat(object):\n",
    "    def say(self):\n",
    "        print(\"I am a cat\")\n",
    "\n",
    "class Dog(object):\n",
    "    def say(self):\n",
    "        print(\"I am a dog\")\n",
    "\n",
    "class Duck(object):\n",
    "    def say(self):\n",
    "        print(\"I am a duck\")\n",
    "\n",
    "animal = Cat\n",
    "animal().say()\n",
    "print(\"\")\n",
    "\n",
    "animal_list = [Cat, Dog, Duck]\n",
    "for animal in animal_list:\n",
    "    animal().say()"
   ]
  },
  {
   "cell_type": "code",
   "execution_count": 5,
   "metadata": {},
   "outputs": [
    {
     "data": {
      "text/plain": [
       "['bobby',\n",
       " 'bobby2',\n",
       " 'bobby3',\n",
       " 'bobby4',\n",
       " 'bobby5',\n",
       " 'bobby6',\n",
       " 'tom',\n",
       " 'bob',\n",
       " 'jane']"
      ]
     },
     "execution_count": 5,
     "metadata": {},
     "output_type": "execute_result"
    }
   ],
   "source": [
    "class Company(object):\n",
    "    def __init__(self, employee_list):\n",
    "        self.employee = employee_list\n",
    "\n",
    "    # 使用魔法函数实现 iterable\n",
    "    def __getitem__(self, item):\n",
    "        return self.employee[item]\n",
    "\n",
    "company = Company([\"tom\", \"bob\", \"jane\"])\n",
    "\n",
    "a = [\"bobby\", \"bobby2\"]\n",
    "b = [\"bobby3\", \"bobby4\"]\n",
    "name_tuple = [\"bobby5\", \"bobby6\"]\n",
    "name_set = set()\n",
    "name_set.add(\"bobby7\")\n",
    "name_set.add(\"bobby8\")\n",
    "a.extend(b)\n",
    "# extend 可以传入所有 iterable 的鸭子类型的所有元素\n",
    "a.extend(name_tuple)\n",
    "a.extend(company)\n",
    "a"
   ]
  }
 ],
 "metadata": {
  "kernelspec": {
   "display_name": "Python 3",
   "language": "python",
   "name": "python3"
  },
  "language_info": {
   "codemirror_mode": {
    "name": "ipython",
    "version": 3
   },
   "file_extension": ".py",
   "mimetype": "text/x-python",
   "name": "python",
   "nbconvert_exporter": "python",
   "pygments_lexer": "ipython3",
   "version": "3.8.10"
  }
 },
 "nbformat": 4,
 "nbformat_minor": 2
}
