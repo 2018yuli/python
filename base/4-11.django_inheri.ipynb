{
 "cells": [
  {
   "cell_type": "markdown",
   "metadata": {},
   "source": [
    "## Django 多继承实践\n",
    "- Python 也不建议使用多继承"
   ]
  },
  {
   "cell_type": "code",
   "execution_count": null,
   "metadata": {},
   "outputs": [],
   "source": [
    "# mixin 模式\n",
    "# 功能单一\n",
    "# 不和基类关联，可以和任意基类组合\n",
    "# 在 mixin 中不要使用 super()，初始化不依赖 mixin类\n",
    "# 类名尽量以 Mixin 来结尾"
   ]
  }
 ],
 "metadata": {
  "kernelspec": {
   "display_name": "Python 3",
   "language": "python",
   "name": "python3"
  },
  "language_info": {
   "name": "python",
   "version": "3.8.10"
  }
 },
 "nbformat": 4,
 "nbformat_minor": 2
}
