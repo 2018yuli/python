{
 "cells": [
  {
   "cell_type": "markdown",
   "metadata": {},
   "source": [
    "## Python 中的上下文管理器"
   ]
  },
  {
   "cell_type": "markdown",
   "metadata": {},
   "source": [
    "### 首先来看 try except finally"
   ]
  },
  {
   "cell_type": "code",
   "execution_count": 1,
   "metadata": {},
   "outputs": [
    {
     "name": "stdout",
     "output_type": "stream",
     "text": [
      "code started\n",
      "key error\n"
     ]
    }
   ],
   "source": [
    "## try except finally\n",
    "try:\n",
    "    print(\"code started\")\n",
    "    raise KeyError\n",
    "except KeyError as e:\n",
    "    print(\"key error\")"
   ]
  },
  {
   "cell_type": "markdown",
   "metadata": {},
   "source": [
    "### 使用 else finally\n",
    "- else: 没有异常进入 else finally\n",
    "- finally: 总是进入 finally，用来关闭资源"
   ]
  },
  {
   "cell_type": "code",
   "execution_count": 3,
   "metadata": {},
   "outputs": [
    {
     "name": "stdout",
     "output_type": "stream",
     "text": [
      "code started\n",
      "index error\n",
      "finally\n"
     ]
    }
   ],
   "source": [
    "try:\n",
    "    print(\"code started\")\n",
    "    raise IndexError\n",
    "except KeyError as e:\n",
    "    print(\"key error\")\n",
    "except IndexError as e:\n",
    "    print(\"index error\")\n",
    "else:\n",
    "    print(\"other error\")\n",
    "finally:\n",
    "    print(\"finally\")"
   ]
  },
  {
   "cell_type": "markdown",
   "metadata": {},
   "source": [
    "### 理解 try finally 执行过程"
   ]
  },
  {
   "cell_type": "code",
   "execution_count": 4,
   "metadata": {},
   "outputs": [
    {
     "name": "stdout",
     "output_type": "stream",
     "text": [
      "code started\n",
      "key error\n",
      "finally\n",
      "exe_try() =  5\n"
     ]
    }
   ],
   "source": [
    "def exe_try():\n",
    "    try:\n",
    "        print(\"code started\")\n",
    "        raise KeyError\n",
    "        return 1\n",
    "    except KeyError as e:\n",
    "        print(\"key error\")\n",
    "        return 2\n",
    "    except IndexError as e:\n",
    "        print(\"index error\")\n",
    "        return 3\n",
    "    else:\n",
    "        print(\"other error\")\n",
    "        return 4\n",
    "    finally:\n",
    "        print(\"finally\")\n",
    "        return 5\n",
    "\n",
    "print(\"exe_try() = \", exe_try())"
   ]
  },
  {
   "cell_type": "markdown",
   "metadata": {},
   "source": [
    "### with 语句\n",
    "- with 语句用于简化 try finally 的写法\n",
    "- 使用上下文管理协议，和魔法函数关联\n",
    "    - `__enter__`\n",
    "    - `__exit__`"
   ]
  },
  {
   "cell_type": "code",
   "execution_count": 6,
   "metadata": {},
   "outputs": [
    {
     "name": "stdout",
     "output_type": "stream",
     "text": [
      "enter\n",
      "do something\n",
      "exit\n"
     ]
    }
   ],
   "source": [
    "class Sample:\n",
    "    def __enter__(self):\n",
    "        # 获取资源\n",
    "        print(\"enter\")\n",
    "        return self\n",
    "    def __exit__(self, exc_type, exc_val, exc_tb):\n",
    "        # 释放资源\n",
    "        print(\"exit\")\n",
    "    def do_something(self):\n",
    "        print(\"do something\")\n",
    "\n",
    "# 相当于 java 中 try with resource\n",
    "with Sample() as sample:\n",
    "    sample.do_something()"
   ]
  }
 ],
 "metadata": {
  "kernelspec": {
   "display_name": "Python 3",
   "language": "python",
   "name": "python3"
  },
  "language_info": {
   "codemirror_mode": {
    "name": "ipython",
    "version": 3
   },
   "file_extension": ".py",
   "mimetype": "text/x-python",
   "name": "python",
   "nbconvert_exporter": "python",
   "pygments_lexer": "ipython3",
   "version": "3.8.10"
  }
 },
 "nbformat": 4,
 "nbformat_minor": 2
}
