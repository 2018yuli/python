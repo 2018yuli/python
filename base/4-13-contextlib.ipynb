{
 "cells": [
  {
   "cell_type": "markdown",
   "metadata": {},
   "source": [
    "## 使用 Contextlib 进一步简化上下文管理"
   ]
  },
  {
   "cell_type": "code",
   "execution_count": 2,
   "metadata": {},
   "outputs": [
    {
     "name": "stdout",
     "output_type": "stream",
     "text": [
      "file open\n",
      "file processing\n",
      "file end\n"
     ]
    }
   ],
   "source": [
    "import contextlib\n",
    "\n",
    "# 将 file_open 函数装饰成，上下文管理器\n",
    "@contextlib.contextmanager\n",
    "def file_open(filename):\n",
    "    # enter\n",
    "    print(\"file open\")\n",
    "    # 定义一个生成器函数（或上下文管理器中的生成点），它的作用是暂停函数的执行，返回一个值给调用者，同时保持函数的状态，以便以后继续执行\n",
    "    # 将一个空字典 {} 返回给 with 语句的 as 后面定义的变量 f_opened\n",
    "    # 当代码块执行完毕时，yield 之后的代码（即 print(\"file end\")）会继续执行\n",
    "    yield {}\n",
    "    # exit\n",
    "    print(\"file end\")\n",
    "\n",
    "with file_open(\"bobby.txt\") as f_opened:\n",
    "    print(\"file processing\")\n"
   ]
  }
 ],
 "metadata": {
  "kernelspec": {
   "display_name": "Python 3",
   "language": "python",
   "name": "python3"
  },
  "language_info": {
   "codemirror_mode": {
    "name": "ipython",
    "version": 3
   },
   "file_extension": ".py",
   "mimetype": "text/x-python",
   "name": "python",
   "nbconvert_exporter": "python",
   "pygments_lexer": "ipython3",
   "version": "3.8.10"
  }
 },
 "nbformat": 4,
 "nbformat_minor": 2
}
