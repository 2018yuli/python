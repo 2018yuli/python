{
 "cells": [
  {
   "cell_type": "markdown",
   "metadata": {},
   "source": [
    "## 抽象基类\n",
    "- 相当于 Java 中的接口"
   ]
  },
  {
   "cell_type": "code",
   "execution_count": 3,
   "metadata": {},
   "outputs": [
    {
     "name": "stdout",
     "output_type": "stream",
     "text": [
      "2\n",
      "True\n"
     ]
    },
    {
     "data": {
      "text/plain": [
       "True"
      ]
     },
     "execution_count": 3,
     "metadata": {},
     "output_type": "execute_result"
    }
   ],
   "source": [
    "# 我们去检查某个类，是否有实现某个方法\n",
    "\n",
    "class Company(object):\n",
    "    def __init__(self, employee_list):\n",
    "        self.employee = employee_list\n",
    "\n",
    "    # 使用魔法函数实现 iterable\n",
    "    def __getitem__(self, item):\n",
    "        return self.employee[item]\n",
    "    \n",
    "    def __len__(self):\n",
    "        return len(self.employee)\n",
    "\n",
    "company = Company([\"bobby1\", \"bobby2\"])\n",
    "print(len(company))\n",
    "# 通过 hasattr 判断是否有 len 函数\n",
    "print(hasattr(company, \"__len__\"))\n",
    "# 判断类型\n",
    "from collections.abc import Sized\n",
    "isinstance(company, Sized)"
   ]
  },
  {
   "cell_type": "code",
   "execution_count": null,
   "metadata": {},
   "outputs": [],
   "source": [
    "# 通过抽象基类，强制某个子类必须实现某些方法\n",
    "class CacheBase():\n",
    "    def get(self, key):\n",
    "        pass\n",
    "    def set(self, key, value):\n",
    "        pass\n",
    "\n"
   ]
  }
 ],
 "metadata": {
  "kernelspec": {
   "display_name": "Python 3",
   "language": "python",
   "name": "python3"
  },
  "language_info": {
   "codemirror_mode": {
    "name": "ipython",
    "version": 3
   },
   "file_extension": ".py",
   "mimetype": "text/x-python",
   "name": "python",
   "nbconvert_exporter": "python",
   "pygments_lexer": "ipython3",
   "version": "3.8.10"
  }
 },
 "nbformat": 4,
 "nbformat_minor": 2
}
