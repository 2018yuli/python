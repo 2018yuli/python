{
 "cells": [
  {
   "cell_type": "markdown",
   "metadata": {},
   "source": [
    "## 抽象基类2\n",
    "- 生产中，不太建议使用，主要通过其他方案来替代，例如 raise NotImplementedError，例如多继承"
   ]
  },
  {
   "cell_type": "code",
   "execution_count": 1,
   "metadata": {},
   "outputs": [
    {
     "ename": "NotImplementedError",
     "evalue": "",
     "output_type": "error",
     "traceback": [
      "\u001b[0;31m---------------------------------------------------------------------------\u001b[0m",
      "\u001b[0;31mNotImplementedError\u001b[0m                       Traceback (most recent call last)",
      "Cell \u001b[0;32mIn[1], line 12\u001b[0m\n\u001b[1;32m      9\u001b[0m     \u001b[38;5;28;01mpass\u001b[39;00m\n\u001b[1;32m     11\u001b[0m redis_cache \u001b[38;5;241m=\u001b[39m RedisCache()\n\u001b[0;32m---> 12\u001b[0m \u001b[43mredis_cache\u001b[49m\u001b[38;5;241;43m.\u001b[39;49m\u001b[43mset\u001b[49m\u001b[43m(\u001b[49m\u001b[38;5;124;43m\"\u001b[39;49m\u001b[38;5;124;43mkey\u001b[39;49m\u001b[38;5;124;43m\"\u001b[39;49m\u001b[43m,\u001b[49m\u001b[43m \u001b[49m\u001b[38;5;124;43m\"\u001b[39;49m\u001b[38;5;124;43mvalue\u001b[39;49m\u001b[38;5;124;43m\"\u001b[39;49m\u001b[43m)\u001b[49m\n",
      "Cell \u001b[0;32mIn[1], line 6\u001b[0m, in \u001b[0;36mCacheBase.set\u001b[0;34m(self, key, value)\u001b[0m\n\u001b[1;32m      5\u001b[0m \u001b[38;5;28;01mdef\u001b[39;00m \u001b[38;5;21mset\u001b[39m(\u001b[38;5;28mself\u001b[39m, key, value):\n\u001b[0;32m----> 6\u001b[0m     \u001b[38;5;28;01mraise\u001b[39;00m \u001b[38;5;167;01mNotImplementedError\u001b[39;00m\n",
      "\u001b[0;31mNotImplementedError\u001b[0m: "
     ]
    }
   ],
   "source": [
    "# 通过抽象基类，强制某个子类必须实现某些方法，方法1，抛出 NotImplementedError\n",
    "class CacheBase():\n",
    "    def get(self, key):\n",
    "        raise NotImplementedError\n",
    "    def set(self, key, value):\n",
    "        raise NotImplementedError\n",
    "\n",
    "class RedisCache(CacheBase):\n",
    "    pass\n",
    "\n",
    "redis_cache = RedisCache()\n",
    "redis_cache.set(\"key\", \"value\")\n"
   ]
  },
  {
   "cell_type": "code",
   "execution_count": 4,
   "metadata": {},
   "outputs": [
    {
     "ename": "TypeError",
     "evalue": "Can't instantiate abstract class RedisCache with abstract methods get, set",
     "output_type": "error",
     "traceback": [
      "\u001b[0;31m---------------------------------------------------------------------------\u001b[0m",
      "\u001b[0;31mTypeError\u001b[0m                                 Traceback (most recent call last)",
      "Cell \u001b[0;32mIn[4], line 16\u001b[0m\n\u001b[1;32m     13\u001b[0m     \u001b[38;5;28;01mpass\u001b[39;00m\n\u001b[1;32m     15\u001b[0m \u001b[38;5;66;03m# TypeError: Can't instantiate abstract class RedisCache with abstract methods get, set\u001b[39;00m\n\u001b[0;32m---> 16\u001b[0m redis_cache \u001b[38;5;241m=\u001b[39m \u001b[43mRedisCache\u001b[49m\u001b[43m(\u001b[49m\u001b[43m)\u001b[49m\n",
      "\u001b[0;31mTypeError\u001b[0m: Can't instantiate abstract class RedisCache with abstract methods get, set"
     ]
    }
   ],
   "source": [
    "import abc\n",
    "from collections.abc import *\n",
    "\n",
    "# 通过抽象基类，强制某个子类必须实现某些方法，方法2，使用（在初始化时就会异常）\n",
    "class CacheBase(metaclass=abc.ABCMeta):\n",
    "    @abc.abstractmethod\n",
    "    def get(self, key):\n",
    "        pass\n",
    "    @abc.abstractmethod\n",
    "    def set(self, key, value):\n",
    "        pass\n",
    "\n",
    "class RedisCache(CacheBase):\n",
    "    pass\n",
    "\n",
    "# TypeError: Can't instantiate abstract class RedisCache with abstract methods get, set\n",
    "redis_cache = RedisCache()"
   ]
  },
  {
   "cell_type": "code",
   "execution_count": 5,
   "metadata": {},
   "outputs": [
    {
     "name": "stdout",
     "output_type": "stream",
     "text": [
      "Drawing a rectangle.\n",
      "Resizing to width: 5, height: 10\n"
     ]
    }
   ],
   "source": [
    "# 使用多继承替代抽象基类方案示例，防止过度设计。\n",
    "# 定义两个“接口”类\n",
    "class Drawable:\n",
    "    def draw(self):\n",
    "        raise NotImplementedError(\"draw method must be implemented\")\n",
    "\n",
    "class Resizable:\n",
    "    def resize(self, width, height):\n",
    "        raise NotImplementedError(\"resize method must be implemented\")\n",
    "\n",
    "# 定义一个子类，继承自 Drawable 和 Resizable\n",
    "class Rectangle(Drawable, Resizable):\n",
    "    def draw(self):\n",
    "        print(\"Drawing a rectangle.\")\n",
    "\n",
    "    def resize(self, width, height):\n",
    "        print(f\"Resizing to width: {width}, height: {height}\")\n",
    "\n",
    "# 测试\n",
    "rectangle = Rectangle()\n",
    "rectangle.draw()  # 输出: Drawing a rectangle.\n",
    "rectangle.resize(5, 10)  # 输出: Resizing to width: 5, height: 10\n"
   ]
  }
 ],
 "metadata": {
  "kernelspec": {
   "display_name": "Python 3",
   "language": "python",
   "name": "python3"
  },
  "language_info": {
   "codemirror_mode": {
    "name": "ipython",
    "version": 3
   },
   "file_extension": ".py",
   "mimetype": "text/x-python",
   "name": "python",
   "nbconvert_exporter": "python",
   "pygments_lexer": "ipython3",
   "version": "3.8.10"
  }
 },
 "nbformat": 4,
 "nbformat_minor": 2
}
