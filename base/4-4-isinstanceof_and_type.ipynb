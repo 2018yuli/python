{
 "cells": [
  {
   "cell_type": "markdown",
   "metadata": {},
   "source": [
    "## isinstance 和 type 的区别"
   ]
  },
  {
   "cell_type": "code",
   "execution_count": 4,
   "metadata": {},
   "outputs": [
    {
     "name": "stdout",
     "output_type": "stream",
     "text": [
      "isinstance(b, B) =  True\n",
      "isinstance(b, A) =  True\n",
      "type(b) is B =  True\n",
      "type(b) == B =  True\n",
      "type(b) is A =  False\n"
     ]
    }
   ],
   "source": [
    "class A:\n",
    "    pass\n",
    "\n",
    "class B(A):\n",
    "    pass\n",
    "\n",
    "b = B()\n",
    "\n",
    "print(\"isinstance(b, B) = \",isinstance(b, B))\n",
    "print(\"isinstance(b, A) = \",isinstance(b, A))\n",
    "\n",
    "# 如果使用 type\n",
    "# is 判断 id 是否相等，== 判断值是否相等\n",
    "print(\"type(b) is B = \", type(b) is B)\n",
    "print(\"type(b) == B = \", type(b) == B)\n",
    "print(\"type(b) is A = \", type(b) is A)"
   ]
  }
 ],
 "metadata": {
  "kernelspec": {
   "display_name": "Python 3",
   "language": "python",
   "name": "python3"
  },
  "language_info": {
   "codemirror_mode": {
    "name": "ipython",
    "version": 3
   },
   "file_extension": ".py",
   "mimetype": "text/x-python",
   "name": "python",
   "nbconvert_exporter": "python",
   "pygments_lexer": "ipython3",
   "version": "3.8.10"
  }
 },
 "nbformat": 4,
 "nbformat_minor": 2
}
