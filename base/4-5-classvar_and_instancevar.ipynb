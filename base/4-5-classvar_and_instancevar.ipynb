{
 "cells": [
  {
   "cell_type": "markdown",
   "metadata": {},
   "source": [
    "## Python 中的类变量和实例变量"
   ]
  },
  {
   "cell_type": "code",
   "execution_count": 12,
   "metadata": {},
   "outputs": [
    {
     "name": "stdout",
     "output_type": "stream",
     "text": [
      "a.x =  3 ; a.y =  2 ; a.aa =  100\n",
      "A.aa =  1\n",
      "b.aa =  1\n"
     ]
    }
   ],
   "source": [
    "class A:\n",
    "    # aa 属于类变量\n",
    "    aa = 1\n",
    "    def __init__(self, x, y):\n",
    "        # self.x 属于实例变量\n",
    "        self.x = x\n",
    "        self.y = y\n",
    "\n",
    "a = A(3, 2)\n",
    "# a.aa 赋值时，会动态创建a.aa 的实例变量；A.aa 保持不变\n",
    "a.aa = 100\n",
    "# 首先查找 a 的实例变量，如果查找不到，就会向上去查找 a 的类变量\n",
    "print(\"a.x = \", a.x, \"; a.y = \", a.y, \"; a.aa = \", a.aa)\n",
    "print(\"A.aa = \", A.aa)\n",
    "# print(\"A.x = \", A.x)\n",
    "b = A(3, 5)\n",
    "print(\"b.aa = \", b.aa)"
   ]
  }
 ],
 "metadata": {
  "kernelspec": {
   "display_name": "Python 3",
   "language": "python",
   "name": "python3"
  },
  "language_info": {
   "codemirror_mode": {
    "name": "ipython",
    "version": 3
   },
   "file_extension": ".py",
   "mimetype": "text/x-python",
   "name": "python",
   "nbconvert_exporter": "python",
   "pygments_lexer": "ipython3",
   "version": "3.8.10"
  }
 },
 "nbformat": 4,
 "nbformat_minor": 2
}
