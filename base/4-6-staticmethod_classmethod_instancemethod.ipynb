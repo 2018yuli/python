{
 "cells": [
  {
   "cell_type": "markdown",
   "metadata": {},
   "source": [
    "## Python 中的静态方法，类方法，实例方法"
   ]
  },
  {
   "cell_type": "code",
   "execution_count": 18,
   "metadata": {},
   "outputs": [
    {
     "name": "stdout",
     "output_type": "stream",
     "text": [
      "2018/12/30\n",
      "2018/12/31\n",
      "2018/12/30\n",
      "2018/12/30\n",
      "2018/12/30\n",
      "False\n"
     ]
    }
   ],
   "source": [
    "class Date:\n",
    "    # 构造方法\n",
    "    def __init__(self, year, month, day):\n",
    "        self.year = year\n",
    "        self.month = month\n",
    "        self.day = day\n",
    "    \n",
    "    # 实例方法\n",
    "    def tomorrow(self):\n",
    "        self.day += 1\n",
    "\n",
    "    # 静态方法\n",
    "    @staticmethod\n",
    "    def parse_from_string(date_str):\n",
    "        year, month, day = tuple(date_str.split(\"-\"))\n",
    "        return Date(int(year), int(month), int(day))\n",
    "    \n",
    "    # 静态方法发挥作用的地方\n",
    "    @staticmethod\n",
    "    def validate_str(date_str):\n",
    "        year, month, day = tuple(date_str.split(\"-\"))\n",
    "        if int(year) > 0 and int(month) >0 and int(day)<=12 and int(day) >0 and int(day) <= 31:\n",
    "            return True\n",
    "        else:\n",
    "            return False\n",
    "    \n",
    "    # 类方法\n",
    "    @classmethod\n",
    "    def from_string(cls, date_str):\n",
    "        year, month, day = tuple(date_str.split(\"-\"))\n",
    "        return cls(int(year), int(month), int(day))\n",
    "\n",
    "    def __str__(self):\n",
    "        return \"{year}/{month}/{day}\".format(year = self.year, month = self.month, day = self.day)\n",
    "\n",
    "if __name__ == \"__main__\":\n",
    "    new_date = Date(2018, 12, 30)\n",
    "    print(new_date)\n",
    "    new_date.tomorrow()\n",
    "    print(new_date)\n",
    "\n",
    "    # 2018-12-30\n",
    "    date_str = \"2018-12-30\"\n",
    "    year, month, day = tuple(date_str.split(\"-\"))\n",
    "    new_date = Date(int(year), int(month), int(day))\n",
    "    print(new_date)\n",
    "\n",
    "    new_date = Date.parse_from_string(date_str)\n",
    "    print(new_date)\n",
    "\n",
    "    new_date = Date.from_string(date_str)\n",
    "    print(new_date)\n",
    "\n",
    "    print(Date.validate_str(date_str))"
   ]
  }
 ],
 "metadata": {
  "kernelspec": {
   "display_name": "Python 3",
   "language": "python",
   "name": "python3"
  },
  "language_info": {
   "codemirror_mode": {
    "name": "ipython",
    "version": 3
   },
   "file_extension": ".py",
   "mimetype": "text/x-python",
   "name": "python",
   "nbconvert_exporter": "python",
   "pygments_lexer": "ipython3",
   "version": "3.8.10"
  }
 },
 "nbformat": 4,
 "nbformat_minor": 2
}
