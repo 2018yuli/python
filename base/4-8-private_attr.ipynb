{
 "cells": [
  {
   "cell_type": "markdown",
   "metadata": {},
   "source": [
    "## 数据封装和私有属性"
   ]
  },
  {
   "cell_type": "code",
   "execution_count": 10,
   "metadata": {},
   "outputs": [
    {
     "name": "stdout",
     "output_type": "stream",
     "text": [
      "user._User__birthday =  1990/2/1\n",
      "user.get_age() =  28\n",
      "student._Student__birthday =  1990/2/2\n"
     ]
    }
   ],
   "source": [
    "# 个人想法：面向对象的兴起是由于 web 技术的兴起，大量的不可变 &str，产生了复用 &str 的需求，所以才有了object.attr 来封装 &str 的需求\n",
    "class Date:\n",
    "    # 构造方法\n",
    "    def __init__(self, year, month, day):\n",
    "        self.year = year\n",
    "        self.month = month\n",
    "        self.day = day\n",
    "    \n",
    "    @classmethod\n",
    "    def from_string(cls, date_str):\n",
    "        year, month, day = tuple(date_str.split(\"-\"))\n",
    "        return cls(int(year), int(month), int(day))\n",
    "    \n",
    "    def __str__(self):\n",
    "        return \"{year}/{month}/{day}\".format(year = self.year, month = self.month, day = self.day)\n",
    "\n",
    "\n",
    "class User:\n",
    "    def __init__(self, birthday):\n",
    "        # 使用双下划线表示 private，子类也没法获取（python编译器会将 __开头的属性和函数改名，比如此处，将会改为 __User__birthday）\n",
    "        self.__birthday = birthday\n",
    "    \n",
    "    # 也可以以 __ 开头来私有化函数\n",
    "    def get_age(self):\n",
    "        return 2018 - self.__birthday.year\n",
    "\n",
    "class Student(User):\n",
    "    def __init__(self, birthday):\n",
    "        self.__birthday = birthday\n",
    "\n",
    "if __name__ == \"__main__\":\n",
    "    user = User(Date.from_string(\"1990-2-1\"))\n",
    "    # 只是编译器进行了改名，并没有绝对私有，没有绝对安全\n",
    "    print(\"user._User__birthday = \", user._User__birthday)\n",
    "    print(\"user.get_age() = \", user.get_age())\n",
    "    student = Student(Date.from_string(\"1990-2-2\"))\n",
    "    print(\"student._Student__birthday = \", student._Student__birthday)\n"
   ]
  }
 ],
 "metadata": {
  "kernelspec": {
   "display_name": "Python 3",
   "language": "python",
   "name": "python3"
  },
  "language_info": {
   "codemirror_mode": {
    "name": "ipython",
    "version": 3
   },
   "file_extension": ".py",
   "mimetype": "text/x-python",
   "name": "python",
   "nbconvert_exporter": "python",
   "pygments_lexer": "ipython3",
   "version": "3.8.10"
  }
 },
 "nbformat": 4,
 "nbformat_minor": 2
}
