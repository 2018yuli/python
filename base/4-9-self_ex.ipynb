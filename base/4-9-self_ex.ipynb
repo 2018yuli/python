{
 "cells": [
  {
   "cell_type": "markdown",
   "metadata": {},
   "source": [
    "## Python 的自省机制"
   ]
  },
  {
   "cell_type": "code",
   "execution_count": 9,
   "metadata": {},
   "outputs": [
    {
     "name": "stdout",
     "output_type": "stream",
     "text": [
      "user.__dict__ =  {'school_name': '慕课网'}\n",
      "Person.__dict__ =  {'__module__': '__main__', '__doc__': '\\n    doc\\n    ', 'name': 'user', '__dict__': <attribute '__dict__' of 'Person' objects>, '__weakref__': <attribute '__weakref__' of 'Person' objects>}\n",
      "user.name =  user\n"
     ]
    }
   ],
   "source": [
    "class Person:\n",
    "    \"\"\"\n",
    "    doc\n",
    "    \"\"\"\n",
    "    # name 属于类变量\n",
    "    name = \"user\"\n",
    "\n",
    "class Student(Person):\n",
    "    def __init__(self, school_name):\n",
    "        self.school_name = school_name\n",
    "\n",
    "if __name__ == \"__main__\":\n",
    "    user = Student(\"慕课网\")\n",
    "\n",
    "    # 通过 __dict__ 查询属性（c实现，效率高）\n",
    "    print(\"user.__dict__ = \", user.__dict__)\n",
    "    print(\"Person.__dict__ = \", Person.__dict__)\n",
    "    print(\"user.name = \", user.name)"
   ]
  },
  {
   "cell_type": "markdown",
   "metadata": {},
   "source": [
    "### 通过自省直接修改"
   ]
  },
  {
   "cell_type": "code",
   "execution_count": 13,
   "metadata": {},
   "outputs": [
    {
     "name": "stdout",
     "output_type": "stream",
     "text": [
      "user.__dict__ =  {'school_name': '慕课网'}\n",
      "user.school_addr =  北京市\n",
      "['__class__', '__delattr__', '__dict__', '__dir__', '__doc__', '__eq__', '__format__', '__ge__', '__getattribute__', '__gt__', '__hash__', '__init__', '__init_subclass__', '__le__', '__lt__', '__module__', '__ne__', '__new__', '__reduce__', '__reduce_ex__', '__repr__', '__setattr__', '__sizeof__', '__str__', '__subclasshook__', '__weakref__', 'name', 'school_addr', 'school_name']\n",
      "['__add__', '__class__', '__contains__', '__delattr__', '__delitem__', '__dir__', '__doc__', '__eq__', '__format__', '__ge__', '__getattribute__', '__getitem__', '__gt__', '__hash__', '__iadd__', '__imul__', '__init__', '__init_subclass__', '__iter__', '__le__', '__len__', '__lt__', '__mul__', '__ne__', '__new__', '__reduce__', '__reduce_ex__', '__repr__', '__reversed__', '__rmul__', '__setattr__', '__setitem__', '__sizeof__', '__str__', '__subclasshook__', 'append', 'clear', 'copy', 'count', 'extend', 'index', 'insert', 'pop', 'remove', 'reverse', 'sort']\n"
     ]
    }
   ],
   "source": [
    "class Person:\n",
    "    \"\"\"\n",
    "    doc\n",
    "    \"\"\"\n",
    "    # name 属于类变量\n",
    "    name = \"user\"\n",
    "\n",
    "class Student(Person):\n",
    "    def __init__(self, school_name):\n",
    "        self.school_name = school_name\n",
    "\n",
    "if __name__ == \"__main__\":\n",
    "    user = Student(\"慕课网\")\n",
    "\n",
    "    # 通过 __dict__ 查询属性（c实现，效率高）\n",
    "    print(\"user.__dict__ = \", user.__dict__)\n",
    "    user.__dict__[\"school_addr\"] = \"北京市\"\n",
    "    print(\"user.school_addr = \", user.school_addr)\n",
    "    # 通过 dir() 列出对象中的所有属性名称\n",
    "    print(dir(user))\n",
    "    a = [1, 2]\n",
    "    # print(a.__dict__) 'list' object has no attribute '__dict__'\n",
    "    print(dir(a))"
   ]
  }
 ],
 "metadata": {
  "kernelspec": {
   "display_name": "Python 3",
   "language": "python",
   "name": "python3"
  },
  "language_info": {
   "codemirror_mode": {
    "name": "ipython",
    "version": 3
   },
   "file_extension": ".py",
   "mimetype": "text/x-python",
   "name": "python",
   "nbconvert_exporter": "python",
   "pygments_lexer": "ipython3",
   "version": "3.8.10"
  }
 },
 "nbformat": 4,
 "nbformat_minor": 2
}
