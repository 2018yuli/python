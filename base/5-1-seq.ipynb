{
 "cells": [
  {
   "cell_type": "markdown",
   "metadata": {},
   "source": [
    "## Python 中的序列\n",
    "- str, tuple, bytes 是不可变序列"
   ]
  },
  {
   "cell_type": "code",
   "execution_count": 2,
   "metadata": {},
   "outputs": [
    {
     "name": "stdout",
     "output_type": "stream",
     "text": [
      "队列内容: deque([0, 1, 2, 3])\n",
      "队列内容: deque([1, 2])\n",
      "队列长度: 2\n"
     ]
    }
   ],
   "source": [
    "from collections import deque\n",
    "\n",
    "# 创建一个空的 双端队列 deque\n",
    "dq = deque()\n",
    "\n",
    "# 在右侧添加元素\n",
    "dq.append(1)\n",
    "dq.append(2)\n",
    "dq.append(3)\n",
    "\n",
    "# 在左侧添加元素\n",
    "dq.appendleft(0)\n",
    "\n",
    "print(\"队列内容:\", dq)  # 输出: deque([0, 1, 2, 3])\n",
    "\n",
    "# 从右侧删除元素\n",
    "dq.pop()  # 删除 3\n",
    "\n",
    "# 从左侧删除元素\n",
    "dq.popleft()  # 删除 0\n",
    "\n",
    "print(\"队列内容:\", dq)  # 输出: deque([1, 2])\n",
    "\n",
    "# 查看队列的长度\n",
    "print(\"队列长度:\", len(dq))  # 输出: 2\n"
   ]
  },
  {
   "cell_type": "code",
   "execution_count": 4,
   "metadata": {},
   "outputs": [
    {
     "name": "stdout",
     "output_type": "stream",
     "text": [
      "apple\n",
      "banana\n",
      "cherry\n",
      "['apple', 'orange', 'cherry']\n",
      "['apple', 'orange', 'cherry', 'grape']\n",
      "['apple', 'blueberry', 'orange', 'cherry', 'grape']\n",
      "['apple', 'blueberry', 'cherry', 'grape']\n",
      "['apple', 'blueberry', 'grape']\n",
      "grape\n",
      "['apple', 'blueberry']\n",
      "['apple', 'blueberry', 'kiwi', 'pear']\n",
      "['apple']\n",
      "True\n",
      "False\n"
     ]
    }
   ],
   "source": [
    "# 创建一个空的列表\n",
    "my_list = []\n",
    "\n",
    "# 创建并初始化一个列表\n",
    "fruits = [\"apple\", \"banana\", \"cherry\"]\n",
    "\n",
    "# 访问列表中的元素\n",
    "print(fruits[0])  # 输出: apple\n",
    "print(fruits[1])  # 输出: banana\n",
    "print(fruits[-1]) # 输出: cherry (负索引表示从后面开始访问)\n",
    "\n",
    "# -----------------------------------------------------------------------\n",
    "# 修改列表中的元素\n",
    "fruits[1] = \"orange\"\n",
    "print(fruits)  # 输出: ['apple', 'orange', 'cherry']\n",
    "\n",
    "# 添加元素到列表末尾\n",
    "fruits.append(\"grape\")\n",
    "print(fruits)  # 输出: ['apple', 'orange', 'cherry', 'grape']\n",
    "\n",
    "# 插入元素到指定位置\n",
    "fruits.insert(1, \"blueberry\")\n",
    "print(fruits)  # 输出: ['apple', 'blueberry', 'orange', 'cherry', 'grape']\n",
    "\n",
    "# -----------------------------------------------------------------------\n",
    "# 从列表中删除元素\n",
    "fruits.remove(\"orange\")  # 删除第一个匹配的元素\n",
    "print(fruits)  # 输出: ['apple', 'blueberry', 'cherry', 'grape']\n",
    "\n",
    "# 删除指定索引的元素\n",
    "del fruits[2]\n",
    "print(fruits)  # 输出: ['apple', 'blueberry', 'grape']\n",
    "\n",
    "# 弹出并返回最后一个元素\n",
    "last_fruit = fruits.pop()\n",
    "print(last_fruit)  # 输出: grape\n",
    "print(fruits)  # 输出: ['apple', 'blueberry']\n",
    "\n",
    "# -----------------------------------------------------------------------\n",
    "# 拼接两个列表\n",
    "new_fruits = fruits + [\"kiwi\", \"pear\"]\n",
    "print(new_fruits)  # 输出: ['apple', 'blueberry', 'kiwi', 'pear']\n",
    "\n",
    "# 列表切片\n",
    "subset = fruits[0:1]\n",
    "print(subset)  # 输出: ['apple']\n",
    "\n",
    "# 判断元素是否在列表中\n",
    "print(\"apple\" in fruits)  # 输出: True\n",
    "print(\"grape\" in fruits)  # 输出: False\n"
   ]
  }
 ],
 "metadata": {
  "kernelspec": {
   "display_name": "Python 3",
   "language": "python",
   "name": "python3"
  },
  "language_info": {
   "codemirror_mode": {
    "name": "ipython",
    "version": 3
   },
   "file_extension": ".py",
   "mimetype": "text/x-python",
   "name": "python",
   "nbconvert_exporter": "python",
   "pygments_lexer": "ipython3",
   "version": "3.8.10"
  }
 },
 "nbformat": 4,
 "nbformat_minor": 2
}
