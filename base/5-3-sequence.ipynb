{
 "cells": [
  {
   "cell_type": "markdown",
   "metadata": {},
   "source": [
    "## Python 中的常用序列\n",
    "- `+`\n",
    "- `+=`\n",
    "- `extend`\n",
    "- `append`"
   ]
  },
  {
   "cell_type": "code",
   "execution_count": 7,
   "metadata": {},
   "outputs": [
    {
     "name": "stdout",
     "output_type": "stream",
     "text": [
      "c = a + [3, 4]:  [1, 2, 3, 4]\n",
      "a += [3, 4]:  [1, 2, 3, 4]\n",
      "a += (3, 4):  [1, 2, 3, 4]\n",
      "a.extend(range(3)):  [1, 2, 0, 1, 2]\n",
      "a.append([1, 2]):  [1, 2, [1, 2]]\n"
     ]
    }
   ],
   "source": [
    "my_list = []\n",
    "my_list.append(1)\n",
    "my_list.append(\"a\")\n",
    "\n",
    "from collections import abc\n",
    "\n",
    "# + 符号：就地加\n",
    "a = list()\n",
    "a = [1, 2]\n",
    "c = a + [3, 4]\n",
    "print(\"c = a + [3, 4]: \", c)\n",
    "\n",
    "# += 符号：修改 a，不产生新的 list\n",
    "a = [1, 2]\n",
    "a += [3, 4]\n",
    "print(\"a += [3, 4]: \", a)\n",
    "\n",
    "# += 可以添加任意的序列类型 S.extend(iterable)，+ 只能是同类型\n",
    "a = [1, 2]\n",
    "a += (3, 4)\n",
    "print(\"a += (3, 4): \", a)\n",
    "\n",
    "a = [1, 2]\n",
    "a.extend(range(3))\n",
    "print(\"a.extend(range(3)): \", a)\n",
    "\n",
    "# append\n",
    "a = [1, 2]\n",
    "a.append([1, 2])\n",
    "print(\"a.append([1, 2]): \", a)"
   ]
  }
 ],
 "metadata": {
  "kernelspec": {
   "display_name": "Python 3",
   "language": "python",
   "name": "python3"
  },
  "language_info": {
   "codemirror_mode": {
    "name": "ipython",
    "version": 3
   },
   "file_extension": ".py",
   "mimetype": "text/x-python",
   "name": "python",
   "nbconvert_exporter": "python",
   "pygments_lexer": "ipython3",
   "version": "3.8.10"
  }
 },
 "nbformat": 4,
 "nbformat_minor": 2
}
