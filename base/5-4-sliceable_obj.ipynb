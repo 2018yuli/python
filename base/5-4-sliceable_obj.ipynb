{
 "cells": [
  {
   "cell_type": "markdown",
   "metadata": {},
   "source": [
    "## 实现可切片对象"
   ]
  },
  {
   "cell_type": "markdown",
   "metadata": {},
   "source": [
    "### 切片演示\n",
    "- 切片不会改变原列表"
   ]
  },
  {
   "cell_type": "code",
   "execution_count": 3,
   "metadata": {},
   "outputs": [
    {
     "name": "stdout",
     "output_type": "stream",
     "text": [
      "[3, 5, 7, 11, 15]\n",
      "[4, 6, 9, 13, 17]\n",
      "[6, 7, 9]\n",
      "[0, 2, 0, 4, 0, 6]\n"
     ]
    }
   ],
   "source": [
    "# 模式 [start:end:step]\n",
    "# step 为负数时，表示反向切片，这是 start 应该大于 end 才行\n",
    "aList=[3, 4, 5, 6, 7, 9, 11, 13, 15, 17]\n",
    "\n",
    "aList[::] #aList[0:len(aList):1]返回包含原列表中所有元素的 【新列表】\n",
    "aList[::-1] #返回包含原列表中所有元素的逆序列表\n",
    "print(aList[::2]) #隔一个取一个，获取偶数位置的元素\n",
    "print (aList[1::2])#隔一个取一个，获取奇数位置的元素\n",
    "print(aList[3:6])#指定切片的开始和结束位置\n",
    "aList[0:100]#切片结束位置大于列表长度时，从列表尾部截断\n",
    "aList[100:]# 切片开始位置大于列表长度时，返回空列表\n",
    "\n",
    "aList[len(aList):]=[9]#在列表尾部增加元素\n",
    "aList[:0]=[1, 2]#在列表头部插入元素\n",
    "aList[3:3]=[4] #在列表中间位置插入元素\n",
    "aList[:3]=[1, 2]#替换列表元素，等号两边的列表长度相等#等号两边的列表长度也可以不相等\n",
    "aList[3:]=[4, 5, 6]# 等号两边的列表长度也可以不相等\n",
    "aList[::2]=[0]*3 # 隔一个修改一个\n",
    "print(aList)\n",
    "aList[::2]=['a', 'b', 'c'] # 隔一个修改一个\n",
    "# aList[::2]=[1, 2] #左侧切片不连续，等号两边列表长度必须相等\n",
    "aList[:3]=[] #删除列表中前3个元素"
   ]
  },
  {
   "cell_type": "markdown",
   "metadata": {},
   "source": [
    "### 实现可切片的对象"
   ]
  },
  {
   "cell_type": "code",
   "execution_count": 14,
   "metadata": {},
   "outputs": [
    {
     "name": "stdout",
     "output_type": "stream",
     "text": [
      "subgroup =  Group: user, Company: 慕课网, Staffs: bobby1, imocc\n",
      "group[1] =  Group: user, Company: 慕课网, Staffs: imocc\n"
     ]
    }
   ],
   "source": [
    "import numbers\n",
    "\n",
    "class Group:\n",
    "    def __init__(self, group_name, company_name, staffs):\n",
    "        self.group_name = group_name\n",
    "        self.company_name = company_name\n",
    "        self.staffs = staffs\n",
    "    \n",
    "    def __str__(self):\n",
    "        return f\"Group: {self.group_name}, Company: {self.company_name}, Staffs: {', '.join(self.staffs)}\"\n",
    "\n",
    "    def __reversed__(self):\n",
    "        return Group(group_name=self.group_name, company_name=self.company_name, staffs=list(reversed(self.staffs)))\n",
    "\n",
    "    def __getitem__(self, item):\n",
    "        # cls = Group\n",
    "        cls = type(self)\n",
    "        if isinstance(item, slice):\n",
    "            return cls(group_name=self.group_name, company_name=self.company_name, staffs=self.staffs[item])\n",
    "        elif isinstance(item, numbers.Integral):\n",
    "            return cls(group_name=self.group_name, company_name=self.company_name, staffs=[self.staffs[item]])\n",
    "        return self.staffs[item]\n",
    "\n",
    "    def __len__(self):\n",
    "        return len(self.staffs)\n",
    "\n",
    "    def __iter__(self):\n",
    "        return iter(self.staffs)\n",
    "\n",
    "    def __contains__(self, item):\n",
    "        return item in self.staffs\n",
    "\n",
    "staffs = [\"bobby1\", \"imocc\", \"bobby2\"]\n",
    "group = Group(company_name=\"慕课网\", group_name=\"user\", staffs=staffs)\n",
    "subgroup = group[:2]\n",
    "print(\"subgroup = \", subgroup)\n",
    "print(\"group[1] = \", group[1])"
   ]
  }
 ],
 "metadata": {
  "kernelspec": {
   "display_name": "Python 3",
   "language": "python",
   "name": "python3"
  },
  "language_info": {
   "codemirror_mode": {
    "name": "ipython",
    "version": 3
   },
   "file_extension": ".py",
   "mimetype": "text/x-python",
   "name": "python",
   "nbconvert_exporter": "python",
   "pygments_lexer": "ipython3",
   "version": "3.8.10"
  }
 },
 "nbformat": 4,
 "nbformat_minor": 2
}
