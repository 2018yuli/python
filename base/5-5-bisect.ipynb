{
 "cells": [
  {
   "cell_type": "markdown",
   "metadata": {},
   "source": [
    "## Python 中，已排序的序列"
   ]
  },
  {
   "cell_type": "code",
   "execution_count": 3,
   "metadata": {},
   "outputs": [
    {
     "name": "stdout",
     "output_type": "stream",
     "text": [
      "in_list =  [1, 2, 3, 5, 6]\n",
      "bisect.bisect(int_list, 3) default in right =  3\n",
      "bisect.bisect_left(int_list, 3) =  2\n"
     ]
    }
   ],
   "source": [
    "import bisect\n",
    "\n",
    "# 用来维持已排序（升序）的序列（二分法）\n",
    "int_list = []\n",
    "bisect.insort(int_list, 3)\n",
    "bisect.insort(int_list, 2)\n",
    "bisect.insort(int_list, 5)\n",
    "bisect.insort(int_list, 1)\n",
    "bisect.insort(int_list, 6)\n",
    "\n",
    "print(\"in_list = \", int_list)\n",
    "\n",
    "# bisect.bisect 重复插入right,后面\n",
    "print(\"bisect.bisect(int_list, 3) default in right = \", bisect.bisect(int_list, 3))\n",
    "print(\"bisect.bisect_left(int_list, 3) = \", bisect.bisect_left(int_list, 3))\n"
   ]
  }
 ],
 "metadata": {
  "kernelspec": {
   "display_name": "Python 3",
   "language": "python",
   "name": "python3"
  },
  "language_info": {
   "codemirror_mode": {
    "name": "ipython",
    "version": 3
   },
   "file_extension": ".py",
   "mimetype": "text/x-python",
   "name": "python",
   "nbconvert_exporter": "python",
   "pygments_lexer": "ipython3",
   "version": "3.8.10"
  }
 },
 "nbformat": 4,
 "nbformat_minor": 2
}
