{
 "cells": [
  {
   "cell_type": "markdown",
   "metadata": {},
   "source": [
    "## 列表推导式"
   ]
  },
  {
   "cell_type": "code",
   "execution_count": 2,
   "metadata": {},
   "outputs": [
    {
     "name": "stdout",
     "output_type": "stream",
     "text": [
      "odd_list =  [1, 3, 5, 7, 9, 11, 13, 15, 17, 19]\n"
     ]
    }
   ],
   "source": [
    "# 1. 提取出 1~20 中的奇数\n",
    "odd_list = []\n",
    "for i in range(21):\n",
    "    if i%2 == 1:\n",
    "        odd_list.append(i)\n",
    "print(\"odd_list = \", odd_list)"
   ]
  },
  {
   "cell_type": "code",
   "execution_count": 3,
   "metadata": {},
   "outputs": [
    {
     "name": "stdout",
     "output_type": "stream",
     "text": [
      "odd_list =  [1, 3, 5, 7, 9, 11, 13, 15, 17, 19]\n"
     ]
    }
   ],
   "source": [
    "# 1. 提取出 1~20 中的奇数\n",
    "odd_list = [i for i in range(21) if i % 2 == 1]\n",
    "print(\"odd_list = \", odd_list)"
   ]
  },
  {
   "cell_type": "code",
   "execution_count": 5,
   "metadata": {},
   "outputs": [
    {
     "name": "stdout",
     "output_type": "stream",
     "text": [
      "odd_list =  [1, 9, 25, 49, 81, 121, 169, 225, 289, 361]\n"
     ]
    }
   ],
   "source": [
    "# 添加逻辑，python 中的 lambda\n",
    "def handle_item(item):\n",
    "    return item * item\n",
    "\n",
    "odd_list = [handle_item(i) for i in range(21) if i % 2 == 1]\n",
    "print(\"odd_list = \", odd_list)"
   ]
  },
  {
   "cell_type": "markdown",
   "metadata": {},
   "source": [
    "### 生成器表达式"
   ]
  },
  {
   "cell_type": "code",
   "execution_count": 8,
   "metadata": {},
   "outputs": [
    {
     "name": "stdout",
     "output_type": "stream",
     "text": [
      "odd_gen =  <class 'generator'>\n",
      "odd_gen =  <generator object <genexpr> at 0x7f226060b580>\n",
      "1\n",
      "3\n",
      "5\n",
      "7\n",
      "9\n",
      "11\n",
      "13\n",
      "15\n",
      "17\n",
      "19\n"
     ]
    }
   ],
   "source": [
    "odd_gen = (i for i in range(21) if i % 2 == 1)\n",
    "print(\"odd_gen = \", type(odd_gen))\n",
    "print(\"odd_gen = \", odd_gen)\n",
    "for item in odd_gen:\n",
    "    print(item)"
   ]
  },
  {
   "cell_type": "markdown",
   "metadata": {},
   "source": [
    "### 字典推导式"
   ]
  },
  {
   "cell_type": "code",
   "execution_count": 9,
   "metadata": {},
   "outputs": [
    {
     "name": "stdout",
     "output_type": "stream",
     "text": [
      "reversed_dict =  {22: 'bobby1', 23: 'bobby2', 5: 'imooc.com'}\n"
     ]
    }
   ],
   "source": [
    "my_dict = {\"bobby1\":22, \"bobby2\": 23, \"imooc.com\": 5}\n",
    "reversed_dict = {value:key for key, value in my_dict.items()}\n",
    "print(\"reversed_dict = \", reversed_dict)"
   ]
  },
  {
   "cell_type": "markdown",
   "metadata": {},
   "source": [
    "### 集合（Set）推导式"
   ]
  },
  {
   "cell_type": "code",
   "execution_count": 11,
   "metadata": {},
   "outputs": [
    {
     "name": "stdout",
     "output_type": "stream",
     "text": [
      "<class 'set'>\n",
      "my_set =  {'bobby1', 'bobby2', 'imooc.com'}\n"
     ]
    }
   ],
   "source": [
    "my_dict = {\"bobby1\":22, \"bobby2\": 23, \"imooc.com\": 5}\n",
    "my_set = {key for key, value in my_dict.items()}\n",
    "print(type(my_set))\n",
    "print(\"my_set = \", my_set)"
   ]
  }
 ],
 "metadata": {
  "kernelspec": {
   "display_name": "Python 3",
   "language": "python",
   "name": "python3"
  },
  "language_info": {
   "codemirror_mode": {
    "name": "ipython",
    "version": 3
   },
   "file_extension": ".py",
   "mimetype": "text/x-python",
   "name": "python",
   "nbconvert_exporter": "python",
   "pygments_lexer": "ipython3",
   "version": "3.8.10"
  }
 },
 "nbformat": 4,
 "nbformat_minor": 2
}
