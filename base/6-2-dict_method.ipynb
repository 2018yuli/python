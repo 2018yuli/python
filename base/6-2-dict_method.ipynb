{
 "cells": [
  {
   "cell_type": "markdown",
   "metadata": {},
   "source": [
    "## Python Dict 常用方法"
   ]
  },
  {
   "cell_type": "code",
   "execution_count": 2,
   "metadata": {},
   "outputs": [],
   "source": [
    "a = dict()\n",
    "a = {\"bobby1\":{\"company\": \"imooc\"},\"bobby2\":{\"company\": \"imooc2\"}}\n",
    "a.clear()"
   ]
  },
  {
   "cell_type": "code",
   "execution_count": 4,
   "metadata": {},
   "outputs": [
    {
     "name": "stdout",
     "output_type": "stream",
     "text": [
      "a =  {'bobby1': {'company': 'imooc3'}, 'bobby2': {'company': 'imooc2'}}\n",
      "new_dict =  {'bobby1': {'company': 'imooc3'}, 'bobby2': {'company': 'imooc2'}, 'bobby3': {'company': 'imooc3'}}\n"
     ]
    }
   ],
   "source": [
    "# copy 是浅拷贝\n",
    "a = {\"bobby1\":{\"company\": \"imooc\"},\"bobby2\":{\"company\": \"imooc2\"}}\n",
    "new_dict = a.copy()\n",
    "new_dict[\"bobby1\"][\"company\"] = \"imooc3\"\n",
    "new_dict[\"bobby3\"] = {\"company\": \"imooc3\"}\n",
    "print(\"a = \", a)\n",
    "print(\"new_dict = \", new_dict)"
   ]
  },
  {
   "cell_type": "code",
   "execution_count": 5,
   "metadata": {},
   "outputs": [
    {
     "name": "stdout",
     "output_type": "stream",
     "text": [
      "a =  {'bobby1': {'company': 'imooc'}, 'bobby2': {'company': 'imooc2'}}\n",
      "new_dict =  {'bobby1': {'company': 'imooc3'}, 'bobby2': {'company': 'imooc2'}, 'bobby3': {'company': 'imooc3'}}\n"
     ]
    }
   ],
   "source": [
    "# 深拷贝\n",
    "import copy\n",
    "\n",
    "a = {\"bobby1\":{\"company\": \"imooc\"},\"bobby2\":{\"company\": \"imooc2\"}}\n",
    "new_dict = copy.deepcopy(a)\n",
    "new_dict[\"bobby1\"][\"company\"] = \"imooc3\"\n",
    "new_dict[\"bobby3\"] = {\"company\": \"imooc3\"}\n",
    "print(\"a = \", a)\n",
    "print(\"new_dict = \", new_dict)"
   ]
  },
  {
   "cell_type": "code",
   "execution_count": 8,
   "metadata": {},
   "outputs": [
    {
     "name": "stdout",
     "output_type": "stream",
     "text": [
      "new_dict =  {'bobby1': {'company': 'imooc'}, 'bobby2': {'company': 'imooc'}}\n"
     ]
    }
   ],
   "source": [
    "# fromKeys\n",
    "new_list = [\"bobby1\", \"bobby2\"]\n",
    "new_dict = dict.fromkeys(new_list, {\"company\": \"imooc\"})\n",
    "print(\"new_dict = \", new_dict)"
   ]
  },
  {
   "cell_type": "code",
   "execution_count": 10,
   "metadata": {},
   "outputs": [
    {
     "data": {
      "text/plain": [
       "{}"
      ]
     },
     "execution_count": 10,
     "metadata": {},
     "output_type": "execute_result"
    }
   ],
   "source": [
    "a = {\"bobby1\":{\"company\": \"imooc\"},\"bobby2\":{\"company\": \"imooc2\"}}\n",
    "# a[\"bobby\"] # KeyError: 'bobby'\n",
    "# get 方法不会报错\n",
    "a.get(\"bobby\", {})"
   ]
  },
  {
   "cell_type": "code",
   "execution_count": 11,
   "metadata": {},
   "outputs": [
    {
     "name": "stdout",
     "output_type": "stream",
     "text": [
      "bobby1 {'company': 'imooc'}\n",
      "bobby2 {'company': 'imooc2'}\n"
     ]
    }
   ],
   "source": [
    "# items\n",
    "a = {\"bobby1\":{\"company\": \"imooc\"},\"bobby2\":{\"company\": \"imooc2\"}}\n",
    "for key, value in a.items():\n",
    "    print(key, value)"
   ]
  },
  {
   "cell_type": "code",
   "execution_count": 12,
   "metadata": {},
   "outputs": [
    {
     "name": "stdout",
     "output_type": "stream",
     "text": [
      "a =  {'bobby1': {'company': 'imooc'}, 'bobby2': {'company': 'imooc2'}, 'bobby': 'imooc'}\n"
     ]
    }
   ],
   "source": [
    "# setdefault 取值，如果不存在，将 key,value 设置进去\n",
    "a = {\"bobby1\":{\"company\": \"imooc\"},\"bobby2\":{\"company\": \"imooc2\"}}\n",
    "a.setdefault(\"bobby\", \"imooc\")\n",
    "print(\"a = \", a)"
   ]
  },
  {
   "cell_type": "code",
   "execution_count": 18,
   "metadata": {},
   "outputs": [
    {
     "name": "stdout",
     "output_type": "stream",
     "text": [
      "a =  {'bobby1': {'company': 'imooc'}, 'bobby2': {'company': 'imooc2'}, 'bobby': 'imooc'}\n",
      "a =  {'bobby1': {'company': 'imooc'}, 'bobby2': {'company': 'imooc2'}, 'bobby': 'imooc', 'bobby3': 'imooc'}\n",
      "a =  {'bobby1': {'company': 'imooc'}, 'bobby2': {'company': 'imooc2'}, 'bobby': 'imooc', 'bobby3': 'imooc', 'bobby4': 'imooc'}\n",
      "a =  {'bobby1': {'company': 'imooc'}, 'bobby2': {'company': 'imooc2'}, 'bobby': 'imooc', 'bobby3': 'imooc', 'bobby4': 'imooc', 'bobby5': 'imooc'}\n"
     ]
    }
   ],
   "source": [
    "# udpate: \n",
    "a = {\"bobby1\":{\"company\": \"imooc\"},\"bobby2\":{\"company\": \"imooc2\"}}\n",
    "a.update({\"bobby\": \"imooc\"})\n",
    "print(\"a = \", a)\n",
    "a.update(bobby=\"imooc\", bobby3=\"imooc\")\n",
    "print(\"a = \", a)\n",
    "a.update([(\"bobby4\", \"imooc\")])\n",
    "print(\"a = \", a)\n",
    "a.update(((\"bobby5\", \"imooc\"),))\n",
    "print(\"a = \", a)"
   ]
  }
 ],
 "metadata": {
  "kernelspec": {
   "display_name": "Python 3",
   "language": "python",
   "name": "python3"
  },
  "language_info": {
   "codemirror_mode": {
    "name": "ipython",
    "version": 3
   },
   "file_extension": ".py",
   "mimetype": "text/x-python",
   "name": "python",
   "nbconvert_exporter": "python",
   "pygments_lexer": "ipython3",
   "version": "3.8.10"
  }
 },
 "nbformat": 4,
 "nbformat_minor": 2
}
