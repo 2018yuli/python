{
 "cells": [
  {
   "cell_type": "markdown",
   "metadata": {},
   "source": [
    "## Python 中的 dict 的子类\n",
    "- 不建议继承 list, dict 等 c 语言实现的子类"
   ]
  },
  {
   "cell_type": "code",
   "execution_count": 2,
   "metadata": {},
   "outputs": [
    {
     "name": "stdout",
     "output_type": "stream",
     "text": [
      "my_dict =  {'one': 1}\n",
      "my_dict =  {'one': 1, 'tow': 4}\n"
     ]
    }
   ],
   "source": [
    "class Mydict(dict):\n",
    "    def __setitem__(self, key, value):\n",
    "        super().__setitem__(key, value*2)\n",
    "\n",
    "# 在某些情况下，c 语言实现的 dict 不会去调用我们覆盖的方法 __setitem__\n",
    "my_dict = Mydict(one = 1) # super().__setitem__(key, value*2) 无效\n",
    "print(\"my_dict = \", my_dict)\n",
    "my_dict[\"tow\"] = 2 # super().__setitem__(key, value*2) 生效\n",
    "print(\"my_dict = \", my_dict)"
   ]
  },
  {
   "cell_type": "markdown",
   "metadata": {},
   "source": [
    "### 如何实现 dict 的继承\n",
    "- 使用 from collections import UserDict (使用 python 实现的)"
   ]
  },
  {
   "cell_type": "code",
   "execution_count": 3,
   "metadata": {},
   "outputs": [
    {
     "name": "stdout",
     "output_type": "stream",
     "text": [
      "my_dict =  {'one': 2}\n",
      "my_dict =  {'one': 2, 'tow': 4}\n"
     ]
    }
   ],
   "source": [
    "from collections import UserDict\n",
    "\n",
    "class Mydict(UserDict):\n",
    "    def __setitem__(self, key, value):\n",
    "        super().__setitem__(key, value*2)\n",
    "\n",
    "my_dict = Mydict(one = 1)\n",
    "print(\"my_dict = \", my_dict)\n",
    "my_dict[\"tow\"] = 2\n",
    "print(\"my_dict = \", my_dict)"
   ]
  },
  {
   "cell_type": "markdown",
   "metadata": {},
   "source": [
    "### Python 中的 DefaultDict\n",
    "- 实际上是，当值不存在是，调用了 __missing__ 魔法函数"
   ]
  },
  {
   "cell_type": "code",
   "execution_count": 4,
   "metadata": {},
   "outputs": [
    {
     "name": "stdout",
     "output_type": "stream",
     "text": [
      "defaultdict(<class 'int'>, {'a': 1, 'b': 2, 'c': 3})\n"
     ]
    }
   ],
   "source": [
    "from collections import defaultdict\n",
    "\n",
    "# 创建一个默认值为 int（即默认值为 0）的 defaultdict\n",
    "dd = defaultdict(int)\n",
    "\n",
    "dd['a'] += 1  # 增加键 'a' 的值\n",
    "dd['b'] += 2  # 增加键 'b' 的值\n",
    "dd['c'] += 3  # 增加键 'c' 的值\n",
    "\n",
    "print(dd)  # 输出: defaultdict(<class 'int'>, {'a': 1, 'b': 2, 'c': 3})"
   ]
  },
  {
   "cell_type": "markdown",
   "metadata": {},
   "source": [
    "- 使用默认值工厂函数 list 来处理列表"
   ]
  },
  {
   "cell_type": "code",
   "execution_count": 5,
   "metadata": {},
   "outputs": [
    {
     "name": "stdout",
     "output_type": "stream",
     "text": [
      "defaultdict(<class 'list'>, {'fruits': ['apple', 'banana'], 'vegetables': ['carrot']})\n"
     ]
    }
   ],
   "source": [
    "from collections import defaultdict\n",
    "\n",
    "# 创建一个默认值为 list 的 defaultdict\n",
    "dd = defaultdict(list)\n",
    "\n",
    "dd['fruits'].append('apple')  # 向键 'fruits' 对应的列表添加元素\n",
    "dd['fruits'].append('banana')  # 向键 'fruits' 对应的列表添加元素\n",
    "dd['vegetables'].append('carrot')  # 向键 'vegetables' 对应的列表添加元素\n",
    "\n",
    "print(dd)  # 输出: defaultdict(<class 'list'>, {'fruits': ['apple', 'banana'], 'vegetables': ['carrot']})"
   ]
  },
  {
   "cell_type": "markdown",
   "metadata": {},
   "source": [
    "- 使用默认值工厂函数 set 来处理集合："
   ]
  },
  {
   "cell_type": "code",
   "execution_count": 6,
   "metadata": {},
   "outputs": [
    {
     "name": "stdout",
     "output_type": "stream",
     "text": [
      "defaultdict(<class 'set'>, {'even': {2, 4}, 'odd': {1}})\n"
     ]
    }
   ],
   "source": [
    "from collections import defaultdict\n",
    "\n",
    "# 创建一个默认值为 set 的 defaultdict\n",
    "dd = defaultdict(set)\n",
    "\n",
    "dd['even'].add(2)  # 向键 'even' 对应的集合添加元素\n",
    "dd['even'].add(4)  # 向键 'even' 对应的集合添加元素\n",
    "dd['odd'].add(1)   # 向键 'odd' 对应的集合添加元素\n",
    "\n",
    "print(dd)  # 输出: defaultdict(<class 'set'>, {'even': {2, 4}, 'odd': {1}})"
   ]
  }
 ],
 "metadata": {
  "kernelspec": {
   "display_name": "Python 3",
   "language": "python",
   "name": "python3"
  },
  "language_info": {
   "codemirror_mode": {
    "name": "ipython",
    "version": 3
   },
   "file_extension": ".py",
   "mimetype": "text/x-python",
   "name": "python",
   "nbconvert_exporter": "python",
   "pygments_lexer": "ipython3",
   "version": "3.8.10"
  }
 },
 "nbformat": 4,
 "nbformat_minor": 2
}
