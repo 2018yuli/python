{
 "cells": [
  {
   "cell_type": "markdown",
   "metadata": {},
   "source": [
    "## Set 和 FronzenSet"
   ]
  },
  {
   "cell_type": "code",
   "execution_count": 2,
   "metadata": {},
   "outputs": [
    {
     "name": "stdout",
     "output_type": "stream",
     "text": [
      "s =  {'d', 'e', 'b', 'a', 'c'}\n",
      "s =  {'d', 'e', 'b', 'a', 'c'}\n",
      "type(s1) =  <class 'set'>\n"
     ]
    }
   ],
   "source": [
    "s = set(\"abcde\")\n",
    "print(\"s = \", s)\n",
    "s = set(['a', 'b', 'c', 'd', 'e'])\n",
    "print(\"s = \", s)\n",
    "s1 = {'a', 'b'}\n",
    "print(\"type(s1) = \", type(s1))\n",
    "\n",
    "# 没有 add 方法，可以作为 dict 的 key\n",
    "s2 = frozenset(\"abc\")"
   ]
  },
  {
   "cell_type": "code",
   "execution_count": 10,
   "metadata": {},
   "outputs": [
    {
     "name": "stdout",
     "output_type": "stream",
     "text": [
      "s =  {'d', 'e', 'b', 'a', 'c', 'f'}\n",
      "s =  {'g', 'd', 'e', 'b', 'a', 'c', 'f'}\n",
      "re_set =  {'d', 'b', 'c', 'a'}\n",
      "Difference (set1 - set2): {'d', 'b', 'c', 'a'}\n",
      "Union (set1 | set2): {'h', 'g', 'd', 'e', 'b', 'a', 'c', 'f'}\n",
      "Intersection (set1 & set2): {'e', 'f'}\n",
      "c in set1\n"
     ]
    }
   ],
   "source": [
    "s = set(\"abcde\")\n",
    "s.add('f')\n",
    "print(\"s = \", s)\n",
    "another_set = set('defg')\n",
    "s.update(another_set)\n",
    "print(\"s = \", s)\n",
    "\n",
    "# 差集 s - another_set2，不会修改 s，返回新的 set\n",
    "another_set2 = set('efgh')\n",
    "re_set = s.difference(another_set2)\n",
    "print(\"re_set = \", re_set)\n",
    "\n",
    "set1 = set(\"abcdef\")\n",
    "set2 = set('efgh')\n",
    "\n",
    "# 计算差集\n",
    "diff_result = set1 - set2\n",
    "print(\"Difference (set1 - set2):\", diff_result)\n",
    "\n",
    "# 计算并集\n",
    "union_result = set1 | set2\n",
    "print(\"Union (set1 | set2):\", union_result)\n",
    "\n",
    "# 计算交集\n",
    "intersection_result = set1 & set2\n",
    "print(\"Intersection (set1 & set2):\", intersection_result)\n",
    "\n",
    "if \"c\" in set1:\n",
    "    print(\"c in set1\")"
   ]
  }
 ],
 "metadata": {
  "kernelspec": {
   "display_name": "Python 3",
   "language": "python",
   "name": "python3"
  },
  "language_info": {
   "codemirror_mode": {
    "name": "ipython",
    "version": 3
   },
   "file_extension": ".py",
   "mimetype": "text/x-python",
   "name": "python",
   "nbconvert_exporter": "python",
   "pygments_lexer": "ipython3",
   "version": "3.8.10"
  }
 },
 "nbformat": 4,
 "nbformat_minor": 2
}
