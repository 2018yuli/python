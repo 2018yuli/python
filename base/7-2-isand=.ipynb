{
 "cells": [
  {
   "cell_type": "markdown",
   "metadata": {},
   "source": [
    "## is 和 =="
   ]
  },
  {
   "cell_type": "code",
   "execution_count": 4,
   "metadata": {},
   "outputs": [
    {
     "name": "stdout",
     "output_type": "stream",
     "text": [
      "a is b  False\n",
      "id(a) =  139828703845184 id(b) =  139828703780928\n"
     ]
    }
   ],
   "source": [
    "a = [1, 2, 3, 4]\n",
    "b = [1, 2, 3, 4]\n",
    "print(\"a is b \", a is b)\n",
    "print(\"id(a) = \", id(a), \"id(b) = \", id(b))"
   ]
  },
  {
   "cell_type": "code",
   "execution_count": 3,
   "metadata": {},
   "outputs": [
    {
     "name": "stdout",
     "output_type": "stream",
     "text": [
      "a is b  True\n",
      "id(a) =  9764384 id(b) =  9764384\n",
      "a is b  True\n",
      "id(a) =  139828813477680 id(b) =  139828813477680\n"
     ]
    }
   ],
   "source": [
    "# interm 机制，将一定范围内的小整数,小段的字符串，全局唯一\n",
    "a = 1\n",
    "b = 1\n",
    "print(\"a is b \", a is b)\n",
    "print(\"id(a) = \", id(a), \"id(b) = \", id(b))\n",
    "\n",
    "a = \"abc\"\n",
    "b = \"abc\"\n",
    "print(\"a is b \", a is b)\n",
    "print(\"id(a) = \", id(a), \"id(b) = \", id(b))"
   ]
  },
  {
   "cell_type": "code",
   "execution_count": 5,
   "metadata": {},
   "outputs": [
    {
     "name": "stdout",
     "output_type": "stream",
     "text": [
      "a == b  True\n"
     ]
    }
   ],
   "source": [
    "# == 会调用 __eq__ 的魔法函数\n",
    "a = [1, 2, 3, 4]\n",
    "b = [1, 2, 3, 4]\n",
    "print(\"a == b \", a == b)"
   ]
  },
  {
   "cell_type": "code",
   "execution_count": 7,
   "metadata": {},
   "outputs": [
    {
     "name": "stdout",
     "output_type": "stream",
     "text": [
      "true\n",
      "true\n"
     ]
    }
   ],
   "source": [
    "class People:\n",
    "    pass\n",
    "\n",
    "person = People()\n",
    "# type(person) 指向全局唯一的 People 对象。而 is 会调用 id() 方法来判断\n",
    "if type(person) is People:\n",
    "    print(\"true\")\n",
    "if isinstance(person, People):\n",
    "    print(\"true\")"
   ]
  }
 ],
 "metadata": {
  "kernelspec": {
   "display_name": "Python 3",
   "language": "python",
   "name": "python3"
  },
  "language_info": {
   "codemirror_mode": {
    "name": "ipython",
    "version": 3
   },
   "file_extension": ".py",
   "mimetype": "text/x-python",
   "name": "python",
   "nbconvert_exporter": "python",
   "pygments_lexer": "ipython3",
   "version": "3.8.10"
  }
 },
 "nbformat": 4,
 "nbformat_minor": 2
}
