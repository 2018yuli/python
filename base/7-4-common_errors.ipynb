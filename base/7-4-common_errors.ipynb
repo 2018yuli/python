{
 "cells": [
  {
   "cell_type": "markdown",
   "metadata": {},
   "source": [
    "## Python 中的常见错误"
   ]
  },
  {
   "cell_type": "code",
   "execution_count": 2,
   "metadata": {},
   "outputs": [
    {
     "name": "stdout",
     "output_type": "stream",
     "text": [
      "c =  3\n",
      "a =  1 b =  2\n",
      "\n",
      "c =  [1, 2, 3, 4]\n",
      "a =  [1, 2, 3, 4] b =  [3, 4]\n",
      "\n",
      "c =  (1, 2, 3, 4)\n",
      "a =  (1, 2) b =  (3, 4)\n"
     ]
    }
   ],
   "source": [
    "def add(a, b):\n",
    "    a += b\n",
    "    return a\n",
    "\n",
    "a = 1\n",
    "b = 2\n",
    "c = add(a, b)\n",
    "print(\"c = \", c)\n",
    "print(\"a = \", a, \"b = \", b)\n",
    "print()\n",
    "\n",
    "a = [1, 2]\n",
    "b = [3, 4]\n",
    "c = add(a, b)\n",
    "print(\"c = \", c)\n",
    "print(\"a = \", a, \"b = \", b)\n",
    "print()\n",
    "\n",
    "a = (1, 2)\n",
    "b = (3, 4)\n",
    "c = add(a, b)\n",
    "print(\"c = \", c)\n",
    "print(\"a = \", a, \"b = \", b)"
   ]
  },
  {
   "cell_type": "code",
   "execution_count": 9,
   "metadata": {},
   "outputs": [
    {
     "name": "stdout",
     "output_type": "stream",
     "text": [
      "com1.staffs =  ['bobby2', 'bobby3']\n",
      "\n",
      "com2.staffs =  ['bobby']\n",
      "Company.__init__.__defaults__ =  (['bobby'],)\n",
      "\n",
      "com2.staffs =  ['bobby', 'bobby3']\n",
      "com3.staffs =  ['bobby', 'bobby3']\n",
      "Company.__init__.__defaults__ =  (['bobby', 'bobby3'],)\n",
      "\n",
      "com2.staffs is com3.staffs =  True\n"
     ]
    }
   ],
   "source": [
    "class Company:\n",
    "    def __init__(self, name, staffs=[]):\n",
    "        self.name = name\n",
    "        self.staffs = staffs\n",
    "    def add(self, staff_name):\n",
    "        self.staffs.append(staff_name)\n",
    "    def remove(self, staff_name):\n",
    "        self.staffs.remove(staff_name)\n",
    "\n",
    "com1 = Company(\"com1\", [\"bobby1\", \"bobby2\"])\n",
    "com1.add(\"bobby3\")\n",
    "com1.remove(\"bobby1\")\n",
    "print(\"com1.staffs = \", com1.staffs)\n",
    "print()\n",
    "\n",
    "com2 = Company(\"com2\")\n",
    "com2.add(\"bobby\")\n",
    "print(\"com2.staffs = \", com2.staffs)\n",
    "print(\"Company.__init__.__defaults__ = \", Company.__init__.__defaults__)\n",
    "print()\n",
    "\n",
    "# 这里 com2 和 com3 共用了 默认的 staffs\n",
    "com3 = Company(\"com3\")\n",
    "com3.add(\"bobby3\")\n",
    "print(\"com2.staffs = \", com2.staffs)\n",
    "print(\"com3.staffs = \", com3.staffs)\n",
    "print(\"Company.__init__.__defaults__ = \", Company.__init__.__defaults__)\n",
    "print()\n",
    "print(\"com2.staffs is com3.staffs = \", com2.staffs is com3.staffs)"
   ]
  }
 ],
 "metadata": {
  "kernelspec": {
   "display_name": "Python 3",
   "language": "python",
   "name": "python3"
  },
  "language_info": {
   "codemirror_mode": {
    "name": "ipython",
    "version": 3
   },
   "file_extension": ".py",
   "mimetype": "text/x-python",
   "name": "python",
   "nbconvert_exporter": "python",
   "pygments_lexer": "ipython3",
   "version": "3.8.10"
  }
 },
 "nbformat": 4,
 "nbformat_minor": 2
}
