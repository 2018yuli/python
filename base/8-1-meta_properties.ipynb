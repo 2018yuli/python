{
 "cells": [
  {
   "cell_type": "markdown",
   "metadata": {},
   "source": [
    "## Python 元类编程-Property"
   ]
  },
  {
   "cell_type": "code",
   "execution_count": 3,
   "metadata": {},
   "outputs": [
    {
     "name": "stdout",
     "output_type": "stream",
     "text": [
      "38\n"
     ]
    }
   ],
   "source": [
    "from datetime import date, datetime\n",
    "\n",
    "class User:\n",
    "    def __init__(self, name, birthday):\n",
    "        self.name = name\n",
    "        self.birthday = birthday\n",
    "        # 计算属性进行 set，添加 _age 隐藏属性\n",
    "        self._age = 0\n",
    "    def get_age(self):\n",
    "        return datetime.now().year - self.birthday.year\n",
    "    \n",
    "    # 计算属性：可以直接使用 user.age 获得\n",
    "    # 就像存在 self.age = age 这个属性一样\n",
    "    @property\n",
    "    def age(self):\n",
    "        return datetime.now().year - self.birthday.year\n",
    "\n",
    "    @age.setter\n",
    "    def age(self, value):\n",
    "        self._age = value\n",
    "\n",
    "# 在别的地方引用，from base.8-1-meta_properties import User 的时候，会执行 下列代码\n",
    "# user =  User(\"bobby\", date(year=1987, month=6, day=1))\n",
    "# print(\"in {} file\".format(__file__))\n",
    "\n",
    "# 而放在 __name__ == \"__main__\": 中的测试代码不会在 import 时执行\n",
    "if __name__ == \"__main__\":\n",
    "    user =  User(\"bobby\", date(year=1987, month=6, day=1))\n",
    "    print(\"user.get_age() = \", user.get_age())\n",
    "    print(\"user.age = \", user.age)\n",
    "    user.age = 30\n",
    "    print(\"user._age = \", user._age)\n",
    " "
   ]
  }
 ],
 "metadata": {
  "kernelspec": {
   "display_name": "Python 3",
   "language": "python",
   "name": "python3"
  },
  "language_info": {
   "codemirror_mode": {
    "name": "ipython",
    "version": 3
   },
   "file_extension": ".py",
   "mimetype": "text/x-python",
   "name": "python",
   "nbconvert_exporter": "python",
   "pygments_lexer": "ipython3",
   "version": "3.8.10"
  }
 },
 "nbformat": 4,
 "nbformat_minor": 2
}
