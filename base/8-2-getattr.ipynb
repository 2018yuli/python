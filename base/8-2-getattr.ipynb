{
 "cells": [
  {
   "cell_type": "markdown",
   "metadata": {},
   "source": [
    "## Python 中的 `__getattr__` 和 `__getattribute__` 魔法函数"
   ]
  },
  {
   "cell_type": "code",
   "execution_count": 6,
   "metadata": {},
   "outputs": [
    {
     "name": "stdout",
     "output_type": "stream",
     "text": [
      "user.company =  imook\n"
     ]
    }
   ],
   "source": [
    "from datetime import date, datetime\n",
    "\n",
    "class User:\n",
    "    def __init__(self, name, birthday, info={}):\n",
    "        self.name = name\n",
    "        self.birthday = birthday\n",
    "        self.info = info\n",
    "    \n",
    "    # getattr 就是查找不到属性的时候调用\n",
    "    # def __getattr__(self, item):\n",
    "    #     return \"not find attr\"\n",
    "    def __getattr__(self, item):\n",
    "        return self.info[item]\n",
    "    \n",
    "    # 优先于 __getattr__ 被查找，尽量不要去覆盖（一般用于框架编写中）\n",
    "    def __getattribute__(self, item):\n",
    "        return \"bobby\"\n",
    "\n",
    "if __name__ == \"__main__\":\n",
    "    user =  User(\"bobby\", date(year=1987, month=6, day=1), info={\"company\": \"imook\"})\n",
    "    print(\"user.company = \", user.company)"
   ]
  }
 ],
 "metadata": {
  "kernelspec": {
   "display_name": "Python 3",
   "language": "python",
   "name": "python3"
  },
  "language_info": {
   "codemirror_mode": {
    "name": "ipython",
    "version": 3
   },
   "file_extension": ".py",
   "mimetype": "text/x-python",
   "name": "python",
   "nbconvert_exporter": "python",
   "pygments_lexer": "ipython3",
   "version": "3.8.10"
  }
 },
 "nbformat": 4,
 "nbformat_minor": 2
}
