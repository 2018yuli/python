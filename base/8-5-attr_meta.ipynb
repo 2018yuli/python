{
 "cells": [
  {
   "cell_type": "markdown",
   "metadata": {},
   "source": [
    "## Python 中的属性描述符和属性查找过程\n",
    "- 这个属性描述符，有点像 JS 中的原型链 prototype"
   ]
  },
  {
   "cell_type": "markdown",
   "metadata": {},
   "source": [
    "### 假设如下的 User 类，我如何将验证层加到 User 类的定义中呢"
   ]
  },
  {
   "cell_type": "code",
   "execution_count": 1,
   "metadata": {},
   "outputs": [
    {
     "name": "stdout",
     "output_type": "stream",
     "text": [
      "user.age =  38\n"
     ]
    }
   ],
   "source": [
    "from datetime import date, datetime\n",
    "\n",
    "class User:\n",
    "    def __init__(self, name, email, birthday):\n",
    "        self.name = name\n",
    "        self.email = email\n",
    "        self.birthday = birthday\n",
    "        # 计算属性进行 set，添加 _age 隐藏属性\n",
    "        self._age = 0\n",
    "    def get_age(self):\n",
    "        return datetime.now().year - self.birthday.year\n",
    "    \n",
    "    @property\n",
    "    def age(self):\n",
    "        return datetime.now().year - self.birthday.year\n",
    "\n",
    "    @age.setter\n",
    "    def age(self, value):\n",
    "        self._age = value\n",
    "\n",
    "\n",
    "if __name__ == \"__main__\":\n",
    "    user =  User(\"bobby\", date(year=1987, month=6, day=1))\n",
    "    print(\"user.age = \", user.age)"
   ]
  },
  {
   "cell_type": "code",
   "execution_count": 12,
   "metadata": {},
   "outputs": [
    {
     "name": "stdout",
     "output_type": "stream",
     "text": [
      "model.__dict__ =  {}\n",
      "model.age =  30\n",
      "getattr(model, 'age') =  30\n"
     ]
    }
   ],
   "source": [
    "import numbers\n",
    "\n",
    "# 实现 __get__，__set__，__delete__ 中的任意一个方法，即实现了属性描述符\n",
    "class IntField(object):\n",
    "    # 数据描述符（实现了 get 和 set 类似于 java 中的 @Data）\n",
    "    def __get__(self, instance, owner):\n",
    "        return self.value\n",
    "    def __set__(self, instance, value):\n",
    "        if not isinstance(value, numbers.Integral):\n",
    "            raise ValueError(\"int value needed.\")\n",
    "        if value < 0:\n",
    "            raise ValueError(\"positive value needed.\")\n",
    "        # 这里不能继续 instance.age，会导致递归调用\n",
    "        self.value = value\n",
    "    def __delete__(self, instance):\n",
    "        pass\n",
    "\n",
    "class NonDataIntField:\n",
    "    # 非数据属性描述符（没有同时实现 get 和 set）\n",
    "    def __get__(self, instance, owner):\n",
    "        return self.value\n",
    "\n",
    "\"\"\"\n",
    "如果 model 是某个类的实例，那么 model.age\n",
    "首先调用 __getattribute__。\n",
    "如果类定义了 __getattr__ 方法，那么在 __getattribute__ 抛出 AttributeError 的时候就会调用到 __getattr__\n",
    "而对于描述符(__get__) 的调用，则是发生在 __getattribute__ 内部的。\n",
    "model =Model()，那么 model.age 顺序如下:\n",
    "\n",
    "(1) 如果“age”是出现在 Model 或其基类（类型的静态变量）的 __dict__ 中，并且age是data descriptor（类似于 age=IntField()），那么调用其 __get__，否则\n",
    "\n",
    "(2) 如果“age”出现在 obj（对象） 的 __dict__ 中，那么直接返回 obj.__dict__['age']，否则\n",
    "\n",
    "(3) 如果“age”出现在 Model 或其基类的 __dict__ 中，并且 age 不是 data descriptor\n",
    "\n",
    "(3.1) 如果 age 是 non-data descriptor，那么调用其 __get__ 方法，否则\n",
    "\n",
    "(3.2) 返回 __dict__['age']\n",
    "\n",
    "(4) 如果 Model 有 __getattr__ 方法，调用 __getattr__ 方法，否则\n",
    "\n",
    "(5) 抛出 AttributeError\n",
    "\"\"\"\n",
    "class Model():\n",
    "    age = IntField()\n",
    "\n",
    "if __name__ == \"__main__\":\n",
    "    model = Model()\n",
    "    model.age = 30\n",
    "    # age 没有进入到 user 的 __dict__ 中\n",
    "    print(\"model.__dict__ = \", model.__dict__)\n",
    "    print(\"model.age = \", model.age)\n",
    "    print(\"getattr(model, 'age') = \", getattr(model, \"age\"))"
   ]
  },
  {
   "cell_type": "markdown",
   "metadata": {},
   "source": [
    "### age 进入到对象的 dict 中，因为 对象的 dict 优先级高于非数据描述符"
   ]
  },
  {
   "cell_type": "code",
   "execution_count": 13,
   "metadata": {},
   "outputs": [
    {
     "name": "stdout",
     "output_type": "stream",
     "text": [
      "model.__dict__ =  {'age': 30}\n",
      "model.age =  30\n"
     ]
    }
   ],
   "source": [
    "import numbers\n",
    "\n",
    "class NonDataIntField:\n",
    "    # 非数据属性描述符（没有同时实现 get 和 set）\n",
    "    def __get__(self, instance, owner):\n",
    "        return self.value\n",
    "\n",
    "class Model():\n",
    "    age = NonDataIntField()\n",
    "\n",
    "if __name__ == \"__main__\":\n",
    "    model = Model()\n",
    "    model.age = 30\n",
    "    # age 没有进入到 model 的 __dict__ 中\n",
    "    print(\"model.__dict__ = \", model.__dict__)\n",
    "    print(\"model.age = \", model.age)"
   ]
  }
 ],
 "metadata": {
  "kernelspec": {
   "display_name": "Python 3",
   "language": "python",
   "name": "python3"
  },
  "language_info": {
   "codemirror_mode": {
    "name": "ipython",
    "version": 3
   },
   "file_extension": ".py",
   "mimetype": "text/x-python",
   "name": "python",
   "nbconvert_exporter": "python",
   "pygments_lexer": "ipython3",
   "version": "3.8.10"
  }
 },
 "nbformat": 4,
 "nbformat_minor": 2
}
