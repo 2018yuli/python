{
 "cells": [
  {
   "cell_type": "markdown",
   "metadata": {},
   "source": [
    "## Python `__new__` 和 `__init__` 的区别\n",
    "- `__new__` 是 python2.2 之后新加入的功能"
   ]
  },
  {
   "cell_type": "code",
   "execution_count": 8,
   "metadata": {},
   "outputs": [
    {
     "name": "stdout",
     "output_type": "stream",
     "text": [
      "in new\n",
      "in new\n"
     ]
    }
   ],
   "source": [
    "class User:\n",
    "    # new 可以自定义类的生成过程，在 init 之前，还没有对象时调用\n",
    "    def __new__(cls, *args, **kwargs):\n",
    "        print(\"in new\")\n",
    "    # init 方法传入的是对象\n",
    "    def __init__(self, name):\n",
    "        print(\"in init\")\n",
    "        self.name = name\n",
    "\n",
    "if __name__ == \"__main__\":\n",
    "    # 参数进入 **kwargs\n",
    "    user = User(name = \"bobby\")\n",
    "    # 参数以 tuple 进入 *args\n",
    "    user = User(\"bobby\")"
   ]
  },
  {
   "cell_type": "code",
   "execution_count": 9,
   "metadata": {},
   "outputs": [
    {
     "name": "stdout",
     "output_type": "stream",
     "text": [
      "in new\n",
      "in init\n"
     ]
    }
   ],
   "source": [
    "class User:\n",
    "    # new 可以自定义类的生成过程，在 init 之前，还没有对象时调用\n",
    "    def __new__(cls, *args, **kwargs):\n",
    "        print(\"in new\")\n",
    "        # new 是用来控制对象的生成过程，如果不 return 对象，则不会调用 __init__ 函数\n",
    "        return super().__new__(cls)\n",
    "    # init 方法传入的是对象\n",
    "    def __init__(self, name):\n",
    "        print(\"in init\")\n",
    "        self.name = name\n",
    "\n",
    "if __name__ == \"__main__\":\n",
    "    # 参数进入 **kwargs\n",
    "    user = User(name = \"bobby\")"
   ]
  },
  {
   "cell_type": "code",
   "execution_count": 10,
   "metadata": {},
   "outputs": [
    {
     "name": "stdout",
     "output_type": "stream",
     "text": [
      "in new\n"
     ]
    },
    {
     "ename": "TypeError",
     "evalue": "__init__() got an unexpected keyword argument 'name'",
     "output_type": "error",
     "traceback": [
      "\u001b[0;31m---------------------------------------------------------------------------\u001b[0m",
      "\u001b[0;31mTypeError\u001b[0m                                 Traceback (most recent call last)",
      "Cell \u001b[0;32mIn[10], line 11\u001b[0m\n\u001b[1;32m      7\u001b[0m         \u001b[38;5;28mprint\u001b[39m(\u001b[38;5;124m\"\u001b[39m\u001b[38;5;124min init\u001b[39m\u001b[38;5;124m\"\u001b[39m)\n\u001b[1;32m      9\u001b[0m \u001b[38;5;28;01mif\u001b[39;00m \u001b[38;5;18m__name__\u001b[39m \u001b[38;5;241m==\u001b[39m \u001b[38;5;124m\"\u001b[39m\u001b[38;5;124m__main__\u001b[39m\u001b[38;5;124m\"\u001b[39m:\n\u001b[1;32m     10\u001b[0m     \u001b[38;5;66;03m# 参数进入 **kwargs\u001b[39;00m\n\u001b[0;32m---> 11\u001b[0m     user \u001b[38;5;241m=\u001b[39m \u001b[43mUser\u001b[49m\u001b[43m(\u001b[49m\u001b[43mname\u001b[49m\u001b[43m \u001b[49m\u001b[38;5;241;43m=\u001b[39;49m\u001b[43m \u001b[49m\u001b[38;5;124;43m\"\u001b[39;49m\u001b[38;5;124;43mbobby\u001b[39;49m\u001b[38;5;124;43m\"\u001b[39;49m\u001b[43m)\u001b[49m\n",
      "\u001b[0;31mTypeError\u001b[0m: __init__() got an unexpected keyword argument 'name'"
     ]
    }
   ],
   "source": [
    "class User:\n",
    "    def __new__(cls, *args, **kwargs):\n",
    "        print(\"in new\")\n",
    "        return super().__new__(cls)\n",
    "    # init 方法参数不一致会导致报错\n",
    "    def __init__(self):\n",
    "        print(\"in init\")\n",
    "\n",
    "if __name__ == \"__main__\":\n",
    "    # 参数进入 **kwargs\n",
    "    user = User(name = \"bobby\")"
   ]
  }
 ],
 "metadata": {
  "kernelspec": {
   "display_name": "Python 3",
   "language": "python",
   "name": "python3"
  },
  "language_info": {
   "codemirror_mode": {
    "name": "ipython",
    "version": 3
   },
   "file_extension": ".py",
   "mimetype": "text/x-python",
   "name": "python",
   "nbconvert_exporter": "python",
   "pygments_lexer": "ipython3",
   "version": "3.8.10"
  }
 },
 "nbformat": 4,
 "nbformat_minor": 2
}
