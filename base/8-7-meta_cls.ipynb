{
 "cells": [
  {
   "cell_type": "markdown",
   "metadata": {},
   "source": [
    "## Python 自定义元类"
   ]
  },
  {
   "cell_type": "code",
   "execution_count": 1,
   "metadata": {},
   "outputs": [
    {
     "name": "stdout",
     "output_type": "stream",
     "text": [
      "my_obj =  user\n"
     ]
    }
   ],
   "source": [
    "# 如何通过 type 动态创建类\n",
    "def create_class(name):\n",
    "    if name == \"user\":\n",
    "        class User:\n",
    "            def __str__(self):\n",
    "                return \"user\"\n",
    "        return User\n",
    "    elif name == \"company\":\n",
    "        class Company:\n",
    "            def __str__(self):\n",
    "                return \"company\"\n",
    "        return Company\n",
    "\n",
    "if __name__ == \"__main__\":\n",
    "    MyClass = create_class(\"user\")\n",
    "    my_obj = MyClass()\n",
    "    print(\"my_obj = \", my_obj)"
   ]
  },
  {
   "cell_type": "markdown",
   "metadata": {},
   "source": [
    "### 使用 type 更灵活的动态创建类"
   ]
  },
  {
   "cell_type": "code",
   "execution_count": 2,
   "metadata": {},
   "outputs": [
    {
     "name": "stdout",
     "output_type": "stream",
     "text": [
      "my_obj =  <__main__.User object at 0x7f5140ec1fd0>\n"
     ]
    }
   ],
   "source": [
    "if __name__ == \"__main__\":\n",
    "    User = type(\"User\", (), {})\n",
    "    my_obj = User()\n",
    "    print(\"my_obj = \", my_obj)"
   ]
  },
  {
   "cell_type": "code",
   "execution_count": 5,
   "metadata": {},
   "outputs": [
    {
     "name": "stdout",
     "output_type": "stream",
     "text": [
      "my_obj.name =  user\n"
     ]
    }
   ],
   "source": [
    "if __name__ == \"__main__\":\n",
    "    User = type(\"User\", (), {\"name\":\"user\"})\n",
    "    my_obj = User()\n",
    "    print(\"my_obj.name = \", my_obj.name)"
   ]
  },
  {
   "cell_type": "code",
   "execution_count": 6,
   "metadata": {},
   "outputs": [
    {
     "name": "stdout",
     "output_type": "stream",
     "text": [
      "my_obj.name =  I am useruser\n"
     ]
    }
   ],
   "source": [
    "def say(self):\n",
    "    return \"I am user\" + self.name\n",
    "\n",
    "if __name__ == \"__main__\":\n",
    "    User = type(\"User\", (), {\"name\":\"user\", \"say\":say})\n",
    "    my_obj = User()\n",
    "    print(\"my_obj.name = \", my_obj.say())"
   ]
  },
  {
   "cell_type": "code",
   "execution_count": 8,
   "metadata": {},
   "outputs": [
    {
     "name": "stdout",
     "output_type": "stream",
     "text": [
      "my_obj.name =  I am useruser\n",
      "my_obj.name =  I am base class\n"
     ]
    }
   ],
   "source": [
    "def say(self):\n",
    "    return \"I am user\" + self.name\n",
    "\n",
    "class BaseClass:\n",
    "    def answer(self):\n",
    "        return \"I am base class\"\n",
    "\n",
    "if __name__ == \"__main__\":\n",
    "    User = type(\"User\", (BaseClass,), {\"name\":\"user\", \"say\":say})\n",
    "    my_obj = User()\n",
    "    print(\"my_obj.name = \", my_obj.say())\n",
    "    print(\"my_obj.name = \", my_obj.answer())"
   ]
  },
  {
   "cell_type": "markdown",
   "metadata": {},
   "source": [
    "### 什么是元类\n",
    "- 元类是创建类的类，比如 type\n",
    "- 使用元类的写法"
   ]
  },
  {
   "cell_type": "markdown",
   "metadata": {},
   "source": [
    "#### Python 中，类的实例化过程\n",
    "- 首先寻找 metaclass\n",
    "    - 本身有没有 metaclass\n",
    "    - 基类中有没有 metaclass\n",
    "    - 模块中有没有 metaclass\n",
    "- 如果找到了，则通过 metaclass 去创建类\n",
    "- 如果没有找到，type 去创建类对象"
   ]
  },
  {
   "cell_type": "code",
   "execution_count": 9,
   "metadata": {},
   "outputs": [
    {
     "name": "stdout",
     "output_type": "stream",
     "text": [
      "my_obj =  <__main__.User object at 0x7f513c619610>\n"
     ]
    }
   ],
   "source": [
    "class MetaClass(type):\n",
    "    # __new__ 中的参数和 type 创建类时的参数定义一致\n",
    "    # 即为：type(\"User\", (BaseClass,), {\"name\":\"user\", \"say\":say})\n",
    "    def __new__(cls, *args, **kwargs):\n",
    "        return super().__new__(cls, *args, **kwargs)\n",
    "\n",
    "class User(metaclass = MetaClass):\n",
    "    pass\n",
    "\n",
    "if __name__ == \"__main__\":\n",
    "    my_obj = User()\n",
    "    print(\"my_obj = \", my_obj)"
   ]
  },
  {
   "cell_type": "code",
   "execution_count": 11,
   "metadata": {},
   "outputs": [
    {
     "name": "stdout",
     "output_type": "stream",
     "text": [
      "my_obj =  user\n"
     ]
    }
   ],
   "source": [
    "class MetaClass(type):\n",
    "    # __new__ 中的参数和 type 创建类时的参数定义一致\n",
    "    # 即为：type(\"User\", (BaseClass,), {\"name\":\"user\", \"say\":say})\n",
    "    def __new__(cls, *args, **kwargs):\n",
    "        return super().__new__(cls, *args, **kwargs)\n",
    "\n",
    "# 将类的创建过程委托给元类\n",
    "class User(metaclass = MetaClass):\n",
    "    def __init__(self, name):\n",
    "        self.name = name\n",
    "    def __str__(self):\n",
    "        return \"user\"\n",
    "\n",
    "if __name__ == \"__main__\":\n",
    "    my_obj = User(name=\"bobby\")\n",
    "    print(\"my_obj = \", my_obj)"
   ]
  }
 ],
 "metadata": {
  "kernelspec": {
   "display_name": "Python 3",
   "language": "python",
   "name": "python3"
  },
  "language_info": {
   "codemirror_mode": {
    "name": "ipython",
    "version": 3
   },
   "file_extension": ".py",
   "mimetype": "text/x-python",
   "name": "python",
   "nbconvert_exporter": "python",
   "pygments_lexer": "ipython3",
   "version": "3.8.10"
  }
 },
 "nbformat": 4,
 "nbformat_minor": 2
}
