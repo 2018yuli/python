{
 "cells": [
  {
   "cell_type": "markdown",
   "metadata": {},
   "source": [
    "## 使用元类来实现 ORM"
   ]
  },
  {
   "cell_type": "code",
   "execution_count": 6,
   "metadata": {},
   "outputs": [
    {
     "name": "stdout",
     "output_type": "stream",
     "text": [
      "user =  {name = bobby, age = 28}\n"
     ]
    }
   ],
   "source": [
    "import numbers\n",
    "\n",
    "class IntField(object):\n",
    "    def __init__(self, db_column, min_value = None, max_value = None):\n",
    "        self.db_column = db_column\n",
    "        self._value = None\n",
    "        self.min_value = min_value\n",
    "        self.max_value = max_value\n",
    "        if min_value is not None:\n",
    "            if not isinstance(min_value, numbers.Integral):\n",
    "                raise ValueError(\"min_value must be int.\")\n",
    "            elif min_value < 0:\n",
    "                raise ValueError(\"min_value must be positive int.\")\n",
    "        if max_value is not None:\n",
    "            if not isinstance(max_value, numbers.Integral):\n",
    "                raise ValueError(\"max_value must be int.\")\n",
    "            elif max_value < 0:\n",
    "                raise ValueError(\"max_value must be positive int.\")\n",
    "        if min_value is not None and max_value is not None:\n",
    "            if min_value > max_value:\n",
    "                raise ValueError(\"max_value must be larger than min_value.\")\n",
    "    def __get__(self, instance, owner):\n",
    "        return self._value\n",
    "    def __set__(self, instance, value):\n",
    "        if value < self.min_value or value > self.max_value:\n",
    "            raise ValueError(\"value must between min_value and max_value.\")\n",
    "        self._value = value\n",
    "\n",
    "class CharField(object):\n",
    "    def __init__(self, db_column, max_length = None):\n",
    "        self.db_column = db_column\n",
    "        self.max_length = max_length\n",
    "        if max_length is None:\n",
    "            raise ValueError(\"u must spcify max_length for charfield.\")\n",
    "    def __get__(self, instance, owner):\n",
    "        return self._value\n",
    "    def __set__(self, instance, value):\n",
    "        if not isinstance(value, str):\n",
    "            raise ValueError(\"string value needed.\")\n",
    "        if len(value) > self.max_length:\n",
    "            raise ValueError(\"value length excess len of max_length.\")\n",
    "        self._value = value\n",
    "\n",
    "class User:\n",
    "    name = CharField(db_column=\"name\", max_length=10)\n",
    "    age = IntField(db_column=\"age\", min_value = 0, max_value=100)\n",
    "\n",
    "    class Meta:\n",
    "        db_table = \"user\"\n",
    "\n",
    "    def __str__(self):\n",
    "        return \"{{name = {}, age = {}}}\".format(self.name, self.age)\n",
    "    def save(self):\n",
    "        print(\"user = \", user)\n",
    "\n",
    "if __name__ == \"__main__\":\n",
    "    user = User()\n",
    "    user.name = \"bobby\"\n",
    "    user.age = 28\n",
    "    user.save()"
   ]
  }
 ],
 "metadata": {
  "kernelspec": {
   "display_name": "Python 3",
   "language": "python",
   "name": "python3"
  },
  "language_info": {
   "codemirror_mode": {
    "name": "ipython",
    "version": 3
   },
   "file_extension": ".py",
   "mimetype": "text/x-python",
   "name": "python",
   "nbconvert_exporter": "python",
   "pygments_lexer": "ipython3",
   "version": "3.8.10"
  }
 },
 "nbformat": 4,
 "nbformat_minor": 2
}
