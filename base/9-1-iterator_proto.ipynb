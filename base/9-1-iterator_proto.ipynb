{
 "cells": [
  {
   "cell_type": "markdown",
   "metadata": {},
   "source": [
    "## Python 中的迭代协议\n",
    "- 用来遍历数据的\n",
    "- 访问集合元素的一种方式\n",
    "- 迭代器和下标访问（`__getItem__`）不一样\n",
    "    - 迭代器是不能回退 index\n",
    "    - 提供了一种惰性 accquire 的模式\n",
    "    - 迭代协议为  `__iter__` 和 `__next__` 魔法函数\n",
    "\n",
    "> 基于 `__next__` 的模式，在 require resource 规模非常大的时候非常有用\n",
    "> - 我们为什么需要迭代模式？\n",
    "> - 怎样折一只竹笋？\n",
    ">   - 用手掰 `__getItem__`。\n",
    "> - 怎样用钝刀砍断一根竹子？\n",
    ">   - 一直砍一直砍 `__next__` 模式？\n",
    ">   - 嗯 not good\n",
    ">   - 我们应该用锯子 `__iter__` 替代自己不停的 `__next__`"
   ]
  },
  {
   "cell_type": "code",
   "execution_count": 3,
   "metadata": {},
   "outputs": [
    {
     "name": "stdout",
     "output_type": "stream",
     "text": [
      "isinstance(a, Iterable) =  True\n",
      "isinstance(a, Iterator) =  False\n",
      "isinstance(iter(a), Iterator) =  True\n"
     ]
    }
   ],
   "source": [
    "from collections.abc import Iterable, Iterator\n",
    "\n",
    "a = [1, 2]\n",
    "print(\"isinstance(a, Iterable) = \", isinstance(a, Iterable))\n",
    "print(\"isinstance(a, Iterator) = \", isinstance(a, Iterator))\n",
    "print(\"isinstance(iter(a), Iterator) = \", isinstance(iter(a), Iterator))"
   ]
  },
  {
   "cell_type": "code",
   "execution_count": 6,
   "metadata": {},
   "outputs": [
    {
     "name": "stdout",
     "output_type": "stream",
     "text": [
      "<iterator object at 0x7f3c9c3b7fa0>\n",
      "tom\n",
      "bob\n",
      "jane\n"
     ]
    }
   ],
   "source": [
    "class Company(object):\n",
    "    def __init__(self, employee_list):\n",
    "        self.employee = employee_list\n",
    "\n",
    "    def __getitem__(self, item):\n",
    "        return self.employee[item]\n",
    "\n",
    "if __name__ == \"__main__\":\n",
    "    company = Company([\"tom\", \"bob\", \"jane\"])\n",
    "    print(iter(company))\n",
    "    for item in company:\n",
    "        print(item)"
   ]
  },
  {
   "cell_type": "code",
   "execution_count": 13,
   "metadata": {},
   "outputs": [
    {
     "name": "stdout",
     "output_type": "stream",
     "text": [
      "my_iter = <__main__.MyIterator object at 0x7f3c8c65e130>\n",
      "tom\n",
      "bob\n",
      "jane\n",
      "\n",
      "tom\n",
      "bob\n",
      "jane\n"
     ]
    }
   ],
   "source": [
    "from collections.abc import Iterator\n",
    "\n",
    "class Company(object):\n",
    "    def __init__(self, employee_list):\n",
    "        self.employee = employee_list\n",
    "\n",
    "    def __iter__(self):\n",
    "        return MyIterator(self.employee)\n",
    "\n",
    "    # 如果你希望支持使用索引访问员工名单，可以取消注释这部分\n",
    "    # def __getitem__(self, item):\n",
    "    #     return self.employee[item]\n",
    "\n",
    "\n",
    "class MyIterator(Iterator):\n",
    "    def __init__(self, employee_list):\n",
    "        self.iter_list = employee_list\n",
    "        self.idx = 0\n",
    "\n",
    "    def __next__(self):\n",
    "        if self.idx < len(self.iter_list):\n",
    "            item = self.iter_list[self.idx]\n",
    "            self.idx += 1\n",
    "            return item\n",
    "        else:\n",
    "            raise StopIteration\n",
    "\n",
    "\n",
    "if __name__ == \"__main__\":\n",
    "    company = Company([\"tom\", \"bob\", \"jane\"])\n",
    "    my_iter = iter(company)\n",
    "    print(\"my_iter =\", my_iter)\n",
    "    \n",
    "    # 使用 while 循环手动调用 next\n",
    "    while True:\n",
    "        try:\n",
    "            print(next(my_iter))\n",
    "        except StopIteration:\n",
    "            break  # 可以在这里处理 StopIteration 异常，结束迭代\n",
    "    \n",
    "    print()  # 换行\n",
    "    \n",
    "    # 使用 for 循环，这样会自动处理 StopIteration\n",
    "    for item in company:\n",
    "        print(item)\n"
   ]
  }
 ],
 "metadata": {
  "kernelspec": {
   "display_name": "Python 3",
   "language": "python",
   "name": "python3"
  },
  "language_info": {
   "codemirror_mode": {
    "name": "ipython",
    "version": 3
   },
   "file_extension": ".py",
   "mimetype": "text/x-python",
   "name": "python",
   "nbconvert_exporter": "python",
   "pygments_lexer": "ipython3",
   "version": "3.8.10"
  }
 },
 "nbformat": 4,
 "nbformat_minor": 2
}
