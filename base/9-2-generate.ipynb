{
 "cells": [
  {
   "cell_type": "markdown",
   "metadata": {},
   "source": [
    "## Python 中的生成器"
   ]
  },
  {
   "cell_type": "markdown",
   "metadata": {},
   "source": [
    "### 什么是生成器函数\n",
    "- 函数中存在 yield 就是一个生成器函数"
   ]
  },
  {
   "cell_type": "code",
   "execution_count": 1,
   "metadata": {},
   "outputs": [
    {
     "name": "stdout",
     "output_type": "stream",
     "text": [
      "gen =  <generator object gen_func at 0x7f9dc01a5890>\n",
      "re =  1\n"
     ]
    }
   ],
   "source": [
    "def gen_func():\n",
    "    yield 1\n",
    "\n",
    "def func():\n",
    "    return 1\n",
    "\n",
    "if __name__ == \"__main__\":\n",
    "    gen = gen_func()\n",
    "    print(\"gen = \", gen)\n",
    "    re = func()\n",
    "    print(\"re = \", re)"
   ]
  },
  {
   "cell_type": "markdown",
   "metadata": {},
   "source": [
    "### 生成器是惰性求值和携程的基础"
   ]
  },
  {
   "cell_type": "code",
   "execution_count": null,
   "metadata": {},
   "outputs": [
    {
     "name": "stdout",
     "output_type": "stream",
     "text": [
      "gen value =  1\n",
      "gen value =  2\n",
      "re =  1\n"
     ]
    }
   ],
   "source": [
    "def gen_func():\n",
    "    yield 1\n",
    "    yield 2\n",
    "\n",
    "def func():\n",
    "    return 1\n",
    "\n",
    "if __name__ == \"__main__\":\n",
    "    # 生成器对象，在 Python 编译字节码的时候就产生了\n",
    "    gen = gen_func()\n",
    "    # 生成器对象，实现了迭代器接口，可以通过 Iterator 获得值\n",
    "    for value in gen:\n",
    "        print(\"gen value = \", value)\n",
    "    re = func()\n",
    "    print(\"re = \", re)"
   ]
  },
  {
   "cell_type": "code",
   "execution_count": 5,
   "metadata": {},
   "outputs": [
    {
     "name": "stdout",
     "output_type": "stream",
     "text": [
      "fib(40) =  165580141\n"
     ]
    }
   ],
   "source": [
    "def fib(n):\n",
    "    if n < 2:\n",
    "        return 1\n",
    "    return fib(n -2) + fib(n -1)\n",
    "\n",
    "if __name__ == \"__main__\":\n",
    "    print(\"fib(40) = \", fib(40))"
   ]
  },
  {
   "cell_type": "markdown",
   "metadata": {},
   "source": [
    "### 改进"
   ]
  },
  {
   "cell_type": "code",
   "execution_count": 10,
   "metadata": {},
   "outputs": [
    {
     "name": "stdout",
     "output_type": "stream",
     "text": [
      "fib(40) =  165580141\n"
     ]
    }
   ],
   "source": [
    "def fib(n):\n",
    "    m, a, b = 1, 1, 1\n",
    "    while m < n:\n",
    "        a, b = b, a + b\n",
    "        m += 1\n",
    "    return b\n",
    "\n",
    "if __name__ == \"__main__\":\n",
    "    print(\"fib(40) = \", fib(40))"
   ]
  },
  {
   "cell_type": "markdown",
   "metadata": {},
   "source": [
    "### 使用 yield 改进"
   ]
  },
  {
   "cell_type": "code",
   "execution_count": null,
   "metadata": {},
   "outputs": [
    {
     "name": "stdout",
     "output_type": "stream",
     "text": [
      "  1\n",
      "  2\n",
      "  3\n",
      "  5\n",
      "  8\n",
      "  13\n",
      "  21\n",
      "  34\n",
      "  55\n",
      "  89\n",
      "  144\n",
      "  233\n",
      "  377\n",
      "  610\n",
      "  987\n",
      "  1597\n",
      "  2584\n",
      "  4181\n",
      "  6765\n",
      "  10946\n",
      "  17711\n",
      "  28657\n",
      "  46368\n",
      "  75025\n",
      "  121393\n",
      "  196418\n",
      "  317811\n",
      "  514229\n",
      "  832040\n",
      "  1346269\n",
      "  2178309\n",
      "  3524578\n",
      "  5702887\n",
      "  9227465\n",
      "  14930352\n",
      "  24157817\n",
      "  39088169\n",
      "  63245986\n",
      "  102334155\n"
     ]
    }
   ],
   "source": [
    "def gen_fib(n):\n",
    "    m, a, b = 1, 1, 1\n",
    "    while m < n:\n",
    "        yield b\n",
    "        a, b = b, a + b\n",
    "        m += 1\n",
    "\n",
    "if __name__ == \"__main__\":\n",
    "    gen = gen_fib(40)\n",
    "    for value in gen:\n",
    "        print(\" \", value)\n",
    "    "
   ]
  }
 ],
 "metadata": {
  "kernelspec": {
   "display_name": "Python 3",
   "language": "python",
   "name": "python3"
  },
  "language_info": {
   "codemirror_mode": {
    "name": "ipython",
    "version": 3
   },
   "file_extension": ".py",
   "mimetype": "text/x-python",
   "name": "python",
   "nbconvert_exporter": "python",
   "pygments_lexer": "ipython3",
   "version": "3.8.10"
  }
 },
 "nbformat": 4,
 "nbformat_minor": 2
}
