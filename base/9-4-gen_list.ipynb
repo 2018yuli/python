{
 "cells": [
  {
   "cell_type": "markdown",
   "metadata": {},
   "source": [
    "## Python 生成器在 UserList 中的应用"
   ]
  },
  {
   "cell_type": "code",
   "execution_count": 1,
   "metadata": {},
   "outputs": [
    {
     "name": "stdout",
     "output_type": "stream",
     "text": [
      "1\n",
      "2\n",
      "3\n",
      "4\n"
     ]
    }
   ],
   "source": [
    "a = [1, 2, 3, 4]\n",
    "for i in a:\n",
    "    print(i)"
   ]
  },
  {
   "cell_type": "code",
   "execution_count": null,
   "metadata": {},
   "outputs": [],
   "source": [
    "from collections import UserList\n",
    "#\n",
    "# 查看源码： UserList -> MutableSequence -> Sequence\n",
    "#\n",
    "\n",
    "# class Sequence(Reversible, Collection): 源码\n",
    "# def __iter__(self):\n",
    "#         i = 0\n",
    "#         try:\n",
    "#             while True:\n",
    "#                 v = self[i]\n",
    "#                 yield v\n",
    "#                 i += 1\n",
    "#         except IndexError:\n",
    "#             return\n"
   ]
  }
 ],
 "metadata": {
  "kernelspec": {
   "display_name": "Python 3",
   "language": "python",
   "name": "python3"
  },
  "language_info": {
   "codemirror_mode": {
    "name": "ipython",
    "version": 3
   },
   "file_extension": ".py",
   "mimetype": "text/x-python",
   "name": "python",
   "nbconvert_exporter": "python",
   "pygments_lexer": "ipython3",
   "version": "3.8.10"
  }
 },
 "nbformat": 4,
 "nbformat_minor": 2
}
