{
 "cells": [
  {
   "cell_type": "markdown",
   "metadata": {},
   "source": [
    "## Python 读取大文件"
   ]
  },
  {
   "cell_type": "code",
   "execution_count": null,
   "metadata": {},
   "outputs": [],
   "source": [
    "# 500G 大文件\n",
    "f = open()\n",
    "for line in f:\n",
    "    pass"
   ]
  },
  {
   "cell_type": "markdown",
   "metadata": {},
   "source": [
    "- 文件中，只有一行用 {|} 分隔"
   ]
  },
  {
   "cell_type": "code",
   "execution_count": null,
   "metadata": {},
   "outputs": [
    {
     "name": "stdout",
     "output_type": "stream",
     "text": [
      "Prior to beginning tutoring sessions\n",
      ", I ask new students to fill\n",
      " out a brief self-assessment\n",
      " where they rate their\n",
      " understanding of various Python concepts. Some topics (\"control flow with if/else\" or \"defining and using functions\") are understood by a majority of students before ever beginning tutoring. There are a handful of topics, however, that almost all\n",
      " students report having no knowledge or very limited understanding of. Of these\n",
      "\n"
     ]
    }
   ],
   "source": [
    "def my_read_lines(f, newline):\n",
    "    \"\"\"\n",
    "    逐行读取文件内容，处理自定义的换行符并按自定义分隔符返回每一行。\n",
    "\n",
    "    参数:\n",
    "    f (file-like object): 输入的文件对象。\n",
    "    newline (str): 自定义的换行符，用于分隔每一行的内容。\n",
    "\n",
    "    生成器:\n",
    "    每次调用 `yield` 会返回文件中的一行（根据自定义的换行符 `newline`）。\n",
    "\n",
    "    说明:\n",
    "    该函数会读取文件的内容，将其拆分为由 `newline` 分隔的行，并通过 `yield` 返回每一行。\n",
    "    如果文件中没有剩余内容，最后会返回剩余的 `buf`。\n",
    "    \"\"\"\n",
    "\n",
    "    # 用于累积从文件中读取的内容。\n",
    "    buf = \"\"  \n",
    "    \n",
    "    # 无限循环，直到文件读取完毕\n",
    "    while True:\n",
    "        # 当 buf 中包含自定义的换行符时，处理并返回这一行内容\n",
    "        while newline in buf:\n",
    "            # 查找换行符的位置\n",
    "            pos = buf.index(newline)\n",
    "             # 返回从开始到换行符之前的内容作为一行\n",
    "            yield buf[:pos]\n",
    "             # 更新 buf，将已处理的部分去除\n",
    "            buf = buf[pos + len(newline):]\n",
    "        \n",
    "        # 从文件中读取 40960 字节（10 个 4096 字节块）\n",
    "        chunk = f.read(4096 * 10) \n",
    "        \n",
    "        # 如果没有读取到更多内容，返回剩余的 buf 内容并结束循环\n",
    "        if not chunk:\n",
    "            yield buf\n",
    "            break\n",
    "        \n",
    "        # 将读取的 chunk 拼接到 buf 中\n",
    "        buf += chunk\n",
    "\n",
    "# 使用示例：打开文件并按自定义的换行符逐行打印内容\n",
    "with open(\"input.txt\") as f:\n",
    "    for line in my_read_lines(f, \"{|}\"):\n",
    "        print(line)"
   ]
  }
 ],
 "metadata": {
  "kernelspec": {
   "display_name": "Python 3",
   "language": "python",
   "name": "python3"
  },
  "language_info": {
   "codemirror_mode": {
    "name": "ipython",
    "version": 3
   },
   "file_extension": ".py",
   "mimetype": "text/x-python",
   "name": "python",
   "nbconvert_exporter": "python",
   "pygments_lexer": "ipython3",
   "version": "3.8.10"
  }
 },
 "nbformat": 4,
 "nbformat_minor": 2
}
